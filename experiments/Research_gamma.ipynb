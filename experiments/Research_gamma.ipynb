{
 "nbformat": 4,
 "nbformat_minor": 0,
 "metadata": {
  "colab": {
   "name": "Research_gamma.ipynb",
   "provenance": [],
   "include_colab_link": true
  },
  "kernelspec": {
   "name": "python3",
   "language": "python",
   "display_name": "Python 3"
  },
  "language_info": {
   "codemirror_mode": {
    "name": "ipython",
    "version": 3
   },
   "file_extension": ".py",
   "mimetype": "text/x-python",
   "name": "python",
   "nbconvert_exporter": "python",
   "pygments_lexer": "ipython3",
   "version": "3.7.4"
  },
  "pycharm": {
   "stem_cell": {
    "cell_type": "raw",
    "source": [],
    "metadata": {
     "collapsed": false
    }
   }
  }
 },
 "cells": [
  {
   "cell_type": "markdown",
   "metadata": {
    "id": "view-in-github",
    "colab_type": "text"
   },
   "source": [
    "<a href=\"https://colab.research.google.com/github/DmitriiDenisov/research_oversampling/blob/master/Research_gamma.ipynb\" target=\"_parent\"><img src=\"https://colab.research.google.com/assets/colab-badge.svg\" alt=\"Open In Colab\"/></a>"
   ]
  },
  {
   "cell_type": "markdown",
   "metadata": {
    "colab_type": "text",
    "id": "ceoNp6jIwqF9"
   },
   "source": [
    "### 1.\n",
    "- One random point\n",
    "- 2D plane"
   ]
  },
  {
   "cell_type": "code",
   "metadata": {
    "colab_type": "code",
    "id": "cFtdgA2OwqGB",
    "colab": {},
    "pycharm": {
     "is_executing": false
    }
   },
   "source": [
    "import math\n",
    "import itertools\n",
    "import numpy as np\n",
    "import matplotlib.pyplot as plt\n",
    "from collections import defaultdict"
   ],
   "execution_count": 1,
   "outputs": []
  },
  {
   "cell_type": "code",
   "metadata": {
    "colab_type": "code",
    "id": "xj8E-lLawqGG",
    "colab": {},
    "pycharm": {
     "is_executing": false
    }
   },
   "source": [
    "# Generates random point in rectangle [xy_min; xy_max]\n",
    "def generate_random_point(n=2, xy_min=[0, 0], xy_max=[10, 20]):\n",
    "    data = np.random.uniform(low=xy_min, high=xy_max, size=(n,2))\n",
    "    return data\n",
    "\n",
    "# Returns directional vector\n",
    "def get_vector_two_points(two_points):\n",
    "    return two_points[1] - two_points[0]"
   ],
   "execution_count": 2,
   "outputs": []
  },
  {
   "cell_type": "code",
   "metadata": {
    "colab_type": "code",
    "id": "M3UixHUFwqGJ",
    "outputId": "b1005b41-bab2-4ed6-99fe-8e1709508ec6",
    "colab": {
     "base_uri": "https://localhost:8080/",
     "height": 68
    },
    "pycharm": {
     "is_executing": false
    }
   },
   "source": [
    "# Generate two Random point2:\n",
    "two_points = generate_random_point(n=2, xy_min=[0, 0], xy_max=[10, 20])\n",
    "print(two_points)\n",
    "# get vector for these two points\n",
    "v = get_vector_two_points(two_points)\n",
    "print(v)"
   ],
   "execution_count": 3,
   "outputs": [
    {
     "name": "stdout",
     "text": [
      "[[ 7.71237912 13.62613477]\n [ 0.6360343  10.31233033]]\n[-7.07634481 -3.31380444]\n"
     ],
     "output_type": "stream"
    }
   ]
  },
  {
   "cell_type": "code",
   "metadata": {
    "colab_type": "code",
    "id": "q7PLtegIwqGO",
    "outputId": "369750d8-c110-441b-f942-28e61a2bf7d3",
    "colab": {
     "base_uri": "https://localhost:8080/",
     "height": 297
    },
    "pycharm": {
     "is_executing": false
    }
   },
   "source": [
    "# JUST CHECKING how Gamma dist is look like\n",
    "\n",
    "N_points = 100000\n",
    "n_bins = 20\n",
    "\n",
    "shape, scale = 1., 3.  # mean=4, std=2*sqrt(2)\n",
    "s = np.random.gamma(shape, scale, 10000)\n",
    "\n",
    "\n",
    "fig, axs = plt.subplots(1, 2, sharey=True, tight_layout=True)\n",
    "\n",
    "# We can set the number of bins with the `bins` kwarg\n",
    "axs[0].hist(s, bins=n_bins)\n",
    "axs[1].hist(s, bins=2*n_bins)\n",
    "plt.show()"
   ],
   "execution_count": 4,
   "outputs": [
    {
     "data": {
      "text/plain": "<Figure size 432x288 with 2 Axes>",
      "image/png": "[encoded data removed]"
     },
     "metadata": {
      "needs_background": "light"
     },
     "output_type": "display_data"
    }
   ]
  },
  {
   "cell_type": "code",
   "metadata": {
    "colab_type": "code",
    "id": "xbE6rxDwwqGT",
    "colab": {},
    "pycharm": {
     "is_executing": false
    }
   },
   "source": [
    "# Generates normilized Gamma distributed value\n",
    "def generate_gamma():\n",
    "    shape, scale = 1., 3.\n",
    "    s = np.random.gamma(shape, scale, 1)[0]\n",
    "    if (s > 20): # заглушка пока что\n",
    "        s = 20\n",
    "    s = s / 20\n",
    "    return s"
   ],
   "execution_count": 5,
   "outputs": []
  },
  {
   "cell_type": "code",
   "metadata": {
    "colab_type": "code",
    "id": "KKsixbezwqGW",
    "colab": {},
    "pycharm": {
     "is_executing": false
    }
   },
   "source": [
    "gamma_coeff = generate_gamma()"
   ],
   "execution_count": 6,
   "outputs": []
  },
  {
   "cell_type": "code",
   "metadata": {
    "colab_type": "code",
    "id": "lCMR509_wqGY",
    "colab": {},
    "pycharm": {
     "is_executing": false
    }
   },
   "source": [
    "# Generates new point on line between two initial points\n",
    "def generate_point_on_line(start_point, v, gamma_coeff):\n",
    "    return start_point + v * gamma_coeff"
   ],
   "execution_count": 7,
   "outputs": []
  },
  {
   "cell_type": "code",
   "metadata": {
    "colab_type": "code",
    "id": "AGFA0DRwwqGa",
    "colab": {},
    "pycharm": {
     "is_executing": false
    }
   },
   "source": [
    "generated_point = generate_point_on_line(two_points[0], v, gamma_coeff)"
   ],
   "execution_count": 8,
   "outputs": []
  },
  {
   "cell_type": "code",
   "metadata": {
    "colab_type": "code",
    "id": "hV2LVHKPwqGc",
    "outputId": "4c5486eb-99db-4748-b985-e62be901c6d6",
    "colab": {
     "base_uri": "https://localhost:8080/",
     "height": 68
    },
    "pycharm": {
     "is_executing": false
    }
   },
   "source": [
    "# For visualazion:\n",
    "initial_points_and_generated = np.concatenate((two_points, generated_point[np.newaxis, :]), axis=0)\n",
    "initial_points_and_generated"
   ],
   "execution_count": 9,
   "outputs": [
    {
     "data": {
      "text/plain": "array([[ 7.71237912, 13.62613477],\n       [ 0.6360343 , 10.31233033],\n       [ 7.16232493, 13.36854811]])"
     },
     "metadata": {},
     "output_type": "execute_result",
     "execution_count": 9
    }
   ]
  },
  {
   "cell_type": "code",
   "metadata": {
    "colab_type": "code",
    "id": "JNkG2gHZwqGf",
    "outputId": "24510eb8-1531-4fb8-c9aa-a2e50bc30781",
    "colab": {
     "base_uri": "https://localhost:8080/",
     "height": 264
    },
    "pycharm": {
     "is_executing": false
    }
   },
   "source": [
    "import matplotlib.pyplot as plt\n",
    "plt.style.use('seaborn-whitegrid')\n",
    "import numpy as np\n",
    "\n",
    "\n",
    "initial_x, initial_y = map(list, zip(*two_points))\n",
    "generated_x, generated_y = map(list, zip(*generated_point[np.newaxis, :]))\n",
    "\n",
    "plt.plot(initial_x, initial_y, 'o', color='blue');\n",
    "plt.plot(generated_x, generated_y, 'o', color='red');"
   ],
   "execution_count": 10,
   "outputs": [
    {
     "data": {
      "text/plain": "<Figure size 432x288 with 1 Axes>",
      "image/png": "[encoded data removed]"
     },
     "metadata": {},
     "output_type": "display_data"
    }
   ]
  },
  {
   "cell_type": "markdown",
   "metadata": {
    "colab_type": "text",
    "id": "QbIYZaRswqGh"
   },
   "source": [
    "## 2.\n",
    "- Multiple Random points\n",
    "- 2D plane"
   ]
  },
  {
   "cell_type": "code",
   "metadata": {
    "colab_type": "code",
    "id": "Uxoi3AJFwqGi",
    "colab": {},
    "pycharm": {
     "is_executing": false
    }
   },
   "source": [
    "NUM_RAND_POINTS = 20"
   ],
   "execution_count": 11,
   "outputs": []
  },
  {
   "cell_type": "code",
   "metadata": {
    "colab_type": "code",
    "id": "nlF6k1ZFwqGl",
    "outputId": "b0b3c523-9d39-41c1-9449-0df07aa4800c",
    "colab": {
     "base_uri": "https://localhost:8080/",
     "height": 68
    },
    "pycharm": {
     "is_executing": false
    }
   },
   "source": [
    "# Generate two Random point2:\n",
    "two_points = generate_random_point(n=2, xy_min=[0, 0], xy_max=[10, 20])\n",
    "print(two_points)\n",
    "# get vector for these two points\n",
    "v = get_vector_two_points(two_points)\n",
    "print(v)"
   ],
   "execution_count": 12,
   "outputs": [
    {
     "name": "stdout",
     "text": [
      "[[ 1.73007817 13.94103643]\n [ 8.08050487  8.77387994]]\n[ 6.3504267  -5.16715649]\n"
     ],
     "output_type": "stream"
    }
   ]
  },
  {
   "cell_type": "code",
   "metadata": {
    "colab_type": "code",
    "id": "aCb58R_bwqGn",
    "colab": {},
    "pycharm": {
     "is_executing": false
    }
   },
   "source": [
    "gamma_coeff = generate_gamma()\n",
    "\n",
    "generated_points = generate_point_on_line(two_points[0], v, gamma_coeff)[np.newaxis, :]\n",
    "\n",
    "for i in range(NUM_RAND_POINTS - 1):\n",
    "    gamma_coeff = generate_gamma()\n",
    "    generated_points = np.concatenate((generate_point_on_line(two_points[0], v, gamma_coeff)[np.newaxis, :], generated_points),\n",
    "                                      axis=0)"
   ],
   "execution_count": 13,
   "outputs": []
  },
  {
   "cell_type": "code",
   "metadata": {
    "colab_type": "code",
    "id": "GeM-TwMzwqGp",
    "outputId": "87b2992e-20bb-4640-d5bf-738c1d1dfa2a",
    "colab": {
     "base_uri": "https://localhost:8080/",
     "height": 262
    },
    "pycharm": {
     "is_executing": false
    }
   },
   "source": [
    "import matplotlib.pyplot as plt\n",
    "plt.style.use('seaborn-whitegrid')\n",
    "import numpy as np\n",
    "\n",
    "\n",
    "initial_x, initial_y = map(list, zip(*two_points))\n",
    "generated_x, generated_y = map(list, zip(*generated_points))\n",
    "\n",
    "plt.plot(initial_x, initial_y, 'o', color='blue');\n",
    "plt.plot(generated_x, generated_y, 'o', color='red');\n",
    "plt.plot(initial_x, initial_y, '-');"
   ],
   "execution_count": 14,
   "outputs": [
    {
     "data": {
      "text/plain": "<Figure size 432x288 with 1 Axes>",
      "image/png": "[encoded data removed]"
     },
     "metadata": {},
     "output_type": "display_data"
    }
   ]
  },
  {
   "cell_type": "code",
   "metadata": {
    "colab_type": "code",
    "id": "rEgHAkUMwqGs",
    "outputId": "cf79db24-05f7-4a1e-b325-8bda5e39e9b9",
    "colab": {
     "base_uri": "https://localhost:8080/",
     "height": 357
    },
    "pycharm": {
     "is_executing": false
    }
   },
   "source": [
    "generated_points"
   ],
   "execution_count": 15,
   "outputs": [
    {
     "data": {
      "text/plain": "array([[ 2.2254007 , 13.53800698],\n       [ 1.8444208 , 13.84799918],\n       [ 4.08666407, 12.0235514 ],\n       [ 2.27573086, 13.49705479],\n       [ 1.92426542, 13.78303195],\n       [ 2.09504255, 13.64407559],\n       [ 2.73055889, 13.12697453],\n       [ 2.25778846, 13.511654  ],\n       [ 2.28446156, 13.48995088],\n       [ 6.34177043, 10.18863731],\n       [ 2.56615785, 13.26074285],\n       [ 2.03191922, 13.6954372 ],\n       [ 2.03337468, 13.69425293],\n       [ 2.16107975, 13.59034305],\n       [ 2.56151009, 13.2645246 ],\n       [ 2.83323226, 13.04343221],\n       [ 2.6351772 , 13.20458382],\n       [ 2.15488365, 13.59538463],\n       [ 2.7693122 , 13.09544209],\n       [ 1.78724608, 13.89452058]])"
     },
     "metadata": {},
     "output_type": "execute_result",
     "execution_count": 15
    }
   ]
  },
  {
   "cell_type": "code",
   "metadata": {
    "colab_type": "code",
    "id": "SpZbCFw2wqGu",
    "outputId": "ac2368c5-db30-4187-8754-dc1b60b3dbe4",
    "colab": {
     "base_uri": "https://localhost:8080/",
     "height": 51
    },
    "pycharm": {
     "is_executing": false
    }
   },
   "source": [
    "two_points"
   ],
   "execution_count": 16,
   "outputs": [
    {
     "data": {
      "text/plain": "array([[ 1.73007817, 13.94103643],\n       [ 8.08050487,  8.77387994]])"
     },
     "metadata": {},
     "output_type": "execute_result",
     "execution_count": 16
    }
   ]
  },
  {
   "cell_type": "markdown",
   "metadata": {
    "id": "kiHiauI-DGR-",
    "colab_type": "text"
   },
   "source": [
    "## 3.\n",
    "- One Random point\n",
    "- n dimentional space"
   ]
  },
  {
   "cell_type": "code",
   "metadata": {
    "id": "EotpYc2OC6AC",
    "colab_type": "code",
    "colab": {},
    "pycharm": {
     "is_executing": false
    }
   },
   "source": [
    "# Generates n random points in hypercube [xy_min; xy_max]\n",
    "def generate_random_point_nd(num_points=2, n=10, min_=0, max_=10):\n",
    "    xy_min = [min_] * n\n",
    "    xy_max = [max_] * n\n",
    "    data = np.random.uniform(low=xy_min, high=xy_max, size=(num_points, n))\n",
    "    return data"
   ],
   "execution_count": 17,
   "outputs": []
  },
  {
   "cell_type": "code",
   "metadata": {
    "id": "m6AoFrI0C6AE",
    "colab_type": "code",
    "outputId": "d6640668-480c-40bc-a3a6-56adfba1216a",
    "colab": {
     "base_uri": "https://localhost:8080/",
     "height": 119
    },
    "pycharm": {
     "is_executing": false
    }
   },
   "source": [
    "two_points_nd = generate_random_point_nd(num_points=2, n=10)\n",
    "assert two_points_nd.shape[0] == 2\n",
    "assert two_points_nd.shape[1] == 10\n",
    "print(two_points_nd)\n",
    "# get vector for these two points\n",
    "v = get_vector_two_points(two_points_nd)\n",
    "print(v)"
   ],
   "execution_count": 18,
   "outputs": [
    {
     "name": "stdout",
     "text": [
      "[[2.23771905 9.01006893 6.43132648 6.77674915 0.29235922 6.80838343\n  7.441276   1.77340876 3.00193064 2.70271913]\n [9.9260083  1.62157718 2.20636596 0.83185377 3.11178952 5.60342623\n  0.75377314 0.82897134 1.88898048 1.37261227]]\n[ 7.68828926 -7.38849175 -4.22496052 -5.94489538  2.81943029 -1.2049572\n -6.68750286 -0.94443743 -1.11295016 -1.33010686]\n"
     ],
     "output_type": "stream"
    }
   ]
  },
  {
   "cell_type": "code",
   "metadata": {
    "id": "V1VnnyPkC6AH",
    "colab_type": "code",
    "colab": {},
    "pycharm": {
     "is_executing": false
    }
   },
   "source": [
    "gamma_coeff = generate_gamma()"
   ],
   "execution_count": 19,
   "outputs": []
  },
  {
   "cell_type": "code",
   "metadata": {
    "id": "rPKzf0DHC6AK",
    "colab_type": "code",
    "outputId": "b8271677-6d95-49f5-a758-093327b05b9c",
    "colab": {
     "base_uri": "https://localhost:8080/",
     "height": 51
    },
    "pycharm": {
     "is_executing": false
    }
   },
   "source": [
    "generated_point = generate_point_on_line(two_points_nd[0], v, gamma_coeff)\n",
    "generated_point"
   ],
   "execution_count": 20,
   "outputs": [
    {
     "data": {
      "text/plain": "array([2.44963409, 8.80641732, 6.31487239, 6.61288789, 0.37007218,\n       6.77517077, 7.25694599, 1.7473769 , 2.971254  , 2.66605692])"
     },
     "metadata": {},
     "output_type": "execute_result",
     "execution_count": 20
    }
   ]
  },
  {
   "cell_type": "code",
   "metadata": {
    "id": "QDMg6JFiC6AN",
    "colab_type": "code",
    "colab": {},
    "pycharm": {
     "is_executing": false
    }
   },
   "source": [
    "def test_points_on_line(p1, p2, list_p3, tol=10):\n",
    "    # Calculate two vectors and check if they are collinear\n",
    "    if len(list_p3.shape) == 1:\n",
    "        list_p3 = list_p3[np.newaxis, :]\n",
    "    vec_1 = p2 - p1\n",
    "    for p3 in list_p3:\n",
    "        vec_2 = (p3 - p1) / vec_1\n",
    "        # take unique values\n",
    "        unique_arr = np.unique(vec_2[~np.isnan(vec_2)].round(decimals=tol))\n",
    "        if len(unique_arr) > 1:\n",
    "          return False\n",
    "        # Check that if nan then there were two zeros\n",
    "        idx = np.where(~np.isfinite(vec_2))[0]\n",
    "        if idx.size:\n",
    "          if not (all((p3 - p1)[idx] == vec_1[idx]) and all(vec_1[idx] == 0)):\n",
    "            return False\n",
    "        return True\n",
    "    return True"
   ],
   "execution_count": 21,
   "outputs": []
  },
  {
   "cell_type": "code",
   "metadata": {
    "id": "SNsVSAMrC6AP",
    "colab_type": "code",
    "colab": {},
    "pycharm": {
     "is_executing": false
    }
   },
   "source": [
    "# Testing\n",
    "assert test_points_on_line(two_points_nd[0], two_points_nd[1], generated_point)"
   ],
   "execution_count": 22,
   "outputs": []
  },
  {
   "cell_type": "markdown",
   "metadata": {
    "id": "m21QYjwyC6AR",
    "colab_type": "text"
   },
   "source": [
    "## 4.\n",
    "- Multiple Random points\n",
    "- n dimentional space"
   ]
  },
  {
   "cell_type": "code",
   "metadata": {
    "id": "0C4GHi0qC6AS",
    "colab_type": "code",
    "colab": {},
    "pycharm": {
     "is_executing": false
    }
   },
   "source": [
    "NUM_RAND_POINTS = 20\n",
    "N_FEATURES = 10"
   ],
   "execution_count": 23,
   "outputs": []
  },
  {
   "cell_type": "code",
   "metadata": {
    "id": "2lRnpsMfC6AX",
    "colab_type": "code",
    "outputId": "ec68088e-e5ab-4468-904d-1fb3a35309ed",
    "colab": {
     "base_uri": "https://localhost:8080/",
     "height": 119
    },
    "pycharm": {
     "is_executing": false
    }
   },
   "source": [
    "two_points_nd = generate_random_point_nd(num_points=2, n=N_FEATURES)\n",
    "assert two_points_nd.shape[0] == 2\n",
    "assert two_points_nd.shape[1] == N_FEATURES\n",
    "print(two_points_nd)\n",
    "# get vector for these two points\n",
    "v = get_vector_two_points(two_points_nd)\n",
    "print(v)"
   ],
   "execution_count": 24,
   "outputs": [
    {
     "name": "stdout",
     "text": [
      "[[9.75891661 0.16675255 1.89851805 1.67348149 7.52901742 9.90405387\n  6.56781737 4.51821545 5.03117449 2.12391792]\n [7.51073237 9.40493974 5.60837589 9.474033   4.85549314 5.66412081\n  4.46107096 1.86718046 7.42952895 5.414907  ]]\n[-2.24818424  9.23818719  3.70985784  7.80055151 -2.67352428 -4.23993306\n -2.1067464  -2.65103499  2.39835446  3.29098908]\n"
     ],
     "output_type": "stream"
    }
   ]
  },
  {
   "cell_type": "code",
   "metadata": {
    "id": "n81Z09lSC6AY",
    "colab_type": "code",
    "colab": {},
    "pycharm": {
     "is_executing": false
    }
   },
   "source": [
    "gamma_coeff = generate_gamma()\n",
    "\n",
    "generated_points = generate_point_on_line(two_points_nd[0], v, gamma_coeff)[np.newaxis, :]\n",
    "\n",
    "for i in range(NUM_RAND_POINTS - 1):\n",
    "    gamma_coeff = generate_gamma()\n",
    "    generated_points = np.concatenate((generate_point_on_line(two_points_nd[0], v, gamma_coeff)[np.newaxis, :], generated_points),\n",
    "                                      axis=0)\n",
    "    \n",
    "assert generated_points.shape[0] == NUM_RAND_POINTS\n",
    "assert generated_points.shape[1] == N_FEATURES"
   ],
   "execution_count": 25,
   "outputs": []
  },
  {
   "cell_type": "code",
   "metadata": {
    "id": "utp47DF5C6Aa",
    "colab_type": "code",
    "colab": {},
    "pycharm": {
     "is_executing": false
    }
   },
   "source": [
    "assert test_points_on_line(two_points_nd[0], two_points_nd[1], generated_points)"
   ],
   "execution_count": 26,
   "outputs": []
  },
  {
   "cell_type": "markdown",
   "metadata": {
    "id": "tPIGqFa0Vau1",
    "colab_type": "text"
   },
   "source": [
    "## 5.\n",
    "- Generalization of the approach for n minority points for n dimentional space"
   ]
  },
  {
   "cell_type": "code",
   "metadata": {
    "id": "MDcrbXCfC6Ad",
    "colab_type": "code",
    "colab": {},
    "pycharm": {
     "is_executing": false
    }
   },
   "source": [
    "NUM_RAND_POINTS = 20\n",
    "NUM_MINORITY_POINTS = 5\n",
    "N_FEATURES = 10\n",
    "NUM_TO_ADD = 15"
   ],
   "execution_count": 27,
   "outputs": []
  },
  {
   "cell_type": "code",
   "metadata": {
    "id": "EExNjG9DVkwG",
    "colab_type": "code",
    "colab": {},
    "pycharm": {
     "is_executing": false
    }
   },
   "source": [
    "minority_points_nd = generate_random_point_nd(num_points=NUM_MINORITY_POINTS, n=N_FEATURES)\n",
    "assert minority_points_nd.shape[0] == NUM_MINORITY_POINTS\n",
    "assert minority_points_nd.shape[1] == N_FEATURES\n",
    "# print(two_points_nd)\n",
    "# get vector for these two points\n",
    "# v = get_vector_two_points(N_points_nd)\n",
    "# print(v)"
   ],
   "execution_count": 28,
   "outputs": []
  },
  {
   "cell_type": "code",
   "metadata": {
    "id": "dfysGk0TNnzp",
    "colab_type": "code",
    "colab": {},
    "pycharm": {
     "is_executing": false
    }
   },
   "source": [
    "def generate_points_for_n_minority(minority_points, num_to_add):\n",
    "  n_features = minority_points.shape[1]\n",
    "  dict_ans = defaultdict(lambda: np.array([]).reshape(0, n_features))\n",
    "  # Choose random pairs with repetition:\n",
    "  all_comb = np.array(list(itertools.combinations(range(len(minority_points)), r=2)))\n",
    "  rand_idx = np.random.choice(range(len(all_comb)), num_to_add, replace=True)\n",
    "  assert rand_idx.shape == (num_to_add, )\n",
    "  # print(rand_idx)\n",
    "  # print(all_comb)\n",
    "  all_comb = all_comb[rand_idx]\n",
    "  # assert random_choice_minority.shape[0] == num_to_add and random_choice_minority.shape[1] == 2\n",
    "  for i, (idx1, idx2) in enumerate(all_comb):\n",
    "    v = get_vector_two_points([minority_points[idx1], minority_points[idx2]])\n",
    "    gamma_coeff = generate_gamma()\n",
    "    generated_point = generate_point_on_line(minority_points[idx1], v, gamma_coeff)\n",
    "    minority_points = np.concatenate((minority_points, generated_point[np.newaxis, :]), axis=0)\n",
    "    dict_ans[tuple(all_comb[i])] = np.vstack([dict_ans[tuple(all_comb[i])], generated_point])\n",
    "    \n",
    "  return minority_points, dict_ans # return concatenated initial+generated points and dict for testing\n"
   ],
   "execution_count": 29,
   "outputs": []
  },
  {
   "cell_type": "code",
   "metadata": {
    "id": "WYvEtCeSWeSQ",
    "colab_type": "code",
    "colab": {},
    "pycharm": {
     "is_executing": false
    }
   },
   "source": [
    "minority_points, dict_ans = generate_points_for_n_minority(minority_points_nd, num_to_add=NUM_TO_ADD)"
   ],
   "execution_count": 30,
   "outputs": []
  },
  {
   "cell_type": "code",
   "metadata": {
    "id": "NVQY5-ApMX82",
    "colab_type": "code",
    "outputId": "40974c0b-2847-4bcd-a836-1d114fbad97b",
    "colab": {
     "base_uri": "https://localhost:8080/",
     "height": 187
    },
    "pycharm": {
     "is_executing": false
    }
   },
   "source": [
    "minority_points_nd"
   ],
   "execution_count": 31,
   "outputs": [
    {
     "data": {
      "text/plain": "array([[5.97573821, 6.80227168, 7.68917798, 6.3062701 , 4.32099569,\n        3.87517652, 9.6065836 , 6.32732803, 2.97019576, 0.36655715],\n       [3.59606926, 7.65816546, 8.64427442, 5.68664559, 2.94524222,\n        2.32742557, 2.80226307, 7.23351198, 3.39339972, 5.84203615],\n       [0.25049098, 8.74530984, 6.12544959, 9.80237256, 1.54228462,\n        7.62747247, 0.9252579 , 1.54160188, 8.47574585, 7.97992957],\n       [5.89415014, 6.29451856, 1.75378294, 1.98420473, 8.19443599,\n        7.6730696 , 1.93987945, 5.85896336, 8.77865779, 0.31367552],\n       [4.07444226, 3.98980277, 9.43818592, 9.88002305, 9.13908262,\n        9.30270935, 7.75213929, 8.15727095, 9.94980216, 9.86632539]])"
     },
     "metadata": {},
     "output_type": "execute_result",
     "execution_count": 31
    }
   ]
  },
  {
   "cell_type": "code",
   "metadata": {
    "id": "S8RcLIBLMZid",
    "colab_type": "code",
    "outputId": "eb9729aa-63cf-4008-c900-58c974d62342",
    "colab": {
     "base_uri": "https://localhost:8080/",
     "height": 697
    },
    "pycharm": {
     "is_executing": false
    }
   },
   "source": [
    "minority_points"
   ],
   "execution_count": 32,
   "outputs": [
    {
     "data": {
      "text/plain": "array([[5.97573821, 6.80227168, 7.68917798, 6.3062701 , 4.32099569,\n        3.87517652, 9.6065836 , 6.32732803, 2.97019576, 0.36655715],\n       [3.59606926, 7.65816546, 8.64427442, 5.68664559, 2.94524222,\n        2.32742557, 2.80226307, 7.23351198, 3.39339972, 5.84203615],\n       [0.25049098, 8.74530984, 6.12544959, 9.80237256, 1.54228462,\n        7.62747247, 0.9252579 , 1.54160188, 8.47574585, 7.97992957],\n       [5.89415014, 6.29451856, 1.75378294, 1.98420473, 8.19443599,\n        7.6730696 , 1.93987945, 5.85896336, 8.77865779, 0.31367552],\n       [4.07444226, 3.98980277, 9.43818592, 9.88002305, 9.13908262,\n        9.30270935, 7.75213929, 8.15727095, 9.94980216, 9.86632539],\n       [1.13764581, 7.64203452, 6.8940028 , 9.82038743, 3.30473804,\n        8.01612661, 2.50909105, 3.07643387, 8.8177262 , 8.41757248],\n       [5.71827953, 6.89487166, 7.79251079, 6.23923233, 4.17215159,\n        3.70772384, 8.87041758, 6.42536894, 3.01598261, 0.95895452],\n       [4.2357554 , 7.39278819, 7.21393902, 7.3687846 , 3.47650648,\n        5.01555181, 6.96820714, 4.87287883, 4.64340954, 2.68036765],\n       [4.02848731, 7.40157505, 7.34772611, 4.98997636, 3.93295598,\n        3.33328788, 2.63999278, 6.97487024, 4.406716  , 4.801793  ],\n       [5.69138276, 6.89877642, 7.61151239, 6.47991078, 4.18298564,\n        4.06154153, 9.1754088 , 6.0896357 , 3.24363953, 0.74468998],\n       [4.87298247, 7.19889903, 8.13177655, 6.01913164, 3.68346162,\n        3.15793758, 6.45341244, 6.7472602 , 3.16631152, 2.90393357],\n       [5.56343264, 5.87565471, 3.15036234, 3.4192072 , 8.36611804,\n        7.96924372, 2.99621166, 6.27666257, 8.99150401, 2.04979401],\n       [5.78539817, 6.15678086, 2.21302914, 2.45608584, 8.25089131,\n        7.77046245, 2.28723998, 5.99631808, 8.84864939, 0.88457455],\n       [0.44035612, 8.66285981, 5.97837709, 9.53935215, 1.76607766,\n        7.62900646, 0.95939201, 1.68684744, 8.48593648, 7.72201988],\n       [0.85094797, 7.99857505, 6.64563291, 9.81456565, 2.73517388,\n        7.89052699, 1.9972508 , 2.58042911, 8.70720995, 8.27614139],\n       [2.27606609, 7.86569225, 4.55640743, 6.99634091, 3.92981935,\n        7.64383781, 1.28941741, 3.09115328, 8.58446448, 5.22842155],\n       [0.84088538, 8.48892769, 5.66812086, 8.98449849, 2.23817939,\n        7.63224248, 1.03139948, 1.99324964, 8.50743407, 7.17794751],\n       [1.19707967, 8.43771621, 6.83811894, 8.63788012, 1.93923357,\n        6.12789182, 1.45633257, 3.15205522, 7.03776086, 7.37503991],\n       [4.77635359, 4.87879498, 6.47410053, 6.83438895, 8.77470646,\n        8.67411252, 5.51019095, 7.27075056, 9.4980596 , 6.18160583],\n       [3.66773456, 7.10860622, 8.7632107 , 6.31485756, 3.87314454,\n        3.37239632, 3.54380649, 7.37190077, 4.37561764, 6.44491693]])"
     },
     "metadata": {},
     "output_type": "execute_result",
     "execution_count": 32
    }
   ]
  },
  {
   "cell_type": "code",
   "metadata": {
    "id": "Y3orJL1Obqpq",
    "colab_type": "code",
    "colab": {},
    "pycharm": {
     "is_executing": false
    }
   },
   "source": [
    "# testing:\n",
    "n_points = 0\n",
    "for key, points in dict_ans.items():\n",
    "  for point in points:\n",
    "    n_points+=1\n",
    "    assert test_points_on_line(minority_points_nd[key[1]], minority_points_nd[key[0]], point)\n",
    "assert n_points == NUM_TO_ADD"
   ],
   "execution_count": 33,
   "outputs": []
  },
  {
   "cell_type": "markdown",
   "metadata": {
    "id": "F2prKsNU3E6O",
    "colab_type": "text"
   },
   "source": [
    "## 6.\n",
    "- Gamma distribution with negative values"
   ]
  },
  {
   "cell_type": "code",
   "metadata": {
    "id": "zSDn1PXx3PFV",
    "colab_type": "code",
    "colab": {},
    "pycharm": {
     "is_executing": false
    }
   },
   "source": [
    "NUM_POINTS = 50"
   ],
   "execution_count": 34,
   "outputs": []
  },
  {
   "cell_type": "code",
   "metadata": {
    "id": "UZcmopzC3Q15",
    "colab_type": "code",
    "outputId": "e4f89c90-8015-43ba-b2ea-c7db5ec4d673",
    "colab": {
     "base_uri": "https://localhost:8080/",
     "height": 68
    },
    "pycharm": {
     "is_executing": false
    }
   },
   "source": [
    "# Generate two Random point2:\n",
    "two_points = generate_random_point(n=2, xy_min=[0, 0], xy_max=[10, 20])\n",
    "print(two_points)\n",
    "# get vector for these two points\n",
    "v = get_vector_two_points(two_points)\n",
    "print(v)"
   ],
   "execution_count": 35,
   "outputs": [
    {
     "name": "stdout",
     "text": [
      "[[1.59063843e-02 1.38319884e+01]\n [4.60203757e+00 1.68090985e+01]]\n[4.58613119 2.97711006]\n"
     ],
     "output_type": "stream"
    }
   ]
  },
  {
   "cell_type": "code",
   "metadata": {
    "id": "3BLx8Eag3W5s",
    "colab_type": "code",
    "colab": {},
    "pycharm": {
     "is_executing": false
    }
   },
   "source": [
    "def max_pdf_gamma(k, theta):\n",
    "  return (k-1) * theta\n",
    "\n",
    "def generate_gamma_negative():\n",
    "    k, theta = 3, 2.1\n",
    "    s = np.random.gamma(k, theta, 1)[0]\n",
    "    s = s - max_pdf_gamma(k, theta) # shift by X axis\n",
    "    if (s > 20): # заглушка пока что\n",
    "        s = 20\n",
    "    s = s / 20\n",
    "    return s"
   ],
   "execution_count": 36,
   "outputs": []
  },
  {
   "cell_type": "code",
   "metadata": {
    "id": "zB7BPYZQ1_J4",
    "colab_type": "code",
    "colab": {},
    "pycharm": {
     "is_executing": false
    }
   },
   "source": [
    "gamma_coeff = generate_gamma_negative()\n",
    "\n",
    "generated_points = generate_point_on_line(two_points[0], v, gamma_coeff)[np.newaxis, :]\n",
    "\n",
    "for i in range(NUM_POINTS - 1):\n",
    "    gamma_coeff = generate_gamma_negative()\n",
    "    generated_points = np.concatenate((generate_point_on_line(two_points[0], v, gamma_coeff)[np.newaxis, :], generated_points),\n",
    "                                      axis=0)"
   ],
   "execution_count": 37,
   "outputs": []
  },
  {
   "cell_type": "code",
   "metadata": {
    "id": "VdwdBtmV2AQA",
    "colab_type": "code",
    "outputId": "76686ef2-91d5-4b58-b477-f7ea6151963d",
    "colab": {
     "base_uri": "https://localhost:8080/",
     "height": 262
    },
    "pycharm": {
     "is_executing": false
    }
   },
   "source": [
    "import matplotlib.pyplot as plt\n",
    "plt.style.use('seaborn-whitegrid')\n",
    "import numpy as np\n",
    "\n",
    "\n",
    "initial_x, initial_y = map(list, zip(*two_points))\n",
    "generated_x, generated_y = map(list, zip(*generated_points))\n",
    "\n",
    "plt.plot(initial_x, initial_y, 'o', color='blue');\n",
    "plt.plot(generated_x, generated_y, '.', color='red');\n",
    "plt.plot(initial_x, initial_y, '-');"
   ],
   "execution_count": 38,
   "outputs": [
    {
     "data": {
      "text/plain": "<Figure size 432x288 with 1 Axes>",
      "image/png": "[encoded data removed]"
     },
     "metadata": {},
     "output_type": "display_data"
    }
   ]
  },
  {
   "cell_type": "markdown",
   "metadata": {
    "id": "ga7oRg5jPawx",
    "colab_type": "text"
   },
   "source": [
    "## 7. Apply to real datasets"
   ]
  },
  {
   "cell_type": "code",
   "metadata": {
    "id": "bxJ_c1cvDDA6",
    "colab_type": "code",
    "outputId": "edf34c18-c543-46f0-eb96-29b1f0208ca1",
    "colab": {
     "base_uri": "https://localhost:8080/",
     "height": 102
    },
    "pycharm": {
     "is_executing": true
    }
   },
   "source": [
    "!pip install imbalanced-learn==0.5"
   ],
   "execution_count": null,
   "outputs": [
    {
     "name": "stdout",
     "text": [
      "\u001b[33mDEPRECATION: Python 2.7 will reach the end of its life on January 1st, 2020. Please upgrade your Python as Python 2.7 won't be maintained after that date. A future version of pip will drop support for Python 2.7.\u001b[0m\r\n",
      "Collecting imbalanced-learn==0.5\r\n",
      "\u001b[?25l  Downloading https://files.pythonhosted.org/packages/e0/87/39a4cecebc7fb9ddb433fe8bc7f76379b4918a0ade91f8a1423dc25c7ddc/imbalanced-learn-0.5.0.tar.gz (43.3MB)\r\n",
      "\r\u001b[K    0% |                                | 10kB 241kB/s eta 0:03:00\r\u001b[K    0% |                                | 20kB 473kB/s eta 0:01:32\r\u001b[K    0% |                                | 30kB 668kB/s eta 0:01:05\r\u001b[K    0% |                                | 40kB 450kB/s eta 0:01:36\r\u001b[K    0% |                                | 51kB 559kB/s eta 0:01:18\r\u001b[K    0% |                                | 61kB 660kB/s eta 0:01:06\r\u001b[K    0% |                                | 71kB 766kB/s eta 0:00:57",
      "\r\u001b[K    0% |                                | 81kB 645kB/s eta 0:01:07\r\u001b[K    0% |                                | 92kB 716kB/s eta 0:01:01\r\u001b[K    0% |                                | 102kB 793kB/s eta 0:00:55\r\u001b[K    0% |                                | 112kB 1.1MB/s eta 0:00:38\r\u001b[K    0% |                                | 122kB 1.1MB/s eta 0:00:39\r\u001b[K    0% |                                | 133kB 1.2MB/s eta 0:00:38\r\u001b[K    0% |                                | 143kB 2.3MB/s eta 0:00:19\r\u001b[K    0% |▏                               | 153kB 2.3MB/s eta 0:00:19\r\u001b[K    0% |▏                               | 163kB 2.4MB/s eta 0:00:19",
      "\r\u001b[K    0% |▏                               | 174kB 1.3MB/s eta 0:00:33\r\u001b[K    0% |▏                               | 184kB 2.2MB/s eta 0:00:20\r\u001b[K    0% |▏                               | 194kB 2.2MB/s eta 0:00:20\r\u001b[K    0% |▏                               | 204kB 2.1MB/s eta 0:00:21\r\u001b[K    0% |▏                               | 215kB 2.2MB/s eta 0:00:20\r\u001b[K    0% |▏                               | 225kB 2.3MB/s eta 0:00:19\r\u001b[K    0% |▏                               | 235kB 2.3MB/s eta 0:00:19\r\u001b[K    0% |▏                               | 245kB 2.2MB/s eta 0:00:20\r\u001b[K    0% |▏                               | 256kB 2.1MB/s eta 0:00:21\r\u001b[K    0% |▏                               | 266kB 2.1MB/s eta 0:00:21\r\u001b[K    0% |▏                               | 276kB 6.6MB/s eta 0:00:07\r\u001b[K    0% |▏                               | 286kB 5.8MB/s eta 0:00:08\r\u001b[K    0% |▏                               | 296kB 5.9MB/s eta 0:00:08",
      "\r\u001b[K    0% |▎                               | 307kB 2.8MB/s eta 0:00:16\r\u001b[K    0% |▎                               | 317kB 2.8MB/s eta 0:00:16\r\u001b[K    0% |▎                               | 327kB 2.8MB/s eta 0:00:16\r\u001b[K    0% |▎                               | 337kB 2.7MB/s eta 0:00:16\r\u001b[K    0% |▎                               | 348kB 3.0MB/s eta 0:00:15\r\u001b[K    0% |▎                               | 358kB 3.1MB/s eta 0:00:14\r\u001b[K    0% |▎                               | 368kB 2.8MB/s eta 0:00:16\r\u001b[K    0% |▎                               | 378kB 2.9MB/s eta 0:00:15\r\u001b[K    0% |▎                               | 389kB 3.2MB/s eta 0:00:14\r\u001b[K    0% |▎                               | 399kB 3.3MB/s eta 0:00:14\r\u001b[K    0% |▎                               | 409kB 9.7MB/s eta 0:00:05\r\u001b[K    0% |▎                               | 419kB 8.7MB/s eta 0:00:05\r\u001b[K    0% |▎                               | 430kB 9.1MB/s eta 0:00:05\r\u001b[K    1% |▎                               | 440kB 9.4MB/s eta 0:00:05\r\u001b[K    1% |▎                               | 450kB 6.0MB/s eta 0:00:08\r\u001b[K    1% |▍                               | 460kB 6.1MB/s eta 0:00:07\r\u001b[K    1% |▍                               | 471kB 7.1MB/s eta 0:00:07\r\u001b[K    1% |▍                               | 481kB 7.1MB/s eta 0:00:07\r\u001b[K    1% |▍                               | 491kB 7.0MB/s eta 0:00:07\r\u001b[K    1% |▍                               | 501kB 6.9MB/s eta 0:00:07\r\u001b[K    1% |▍                               | 512kB 7.2MB/s eta 0:00:06",
      "\r\u001b[K    1% |▍                               | 522kB 3.2MB/s eta 0:00:14\r\u001b[K    1% |▍                               | 532kB 2.9MB/s eta 0:00:15\r\u001b[K    1% |▍                               | 542kB 2.9MB/s eta 0:00:15\r\u001b[K    1% |▍                               | 552kB 3.3MB/s eta 0:00:14\r\u001b[K    1% |▍                               | 563kB 3.3MB/s eta 0:00:14\r\u001b[K    1% |▍                               | 573kB 3.3MB/s eta 0:00:13\r\u001b[K    1% |▍                               | 583kB 3.2MB/s eta 0:00:14\r\u001b[K    1% |▍                               | 593kB 3.2MB/s eta 0:00:14\r\u001b[K    1% |▌                               | 604kB 3.1MB/s eta 0:00:14\r\u001b[K    1% |▌                               | 614kB 3.1MB/s eta 0:00:14\r\u001b[K    1% |▌                               | 624kB 6.9MB/s eta 0:00:07\r\u001b[K    1% |▌                               | 634kB 8.4MB/s eta 0:00:06\r\u001b[K    1% |▌                               | 645kB 8.8MB/s eta 0:00:05\r\u001b[K    1% |▌                               | 655kB 10.9MB/s eta 0:00:04\r\u001b[K    1% |▌                               | 665kB 9.6MB/s eta 0:00:05\r\u001b[K    1% |▌                               | 675kB 10.6MB/s eta 0:00:05\r\u001b[K    1% |▌                               | 686kB 9.4MB/s eta 0:00:05\r\u001b[K    1% |▌                               | 696kB 8.5MB/s eta 0:00:05\r\u001b[K    1% |▌                               | 706kB 7.6MB/s eta 0:00:06\r\u001b[K    1% |▌                               | 716kB 7.2MB/s eta 0:00:06\r\u001b[K    1% |▌                               | 727kB 7.1MB/s eta 0:00:06\r\u001b[K    1% |▌                               | 737kB 7.6MB/s eta 0:00:06\r\u001b[K    1% |▌                               | 747kB 3.9MB/s eta 0:00:12\r\u001b[K    1% |▋                               | 757kB 3.8MB/s eta 0:00:12",
      "\r\u001b[K    1% |▋                               | 768kB 3.9MB/s eta 0:00:11\r\u001b[K    1% |▋                               | 778kB 1.8MB/s eta 0:00:24\r\u001b[K    1% |▋                               | 788kB 1.9MB/s eta 0:00:23\r\u001b[K    1% |▋                               | 798kB 1.9MB/s eta 0:00:23\r\u001b[K    1% |▋                               | 808kB 2.0MB/s eta 0:00:22\r\u001b[K    1% |▋                               | 819kB 2.1MB/s eta 0:00:21\r\u001b[K    1% |▋                               | 829kB 2.1MB/s eta 0:00:21\r\u001b[K    1% |▋                               | 839kB 2.1MB/s eta 0:00:21\r\u001b[K    1% |▋                               | 849kB 2.8MB/s eta 0:00:16\r\u001b[K    1% |▋                               | 860kB 2.9MB/s eta 0:00:15\r\u001b[K    2% |▋                               | 870kB 2.9MB/s eta 0:00:15\r\u001b[K    2% |▋                               | 880kB 24.7MB/s eta 0:00:02\r\u001b[K    2% |▋                               | 890kB 25.0MB/s eta 0:00:02\r\u001b[K    2% |▋                               | 901kB 23.7MB/s eta 0:00:02\r\u001b[K    2% |▊                               | 911kB 22.6MB/s eta 0:00:02\r\u001b[K    2% |▊                               | 921kB 22.9MB/s eta 0:00:02\r\u001b[K    2% |▊                               | 931kB 22.8MB/s eta 0:00:02\r\u001b[K    2% |▊                               | 942kB 22.2MB/s eta 0:00:02\r\u001b[K    2% |▊                               | 952kB 22.8MB/s eta 0:00:02\r\u001b[K    2% |▊                               | 962kB 23.2MB/s eta 0:00:02\r\u001b[K    2% |▊                               | 972kB 22.4MB/s eta 0:00:02\r\u001b[K    2% |▊                               | 983kB 22.5MB/s eta 0:00:02\r\u001b[K    2% |▊                               | 993kB 23.2MB/s eta 0:00:02\r\u001b[K    2% |▊                               | 1.0MB 25.3MB/s eta 0:00:02\r\u001b[K    2% |▊                               | 1.0MB 26.4MB/s eta 0:00:02\r\u001b[K    2% |▊                               | 1.0MB 26.8MB/s eta 0:00:02\r\u001b[K    2% |▊                               | 1.0MB 27.6MB/s eta 0:00:02\r\u001b[K    2% |▊                               | 1.0MB 27.4MB/s eta 0:00:02\r\u001b[K    2% |▉                               | 1.1MB 26.8MB/s eta 0:00:02\r\u001b[K    2% |▉                               | 1.1MB 27.0MB/s eta 0:00:02\r\u001b[K    2% |▉                               | 1.1MB 27.9MB/s eta 0:00:02\r\u001b[K    2% |▉                               | 1.1MB 27.5MB/s eta 0:00:02\r\u001b[K    2% |▉                               | 1.1MB 26.1MB/s eta 0:00:02\r\u001b[K    2% |▉                               | 1.1MB 24.5MB/s eta 0:00:02\r\u001b[K    2% |▉                               | 1.1MB 24.3MB/s eta 0:00:02\r\u001b[K    2% |▉                               | 1.1MB 23.4MB/s eta 0:00:02\r\u001b[K    2% |▉                               | 1.1MB 22.9MB/s eta 0:00:02\r\u001b[K    2% |▉                               | 1.1MB 21.5MB/s eta 0:00:02\r\u001b[K    2% |▉                               | 1.2MB 20.9MB/s eta 0:00:03\r\u001b[K    2% |▉                               | 1.2MB 17.5MB/s eta 0:00:03\r\u001b[K    2% |▉                               | 1.2MB 15.5MB/s eta 0:00:03\r\u001b[K    2% |▉                               | 1.2MB 14.8MB/s eta 0:00:03\r\u001b[K    2% |▉                               | 1.2MB 13.2MB/s eta 0:00:04\r\u001b[K    2% |█                               | 1.2MB 12.7MB/s eta 0:00:04\r\u001b[K    2% |█                               | 1.2MB 12.8MB/s eta 0:00:04\r\u001b[K    2% |█                               | 1.2MB 13.0MB/s eta 0:00:04",
      "\r\u001b[K    2% |█                               | 1.2MB 3.3MB/s eta 0:00:13\r\u001b[K    2% |█                               | 1.2MB 3.2MB/s eta 0:00:14\r\u001b[K    2% |█                               | 1.3MB 3.0MB/s eta 0:00:14\r\u001b[K    2% |█                               | 1.3MB 3.1MB/s eta 0:00:14\r\u001b[K    2% |█                               | 1.3MB 3.0MB/s eta 0:00:15\r\u001b[K    2% |█                               | 1.3MB 3.0MB/s eta 0:00:15\r\u001b[K    3% |█                               | 1.3MB 3.0MB/s eta 0:00:14\r\u001b[K    3% |█                               | 1.3MB 3.0MB/s eta 0:00:14\r\u001b[K    3% |█                               | 1.3MB 3.0MB/s eta 0:00:15\r\u001b[K    3% |█                               | 1.3MB 3.0MB/s eta 0:00:15\r\u001b[K    3% |█                               | 1.3MB 8.7MB/s eta 0:00:05\r\u001b[K    3% |█                               | 1.4MB 10.1MB/s eta 0:00:05\r\u001b[K    3% |█                               | 1.4MB 11.4MB/s eta 0:00:04\r\u001b[K    3% |█                               | 1.4MB 11.5MB/s eta 0:00:04\r\u001b[K    3% |█                               | 1.4MB 11.7MB/s eta 0:00:04\r\u001b[K    3% |█                               | 1.4MB 12.5MB/s eta 0:00:04\r\u001b[K    3% |█                               | 1.4MB 12.8MB/s eta 0:00:04\r\u001b[K    3% |█                               | 1.4MB 12.1MB/s eta 0:00:04\r\u001b[K    3% |█                               | 1.4MB 12.7MB/s eta 0:00:04\r\u001b[K    3% |█                               | 1.4MB 12.4MB/s eta 0:00:04\r\u001b[K    3% |█                               | 1.4MB 12.2MB/s eta 0:00:04\r\u001b[K    3% |█                               | 1.5MB 12.4MB/s eta 0:00:04\r\u001b[K    3% |█                               | 1.5MB 12.3MB/s eta 0:00:04\r\u001b[K    3% |█                               | 1.5MB 11.0MB/s eta 0:00:04\r\u001b[K    3% |█                               | 1.5MB 11.9MB/s eta 0:00:04\r\u001b[K    3% |█                               | 1.5MB 10.5MB/s eta 0:00:04\r\u001b[K    3% |█▏                              | 1.5MB 10.1MB/s eta 0:00:05\r\u001b[K    3% |█▏                              | 1.5MB 10.3MB/s eta 0:00:05\r\u001b[K    3% |█▏                              | 1.5MB 9.4MB/s eta 0:00:05\r\u001b[K    3% |█▏                              | 1.5MB 8.3MB/s eta 0:00:06\r\u001b[K    3% |█▏                              | 1.5MB 8.0MB/s eta 0:00:06\r\u001b[K    3% |█▏                              | 1.6MB 7.9MB/s eta 0:00:06\r\u001b[K    3% |█▏                              | 1.6MB 8.0MB/s eta 0:00:06\r\u001b[K    3% |█▏                              | 1.6MB 9.0MB/s eta 0:00:05\r\u001b[K    3% |█▏                              | 1.6MB 9.0MB/s eta 0:00:05\r\u001b[K    3% |█▏                              | 1.6MB 9.0MB/s eta 0:00:05\r\u001b[K    3% |█▏                              | 1.6MB 9.1MB/s eta 0:00:05",
      "\r\u001b[K    3% |█▏                              | 1.6MB 8.6MB/s eta 0:00:05\r\u001b[K    3% |█▏                              | 1.6MB 8.5MB/s eta 0:00:05\r\u001b[K    3% |█▏                              | 1.6MB 9.0MB/s eta 0:00:05\r\u001b[K    3% |█▏                              | 1.6MB 9.2MB/s eta 0:00:05\r\u001b[K    3% |█▎                              | 1.7MB 9.4MB/s eta 0:00:05\r\u001b[K    3% |█▎                              | 1.7MB 9.2MB/s eta 0:00:05\r\u001b[K    3% |█▎                              | 1.7MB 8.8MB/s eta 0:00:05\r\u001b[K    3% |█▎                              | 1.7MB 8.8MB/s eta 0:00:05\r\u001b[K    3% |█▎                              | 1.7MB 9.8MB/s eta 0:00:05\r\u001b[K    3% |█▎                              | 1.7MB 10.3MB/s eta 0:00:05\r\u001b[K    3% |█▎                              | 1.7MB 11.7MB/s eta 0:00:04\r\u001b[K    3% |█▎                              | 1.7MB 13.2MB/s eta 0:00:04\r\u001b[K    4% |█▎                              | 1.7MB 15.1MB/s eta 0:00:03\r\u001b[K    4% |█▎                              | 1.8MB 16.0MB/s eta 0:00:03\r\u001b[K    4% |█▎                              | 1.8MB 16.4MB/s eta 0:00:03\r\u001b[K    4% |█▎                              | 1.8MB 17.4MB/s eta 0:00:03\r\u001b[K    4% |█▎                              | 1.8MB 19.2MB/s eta 0:00:03\r\u001b[K    4% |█▎                              | 1.8MB 21.4MB/s eta 0:00:02\r\u001b[K    4% |█▎                              | 1.8MB 21.6MB/s eta 0:00:02\r\u001b[K    4% |█▍                              | 1.8MB 21.6MB/s eta 0:00:02\r\u001b[K    4% |█▍                              | 1.8MB 22.4MB/s eta 0:00:02\r\u001b[K    4% |█▍                              | 1.8MB 20.0MB/s eta 0:00:03\r\u001b[K    4% |█▍                              | 1.8MB 18.5MB/s eta 0:00:03\r\u001b[K    4% |█▍                              | 1.9MB 18.6MB/s eta 0:00:03\r\u001b[K    4% |█▍                              | 1.9MB 18.5MB/s eta 0:00:03\r\u001b[K    4% |█▍                              | 1.9MB 18.2MB/s eta 0:00:03\r\u001b[K    4% |█▍                              | 1.9MB 17.1MB/s eta 0:00:03\r\u001b[K    4% |█▍                              | 1.9MB 14.2MB/s eta 0:00:03\r\u001b[K    4% |█▍                              | 1.9MB 14.5MB/s eta 0:00:03\r\u001b[K    4% |█▍                              | 1.9MB 14.2MB/s eta 0:00:03\r\u001b[K    4% |█▍                              | 1.9MB 11.5MB/s eta 0:00:04\r\u001b[K    4% |█▍                              | 1.9MB 12.5MB/s eta 0:00:04\r\u001b[K    4% |█▍                              | 1.9MB 12.5MB/s eta 0:00:04\r\u001b[K    4% |█▌                              | 2.0MB 12.5MB/s eta 0:00:04\r\u001b[K    4% |█▌                              | 2.0MB 12.3MB/s eta 0:00:04\r\u001b[K    4% |█▌                              | 2.0MB 10.7MB/s eta 0:00:04\r\u001b[K    4% |█▌                              | 2.0MB 10.9MB/s eta 0:00:04\r\u001b[K    4% |█▌                              | 2.0MB 12.3MB/s eta 0:00:04\r\u001b[K    4% |█▌                              | 2.0MB 9.8MB/s eta 0:00:05\r\u001b[K    4% |█▌                              | 2.0MB 9.3MB/s eta 0:00:05\r\u001b[K    4% |█▌                              | 2.0MB 10.7MB/s eta 0:00:04\r\u001b[K    4% |█▌                              | 2.0MB 10.8MB/s eta 0:00:04\r\u001b[K    4% |█▌                              | 2.0MB 11.4MB/s eta 0:00:04\r\u001b[K    4% |█▌                              | 2.1MB 10.7MB/s eta 0:00:04\r\u001b[K    4% |█▌                              | 2.1MB 10.8MB/s eta 0:00:04\r\u001b[K    4% |█▌                              | 2.1MB 10.2MB/s eta 0:00:05\r\u001b[K    4% |█▌                              | 2.1MB 10.3MB/s eta 0:00:04\r\u001b[K    4% |█▌                              | 2.1MB 10.4MB/s eta 0:00:04\r\u001b[K    4% |█▋                              | 2.1MB 12.6MB/s eta 0:00:04\r\u001b[K    4% |█▋                              | 2.1MB 13.2MB/s eta 0:00:04\r\u001b[K    4% |█▋                              | 2.1MB 12.7MB/s eta 0:00:04\r\u001b[K    4% |█▋                              | 2.1MB 11.4MB/s eta 0:00:04\r\u001b[K    4% |█▋                              | 2.2MB 11.4MB/s eta 0:00:04\r\u001b[K    4% |█▋                              | 2.2MB 11.1MB/s eta 0:00:04\r\u001b[K    5% |█▋                              | 2.2MB 10.6MB/s eta 0:00:04\r\u001b[K    5% |█▋                              | 2.2MB 12.9MB/s eta 0:00:04\r\u001b[K    5% |█▋                              | 2.2MB 12.4MB/s eta 0:00:04\r\u001b[K    5% |█▋                              | 2.2MB 12.7MB/s eta 0:00:04\r\u001b[K    5% |█▋                              | 2.2MB 11.9MB/s eta 0:00:04\r\u001b[K    5% |█▋                              | 2.2MB 11.8MB/s eta 0:00:04\r\u001b[K    5% |█▋                              | 2.2MB 12.5MB/s eta 0:00:04",
      "\r\u001b[K    5% |█▋                              | 2.2MB 9.2MB/s eta 0:00:05\r\u001b[K    5% |█▋                              | 2.3MB 8.8MB/s eta 0:00:05\r\u001b[K    5% |█▊                              | 2.3MB 8.6MB/s eta 0:00:05\r\u001b[K    5% |█▊                              | 2.3MB 8.5MB/s eta 0:00:05\r\u001b[K    5% |█▊                              | 2.3MB 8.4MB/s eta 0:00:05\r\u001b[K    5% |█▊                              | 2.3MB 8.1MB/s eta 0:00:06\r\u001b[K    5% |█▊                              | 2.3MB 7.5MB/s eta 0:00:06\r\u001b[K    5% |█▊                              | 2.3MB 8.0MB/s eta 0:00:06\r\u001b[K    5% |█▊                              | 2.3MB 8.2MB/s eta 0:00:05\r\u001b[K    5% |█▊                              | 2.3MB 8.2MB/s eta 0:00:05\r\u001b[K    5% |█▊                              | 2.3MB 11.8MB/s eta 0:00:04\r\u001b[K    5% |█▊                              | 2.4MB 11.7MB/s eta 0:00:04\r\u001b[K    5% |█▊                              | 2.4MB 12.7MB/s eta 0:00:04\r\u001b[K    5% |█▊                              | 2.4MB 13.3MB/s eta 0:00:04\r\u001b[K    5% |█▊                              | 2.4MB 13.1MB/s eta 0:00:04\r\u001b[K    5% |█▊                              | 2.4MB 15.0MB/s eta 0:00:03\r\u001b[K    5% |█▉                              | 2.4MB 8.8MB/s eta 0:00:05\r\u001b[K    5% |█▉                              | 2.4MB 7.7MB/s eta 0:00:06\r\u001b[K    5% |█▉                              | 2.4MB 7.6MB/s eta 0:00:06\r\u001b[K    5% |█▉                              | 2.4MB 7.4MB/s eta 0:00:06\r\u001b[K    5% |█▉                              | 2.4MB 7.0MB/s eta 0:00:06\r\u001b[K    5% |█▉                              | 2.5MB 7.0MB/s eta 0:00:06\r\u001b[K    5% |█▉                              | 2.5MB 5.0MB/s eta 0:00:09\r\u001b[K    5% |█▉                              | 2.5MB 5.0MB/s eta 0:00:09\r\u001b[K    5% |█▉                              | 2.5MB 5.1MB/s eta 0:00:08\r\u001b[K    5% |█▉                              | 2.5MB 5.1MB/s eta 0:00:09\r\u001b[K    5% |█▉                              | 2.5MB 6.5MB/s eta 0:00:07\r\u001b[K    5% |█▉                              | 2.5MB 7.2MB/s eta 0:00:06\r\u001b[K    5% |█▉                              | 2.5MB 7.4MB/s eta 0:00:06\r\u001b[K    5% |█▉                              | 2.5MB 7.6MB/s eta 0:00:06\r\u001b[K    5% |█▉                              | 2.5MB 8.0MB/s eta 0:00:06\r\u001b[K    5% |██                              | 2.6MB 8.4MB/s eta 0:00:05\r\u001b[K    5% |██                              | 2.6MB 17.4MB/s eta 0:00:03\r\u001b[K    5% |██                              | 2.6MB 17.6MB/s eta 0:00:03\r\u001b[K    5% |██                              | 2.6MB 17.9MB/s eta 0:00:03\r\u001b[K    6% |██                              | 2.6MB 18.3MB/s eta 0:00:03\r\u001b[K    6% |██                              | 2.6MB 23.9MB/s eta 0:00:02\r\u001b[K    6% |██                              | 2.6MB 11.9MB/s eta 0:00:04\r\u001b[K    6% |██                              | 2.6MB 10.2MB/s eta 0:00:04\r\u001b[K    6% |██                              | 2.6MB 9.7MB/s eta 0:00:05\r\u001b[K    6% |██                              | 2.7MB 9.4MB/s eta 0:00:05\r\u001b[K    6% |██                              | 2.7MB 8.5MB/s eta 0:00:05\r\u001b[K    6% |██                              | 2.7MB 8.4MB/s eta 0:00:05\r\u001b[K    6% |██                              | 2.7MB 8.2MB/s eta 0:00:05\r\u001b[K    6% |██                              | 2.7MB 8.2MB/s eta 0:00:05\r\u001b[K    6% |██                              | 2.7MB 8.2MB/s eta 0:00:05\r\u001b[K    6% |██                              | 2.7MB 8.2MB/s eta 0:00:05",
      "\r\u001b[K    6% |██                              | 2.7MB 12.8MB/s eta 0:00:04\r\u001b[K    6% |██                              | 2.7MB 15.2MB/s eta 0:00:03\r\u001b[K    6% |██                              | 2.7MB 13.9MB/s eta 0:00:03\r\u001b[K    6% |██                              | 2.8MB 14.3MB/s eta 0:00:03\r\u001b[K    6% |██                              | 2.8MB 16.9MB/s eta 0:00:03\r\u001b[K    6% |██                              | 2.8MB 17.4MB/s eta 0:00:03\r\u001b[K    6% |██                              | 2.8MB 17.6MB/s eta 0:00:03\r\u001b[K    6% |██                              | 2.8MB 14.7MB/s eta 0:00:03\r\u001b[K    6% |██                              | 2.8MB 14.3MB/s eta 0:00:03\r\u001b[K    6% |██                              | 2.8MB 13.8MB/s eta 0:00:03\r\u001b[K    6% |██                              | 2.8MB 12.5MB/s eta 0:00:04\r\u001b[K    6% |██                              | 2.8MB 12.8MB/s eta 0:00:04\r\u001b[K    6% |██                              | 2.8MB 14.2MB/s eta 0:00:03\r\u001b[K    6% |██▏                             | 2.9MB 14.2MB/s eta 0:00:03\r\u001b[K    6% |██▏                             | 2.9MB 12.6MB/s eta 0:00:04\r\u001b[K    6% |██▏                             | 2.9MB 9.5MB/s eta 0:00:05\r\u001b[K    6% |██▏                             | 2.9MB 8.9MB/s eta 0:00:05\r\u001b[K    6% |██▏                             | 2.9MB 9.3MB/s eta 0:00:05\r\u001b[K    6% |██▏                             | 2.9MB 9.4MB/s eta 0:00:05\r\u001b[K    6% |██▏                             | 2.9MB 9.8MB/s eta 0:00:05\r\u001b[K    6% |██▏                             | 2.9MB 10.5MB/s eta 0:00:04\r\u001b[K    6% |██▏                             | 2.9MB 10.5MB/s eta 0:00:04\r\u001b[K    6% |██▏                             | 2.9MB 10.8MB/s eta 0:00:04\r\u001b[K    6% |██▏                             | 3.0MB 10.6MB/s eta 0:00:04\r\u001b[K    6% |██▏                             | 3.0MB 6.6MB/s eta 0:00:07\r\u001b[K    6% |██▏                             | 3.0MB 7.6MB/s eta 0:00:06\r\u001b[K    6% |██▏                             | 3.0MB 7.0MB/s eta 0:00:06\r\u001b[K    6% |██▏                             | 3.0MB 7.1MB/s eta 0:00:06\r\u001b[K    6% |██▎                             | 3.0MB 7.1MB/s eta 0:00:06\r\u001b[K    6% |██▎                             | 3.0MB 7.0MB/s eta 0:00:06\r\u001b[K    6% |██▎                             | 3.0MB 7.0MB/s eta 0:00:06\r\u001b[K    7% |██▎                             | 3.0MB 7.0MB/s eta 0:00:06\r\u001b[K    7% |██▎                             | 3.1MB 7.0MB/s eta 0:00:06\r\u001b[K    7% |██▎                             | 3.1MB 7.0MB/s eta 0:00:06\r\u001b[K    7% |██▎                             | 3.1MB 12.6MB/s eta 0:00:04\r\u001b[K    7% |██▎                             | 3.1MB 13.4MB/s eta 0:00:04\r\u001b[K    7% |██▎                             | 3.1MB 14.0MB/s eta 0:00:03\r\u001b[K    7% |██▎                             | 3.1MB 14.7MB/s eta 0:00:03\r\u001b[K    7% |██▎                             | 3.1MB 14.3MB/s eta 0:00:03\r\u001b[K    7% |██▎                             | 3.1MB 12.8MB/s eta 0:00:04\r\u001b[K    7% |██▎                             | 3.1MB 12.8MB/s eta 0:00:04\r\u001b[K    7% |██▎                             | 3.1MB 12.0MB/s eta 0:00:04\r\u001b[K    7% |██▎                             | 3.2MB 11.1MB/s eta 0:00:04\r\u001b[K    7% |██▍                             | 3.2MB 6.1MB/s eta 0:00:07",
      "\r\u001b[K    7% |██▍                             | 3.2MB 4.2MB/s eta 0:00:10\r\u001b[K    7% |██▍                             | 3.2MB 3.8MB/s eta 0:00:11\r\u001b[K    7% |██▍                             | 3.2MB 3.6MB/s eta 0:00:12\r\u001b[K    7% |██▍                             | 3.2MB 2.8MB/s eta 0:00:15\r\u001b[K    7% |██▍                             | 3.2MB 2.8MB/s eta 0:00:15\r\u001b[K    7% |██▍                             | 3.2MB 2.6MB/s eta 0:00:16\r\u001b[K    7% |██▍                             | 3.2MB 2.6MB/s eta 0:00:16\r\u001b[K    7% |██▍                             | 3.2MB 2.7MB/s eta 0:00:16\r\u001b[K    7% |██▍                             | 3.3MB 2.7MB/s eta 0:00:15\r\u001b[K    7% |██▍                             | 3.3MB 3.4MB/s eta 0:00:12\r\u001b[K    7% |██▍                             | 3.3MB 4.7MB/s eta 0:00:09\r\u001b[K    7% |██▍                             | 3.3MB 5.3MB/s eta 0:00:08\r\u001b[K    7% |██▍                             | 3.3MB 6.4MB/s eta 0:00:07\r\u001b[K    7% |██▍                             | 3.3MB 11.5MB/s eta 0:00:04\r\u001b[K    7% |██▌                             | 3.3MB 10.9MB/s eta 0:00:04\r\u001b[K    7% |██▌                             | 3.3MB 15.7MB/s eta 0:00:03\r\u001b[K    7% |██▌                             | 3.3MB 14.3MB/s eta 0:00:03\r\u001b[K    7% |██▌                             | 3.3MB 12.8MB/s eta 0:00:04\r\u001b[K    7% |██▌                             | 3.4MB 12.3MB/s eta 0:00:04\r\u001b[K    7% |██▌                             | 3.4MB 12.2MB/s eta 0:00:04\r\u001b[K    7% |██▌                             | 3.4MB 12.0MB/s eta 0:00:04\r\u001b[K    7% |██▌                             | 3.4MB 11.8MB/s eta 0:00:04\r\u001b[K    7% |██▌                             | 3.4MB 11.3MB/s eta 0:00:04\r\u001b[K    7% |██▌                             | 3.4MB 13.3MB/s eta 0:00:04\r\u001b[K    7% |██▌                             | 3.4MB 14.0MB/s eta 0:00:03\r\u001b[K    7% |██▌                             | 3.4MB 14.0MB/s eta 0:00:03\r\u001b[K    7% |██▌                             | 3.4MB 11.5MB/s eta 0:00:04\r\u001b[K    7% |██▌                             | 3.5MB 12.1MB/s eta 0:00:04\r\u001b[K    7% |██▋                             | 3.5MB 12.8MB/s eta 0:00:04\r\u001b[K    8% |██▋                             | 3.5MB 12.8MB/s eta 0:00:04\r\u001b[K    8% |██▋                             | 3.5MB 13.3MB/s eta 0:00:03\r\u001b[K    8% |██▋                             | 3.5MB 13.5MB/s eta 0:00:03\r\u001b[K    8% |██▋                             | 3.5MB 14.1MB/s eta 0:00:03\r\u001b[K    8% |██▋                             | 3.5MB 14.0MB/s eta 0:00:03\r\u001b[K    8% |██▋                             | 3.5MB 14.4MB/s eta 0:00:03\r\u001b[K    8% |██▋                             | 3.5MB 15.2MB/s eta 0:00:03\r\u001b[K    8% |██▋                             | 3.5MB 23.6MB/s eta 0:00:02\r\u001b[K    8% |██▋                             | 3.6MB 16.5MB/s eta 0:00:03\r\u001b[K    8% |██▋                             | 3.6MB 14.7MB/s eta 0:00:03\r\u001b[K    8% |██▋                             | 3.6MB 14.4MB/s eta 0:00:03\r\u001b[K    8% |██▋                             | 3.6MB 13.8MB/s eta 0:00:03\r\u001b[K    8% |██▋                             | 3.6MB 12.7MB/s eta 0:00:04\r\u001b[K    8% |██▋                             | 3.6MB 12.7MB/s eta 0:00:04\r\u001b[K    8% |██▊                             | 3.6MB 12.5MB/s eta 0:00:04\r\u001b[K    8% |██▊                             | 3.6MB 12.0MB/s eta 0:00:04",
      "\r\u001b[K    8% |██▊                             | 3.6MB 11.3MB/s eta 0:00:04\r\u001b[K    8% |██▊                             | 3.6MB 10.6MB/s eta 0:00:04\r\u001b[K    8% |██▊                             | 3.7MB 13.1MB/s eta 0:00:04\r\u001b[K    8% |██▊                             | 3.7MB 14.0MB/s eta 0:00:03\r\u001b[K    8% |██▊                             | 3.7MB 14.4MB/s eta 0:00:03\r\u001b[K    8% |██▊                             | 3.7MB 14.7MB/s eta 0:00:03\r\u001b[K    8% |██▊                             | 3.7MB 13.9MB/s eta 0:00:03\r\u001b[K    8% |██▊                             | 3.7MB 14.0MB/s eta 0:00:03\r\u001b[K    8% |██▊                             | 3.7MB 13.1MB/s eta 0:00:04\r\u001b[K    8% |██▊                             | 3.7MB 13.2MB/s eta 0:00:03\r\u001b[K    8% |██▊                             | 3.7MB 14.2MB/s eta 0:00:03\r\u001b[K    8% |██▊                             | 3.7MB 14.8MB/s eta 0:00:03\r\u001b[K    8% |██▊                             | 3.8MB 12.8MB/s eta 0:00:04\r\u001b[K    8% |██▉                             | 3.8MB 12.8MB/s eta 0:00:04\r\u001b[K    8% |██▉                             | 3.8MB 12.7MB/s eta 0:00:04\r\u001b[K    8% |██▉                             | 3.8MB 12.8MB/s eta 0:00:04\r\u001b[K    8% |██▉                             | 3.8MB 14.6MB/s eta 0:00:03\r\u001b[K    8% |██▉                             | 3.8MB 14.5MB/s eta 0:00:03\r\u001b[K    8% |██▉                             | 3.8MB 15.3MB/s eta 0:00:03\r\u001b[K    8% |██▉                             | 3.8MB 15.6MB/s eta 0:00:03\r\u001b[K    8% |██▉                             | 3.8MB 14.8MB/s eta 0:00:03\r\u001b[K    8% |██▉                             | 3.9MB 14.9MB/s eta 0:00:03\r\u001b[K    8% |██▉                             | 3.9MB 18.4MB/s eta 0:00:03\r\u001b[K    8% |██▉                             | 3.9MB 15.6MB/s eta 0:00:03\r\u001b[K    8% |██▉                             | 3.9MB 15.2MB/s eta 0:00:03",
      "\r\u001b[K    8% |██▉                             | 3.9MB 1.3MB/s eta 0:00:32\r\u001b[K    9% |██▉                             | 3.9MB 1.2MB/s eta 0:00:35\r\u001b[K    9% |███                             | 3.9MB 1.1MB/s eta 0:00:35\r\u001b[K    9% |███                             | 3.9MB 1.1MB/s eta 0:00:35\r\u001b[K    9% |███                             | 3.9MB 1.1MB/s eta 0:00:37",
      "\r\u001b[K    9% |███                             | 3.9MB 1.1MB/s eta 0:00:37\r\u001b[K    9% |███                             | 4.0MB 1.1MB/s eta 0:00:36\r\u001b[K    9% |███                             | 4.0MB 1.1MB/s eta 0:00:36\r\u001b[K    9% |███                             | 4.0MB 1.1MB/s eta 0:00:38\r\u001b[K    9% |███                             | 4.0MB 1.1MB/s eta 0:00:38\r\u001b[K    9% |███                             | 4.0MB 4.5MB/s eta 0:00:09\r\u001b[K    9% |███                             | 4.0MB 6.5MB/s eta 0:00:07\r\u001b[K    9% |███                             | 4.0MB 6.4MB/s eta 0:00:07\r\u001b[K    9% |███                             | 4.0MB 6.4MB/s eta 0:00:07\r\u001b[K    9% |███                             | 4.0MB 9.1MB/s eta 0:00:05\r\u001b[K    9% |███                             | 4.0MB 9.4MB/s eta 0:00:05\r\u001b[K    9% |███                             | 4.1MB 8.3MB/s eta 0:00:05\r\u001b[K    9% |███                             | 4.1MB 8.3MB/s eta 0:00:05\r\u001b[K    9% |███                             | 4.1MB 12.8MB/s eta 0:00:04\r\u001b[K    9% |███                             | 4.1MB 13.0MB/s eta 0:00:04\r\u001b[K    9% |███                             | 4.1MB 13.7MB/s eta 0:00:03\r\u001b[K    9% |███                             | 4.1MB 14.5MB/s eta 0:00:03\r\u001b[K    9% |███                             | 4.1MB 15.3MB/s eta 0:00:03\r\u001b[K    9% |███                             | 4.1MB 15.6MB/s eta 0:00:03\r\u001b[K    9% |███                             | 4.1MB 14.8MB/s eta 0:00:03\r\u001b[K    9% |███                             | 4.1MB 15.0MB/s eta 0:00:03\r\u001b[K    9% |███                             | 4.2MB 18.9MB/s eta 0:00:03\r\u001b[K    9% |███                             | 4.2MB 20.1MB/s eta 0:00:02\r\u001b[K    9% |███                             | 4.2MB 21.8MB/s eta 0:00:02\r\u001b[K    9% |███                             | 4.2MB 17.7MB/s eta 0:00:03\r\u001b[K    9% |███                             | 4.2MB 17.8MB/s eta 0:00:03\r\u001b[K    9% |███                             | 4.2MB 17.2MB/s eta 0:00:03\r\u001b[K    9% |███▏                            | 4.2MB 16.9MB/s eta 0:00:03\r\u001b[K    9% |███▏                            | 4.2MB 17.1MB/s eta 0:00:03\r\u001b[K    9% |███▏                            | 4.2MB 18.1MB/s eta 0:00:03\r\u001b[K    9% |███▏                            | 4.2MB 18.0MB/s eta 0:00:03\r\u001b[K    9% |███▏                            | 4.3MB 18.0MB/s eta 0:00:03\r\u001b[K    9% |███▏                            | 4.3MB 17.5MB/s eta 0:00:03\r\u001b[K    9% |███▏                            | 4.3MB 17.1MB/s eta 0:00:03\r\u001b[K    9% |███▏                            | 4.3MB 20.0MB/s eta 0:00:02\r\u001b[K    9% |███▏                            | 4.3MB 20.2MB/s eta 0:00:02\r\u001b[K    9% |███▏                            | 4.3MB 21.4MB/s eta 0:00:02\r\u001b[K    9% |███▏                            | 4.3MB 20.7MB/s eta 0:00:02\r\u001b[K    10% |███▏                            | 4.3MB 16.6MB/s eta 0:00:03\r\u001b[K    10% |███▏                            | 4.3MB 16.5MB/s eta 0:00:03\r\u001b[K    10% |███▏                            | 4.4MB 16.3MB/s eta 0:00:03\r\u001b[K    10% |███▎                            | 4.4MB 16.2MB/s eta 0:00:03\r\u001b[K    10% |███▎                            | 4.4MB 15.8MB/s eta 0:00:03\r\u001b[K    10% |███▎                            | 4.4MB 15.5MB/s eta 0:00:03\r\u001b[K    10% |███▎                            | 4.4MB 16.8MB/s eta 0:00:03\r\u001b[K    10% |███▎                            | 4.4MB 16.6MB/s eta 0:00:03\r\u001b[K    10% |███▎                            | 4.4MB 14.9MB/s eta 0:00:03\r\u001b[K    10% |███▎                            | 4.4MB 13.4MB/s eta 0:00:03\r\u001b[K    10% |███▎                            | 4.4MB 14.7MB/s eta 0:00:03\r\u001b[K    10% |███▎                            | 4.4MB 14.8MB/s eta 0:00:03\r\u001b[K    10% |███▎                            | 4.5MB 14.8MB/s eta 0:00:03\r\u001b[K    10% |███▎                            | 4.5MB 15.0MB/s eta 0:00:03\r\u001b[K    10% |███▎                            | 4.5MB 15.2MB/s eta 0:00:03\r\u001b[K    10% |███▎                            | 4.5MB 15.4MB/s eta 0:00:03\r\u001b[K    10% |███▎                            | 4.5MB 13.8MB/s eta 0:00:03\r\u001b[K    10% |███▎                            | 4.5MB 12.2MB/s eta 0:00:04\r\u001b[K    10% |███▍                            | 4.5MB 12.9MB/s eta 0:00:04\r\u001b[K    10% |███▍                            | 4.5MB 14.8MB/s eta 0:00:03\r\u001b[K    10% |███▍                            | 4.5MB 16.5MB/s eta 0:00:03\r\u001b[K    10% |███▍                            | 4.5MB 16.7MB/s eta 0:00:03\r\u001b[K    10% |███▍                            | 4.6MB 16.6MB/s eta 0:00:03\r\u001b[K    10% |███▍                            | 4.6MB 15.0MB/s eta 0:00:03\r\u001b[K    10% |███▍                            | 4.6MB 15.1MB/s eta 0:00:03\r\u001b[K    10% |███▍                            | 4.6MB 14.8MB/s eta 0:00:03\r\u001b[K    10% |███▍                            | 4.6MB 16.2MB/s eta 0:00:03\r\u001b[K    10% |███▍                            | 4.6MB 19.7MB/s eta 0:00:02\r\u001b[K    10% |███▍                            | 4.6MB 20.6MB/s eta 0:00:02\r\u001b[K    10% |███▍                            | 4.6MB 20.6MB/s eta 0:00:02\r\u001b[K    10% |███▍                            | 4.6MB 21.3MB/s eta 0:00:02\r\u001b[K    10% |███▍                            | 4.6MB 19.9MB/s eta 0:00:02\r\u001b[K    10% |███▍                            | 4.7MB 20.4MB/s eta 0:00:02\r\u001b[K    10% |███▌                            | 4.7MB 22.7MB/s eta 0:00:02\r\u001b[K    10% |███▌                            | 4.7MB 22.6MB/s eta 0:00:02\r\u001b[K    10% |███▌                            | 4.7MB 24.2MB/s eta 0:00:02\r\u001b[K    10% |███▌                            | 4.7MB 24.1MB/s eta 0:00:02\r\u001b[K    10% |███▌                            | 4.7MB 23.1MB/s eta 0:00:02",
      "\r\u001b[K    10% |███▌                            | 4.7MB 15.5MB/s eta 0:00:03\r\u001b[K    10% |███▌                            | 4.7MB 15.0MB/s eta 0:00:03\r\u001b[K    10% |███▌                            | 4.7MB 13.1MB/s eta 0:00:03\r\u001b[K    10% |███▌                            | 4.8MB 12.5MB/s eta 0:00:04\r\u001b[K    10% |███▌                            | 4.8MB 12.0MB/s eta 0:00:04\r\u001b[K    11% |███▌                            | 4.8MB 11.6MB/s eta 0:00:04\r\u001b[K    11% |███▌                            | 4.8MB 11.3MB/s eta 0:00:04\r\u001b[K    11% |███▌                            | 4.8MB 11.1MB/s eta 0:00:04\r\u001b[K    11% |███▌                            | 4.8MB 11.2MB/s eta 0:00:04\r\u001b[K    11% |███▋                            | 4.8MB 10.6MB/s eta 0:00:04\r\u001b[K    11% |███▋                            | 4.8MB 13.6MB/s eta 0:00:03\r\u001b[K    11% |███▋                            | 4.8MB 12.5MB/s eta 0:00:04\r\u001b[K    11% |███▋                            | 4.8MB 10.8MB/s eta 0:00:04\r\u001b[K    11% |███▋                            | 4.9MB 11.5MB/s eta 0:00:04\r\u001b[K    11% |███▋                            | 4.9MB 11.9MB/s eta 0:00:04\r\u001b[K    11% |███▋                            | 4.9MB 12.2MB/s eta 0:00:04\r\u001b[K    11% |███▋                            | 4.9MB 12.5MB/s eta 0:00:04\r\u001b[K    11% |███▋                            | 4.9MB 11.8MB/s eta 0:00:04\r\u001b[K    11% |███▋                            | 4.9MB 11.4MB/s eta 0:00:04\r\u001b[K    11% |███▋                            | 4.9MB 11.9MB/s eta 0:00:04\r\u001b[K    11% |███▋                            | 4.9MB 11.3MB/s eta 0:00:04\r\u001b[K    11% |███▋                            | 4.9MB 12.1MB/s eta 0:00:04\r\u001b[K    11% |███▋                            | 4.9MB 15.8MB/s eta 0:00:03\r\u001b[K    11% |███▋                            | 5.0MB 15.8MB/s eta 0:00:03\r\u001b[K    11% |███▊                            | 5.0MB 7.8MB/s eta 0:00:05\r\u001b[K    11% |███▊                            | 5.0MB 7.5MB/s eta 0:00:06\r\u001b[K    11% |███▊                            | 5.0MB 7.2MB/s eta 0:00:06\r\u001b[K    11% |███▊                            | 5.0MB 7.3MB/s eta 0:00:06\r\u001b[K    11% |███▊                            | 5.0MB 7.5MB/s eta 0:00:06\r\u001b[K    11% |███▊                            | 5.0MB 7.8MB/s eta 0:00:05\r\u001b[K    11% |███▊                            | 5.0MB 8.0MB/s eta 0:00:05\r\u001b[K    11% |███▊                            | 5.0MB 8.2MB/s eta 0:00:05\r\u001b[K    11% |███▊                            | 5.0MB 8.2MB/s eta 0:00:05\r\u001b[K    11% |███▊                            | 5.1MB 7.7MB/s eta 0:00:05\r\u001b[K    11% |███▊                            | 5.1MB 15.2MB/s eta 0:00:03\r\u001b[K    11% |███▊                            | 5.1MB 17.0MB/s eta 0:00:03\r\u001b[K    11% |███▊                            | 5.1MB 18.5MB/s eta 0:00:03\r\u001b[K    11% |███▊                            | 5.1MB 19.7MB/s eta 0:00:02\r\u001b[K    11% |███▊                            | 5.1MB 17.7MB/s eta 0:00:03\r\u001b[K    11% |███▉                            | 5.1MB 15.9MB/s eta 0:00:03\r\u001b[K    11% |███▉                            | 5.1MB 15.1MB/s eta 0:00:03\r\u001b[K    11% |███▉                            | 5.1MB 7.5MB/s eta 0:00:06\r\u001b[K    11% |███▉                            | 5.2MB 7.1MB/s eta 0:00:06\r\u001b[K    11% |███▉                            | 5.2MB 6.5MB/s eta 0:00:06\r\u001b[K    11% |███▉                            | 5.2MB 6.4MB/s eta 0:00:06\r\u001b[K    11% |███▉                            | 5.2MB 6.4MB/s eta 0:00:06\r\u001b[K    11% |███▉                            | 5.2MB 6.4MB/s eta 0:00:06\r\u001b[K    12% |███▉                            | 5.2MB 6.4MB/s eta 0:00:06\r\u001b[K    12% |███▉                            | 5.2MB 6.6MB/s eta 0:00:06\r\u001b[K    12% |███▉                            | 5.2MB 6.8MB/s eta 0:00:06",
      "\r\u001b[K    12% |███▉                            | 5.2MB 6.8MB/s eta 0:00:06\r\u001b[K    12% |███▉                            | 5.2MB 12.3MB/s eta 0:00:04\r\u001b[K    12% |███▉                            | 5.3MB 13.5MB/s eta 0:00:03\r\u001b[K    12% |████                            | 5.3MB 18.9MB/s eta 0:00:03\r\u001b[K    12% |████                            | 5.3MB 20.5MB/s eta 0:00:02\r\u001b[K    12% |████                            | 5.3MB 19.5MB/s eta 0:00:02\r\u001b[K    12% |████                            | 5.3MB 18.9MB/s eta 0:00:03\r\u001b[K    12% |████                            | 5.3MB 18.9MB/s eta 0:00:03\r\u001b[K    12% |████                            | 5.3MB 19.1MB/s eta 0:00:02\r\u001b[K    12% |████                            | 5.3MB 19.6MB/s eta 0:00:02\r\u001b[K    12% |████                            | 5.3MB 19.3MB/s eta 0:00:02\r\u001b[K    12% |████                            | 5.3MB 16.8MB/s eta 0:00:03\r\u001b[K    12% |████                            | 5.4MB 17.2MB/s eta 0:00:03\r\u001b[K    12% |████                            | 5.4MB 17.1MB/s eta 0:00:03\r\u001b[K    12% |████                            | 5.4MB 17.3MB/s eta 0:00:03\r\u001b[K    12% |████                            | 5.4MB 17.8MB/s eta 0:00:03\r\u001b[K    12% |████                            | 5.4MB 18.7MB/s eta 0:00:03\r\u001b[K    12% |████                            | 5.4MB 18.9MB/s eta 0:00:03\r\u001b[K    12% |████                            | 5.4MB 18.7MB/s eta 0:00:03\r\u001b[K    12% |████                            | 5.4MB 19.1MB/s eta 0:00:02\r\u001b[K    12% |████                            | 5.4MB 20.2MB/s eta 0:00:02\r\u001b[K    12% |████                            | 5.4MB 24.2MB/s eta 0:00:02\r\u001b[K    12% |████                            | 5.5MB 23.2MB/s eta 0:00:02\r\u001b[K    12% |████                            | 5.5MB 23.5MB/s eta 0:00:02\r\u001b[K    12% |████                            | 5.5MB 23.5MB/s eta 0:00:02\r\u001b[K    12% |████                            | 5.5MB 24.5MB/s eta 0:00:02\r\u001b[K    12% |████                            | 5.5MB 24.6MB/s eta 0:00:02\r\u001b[K    12% |████                            | 5.5MB 25.3MB/s eta 0:00:02\r\u001b[K    12% |████                            | 5.5MB 22.6MB/s eta 0:00:02\r\u001b[K    12% |████                            | 5.5MB 20.9MB/s eta 0:00:02\r\u001b[K    12% |████                            | 5.5MB 21.0MB/s eta 0:00:02\r\u001b[K    12% |████                            | 5.6MB 21.0MB/s eta 0:00:02\r\u001b[K    12% |████                            | 5.6MB 20.0MB/s eta 0:00:02\r\u001b[K    12% |████▏                           | 5.6MB 19.2MB/s eta 0:00:02\r\u001b[K    12% |████▏                           | 5.6MB 10.5MB/s eta 0:00:04\r\u001b[K    12% |████▏                           | 5.6MB 8.9MB/s eta 0:00:05\r\u001b[K    12% |████▏                           | 5.6MB 8.6MB/s eta 0:00:05\r\u001b[K    12% |████▏                           | 5.6MB 8.5MB/s eta 0:00:05\r\u001b[K    12% |████▏                           | 5.6MB 8.1MB/s eta 0:00:05\r\u001b[K    13% |████▏                           | 5.6MB 8.1MB/s eta 0:00:05\r\u001b[K    13% |████▏                           | 5.6MB 8.0MB/s eta 0:00:05\r\u001b[K    13% |████▏                           | 5.7MB 7.9MB/s eta 0:00:05\r\u001b[K    13% |████▏                           | 5.7MB 8.2MB/s eta 0:00:05\r\u001b[K    13% |████▏                           | 5.7MB 8.3MB/s eta 0:00:05\r\u001b[K    13% |████▏                           | 5.7MB 12.7MB/s eta 0:00:03\r\u001b[K    13% |████▏                           | 5.7MB 15.8MB/s eta 0:00:03\r\u001b[K    13% |████▏                           | 5.7MB 17.1MB/s eta 0:00:03\r\u001b[K    13% |████▎                           | 5.7MB 17.6MB/s eta 0:00:03\r\u001b[K    13% |████▎                           | 5.7MB 22.1MB/s eta 0:00:02\r\u001b[K    13% |████▎                           | 5.7MB 22.9MB/s eta 0:00:02\r\u001b[K    13% |████▎                           | 5.7MB 24.6MB/s eta 0:00:02\r\u001b[K    13% |████▎                           | 5.8MB 26.4MB/s eta 0:00:02\r\u001b[K    13% |████▎                           | 5.8MB 26.1MB/s eta 0:00:02\r\u001b[K    13% |████▎                           | 5.8MB 26.4MB/s eta 0:00:02\r\u001b[K    13% |████▎                           | 5.8MB 27.0MB/s eta 0:00:02\r\u001b[K    13% |████▎                           | 5.8MB 19.3MB/s eta 0:00:02\r\u001b[K    13% |████▎                           | 5.8MB 17.2MB/s eta 0:00:03\r\u001b[K    13% |████▎                           | 5.8MB 16.6MB/s eta 0:00:03\r\u001b[K    13% |████▎                           | 5.8MB 16.1MB/s eta 0:00:03\r\u001b[K    13% |████▎                           | 5.8MB 16.4MB/s eta 0:00:03\r\u001b[K    13% |████▎                           | 5.8MB 15.9MB/s eta 0:00:03\r\u001b[K    13% |████▎                           | 5.9MB 15.5MB/s eta 0:00:03\r\u001b[K    13% |████▍                           | 5.9MB 16.0MB/s eta 0:00:03\r\u001b[K    13% |████▍                           | 5.9MB 16.1MB/s eta 0:00:03\r\u001b[K    13% |████▍                           | 5.9MB 13.9MB/s eta 0:00:03\r\u001b[K    13% |████▍                           | 5.9MB 17.3MB/s eta 0:00:03\r\u001b[K    13% |████▍                           | 5.9MB 17.8MB/s eta 0:00:03\r\u001b[K    13% |████▍                           | 5.9MB 16.8MB/s eta 0:00:03\r\u001b[K    13% |████▍                           | 5.9MB 17.0MB/s eta 0:00:03\r\u001b[K    13% |████▍                           | 5.9MB 15.7MB/s eta 0:00:03\r\u001b[K    13% |████▍                           | 5.9MB 16.1MB/s eta 0:00:03\r\u001b[K    13% |████▍                           | 6.0MB 15.0MB/s eta 0:00:03\r\u001b[K    13% |████▍                           | 6.0MB 14.7MB/s eta 0:00:03\r\u001b[K    13% |████▍                           | 6.0MB 14.7MB/s eta 0:00:03\r\u001b[K    13% |████▍                           | 6.0MB 16.8MB/s eta 0:00:03\r\u001b[K    13% |████▍                           | 6.0MB 11.4MB/s eta 0:00:04",
      "\r\u001b[K    13% |████▍                           | 6.0MB 11.1MB/s eta 0:00:04\r\u001b[K    13% |████▌                           | 6.0MB 10.1MB/s eta 0:00:04\r\u001b[K    13% |████▌                           | 6.0MB 9.9MB/s eta 0:00:04\r\u001b[K    13% |████▌                           | 6.0MB 9.8MB/s eta 0:00:04\r\u001b[K    13% |████▌                           | 6.1MB 9.7MB/s eta 0:00:04\r\u001b[K    13% |████▌                           | 6.1MB 10.0MB/s eta 0:00:04\r\u001b[K    14% |████▌                           | 6.1MB 9.9MB/s eta 0:00:04\r\u001b[K    14% |████▌                           | 6.1MB 9.4MB/s eta 0:00:04\r\u001b[K    14% |████▌                           | 6.1MB 9.1MB/s eta 0:00:05\r\u001b[K    14% |████▌                           | 6.1MB 12.1MB/s eta 0:00:04\r\u001b[K    14% |████▌                           | 6.1MB 11.6MB/s eta 0:00:04\r\u001b[K    14% |████▌                           | 6.1MB 13.0MB/s eta 0:00:03\r\u001b[K    14% |████▌                           | 6.1MB 13.4MB/s eta 0:00:03\r\u001b[K    14% |████▌                           | 6.1MB 12.3MB/s eta 0:00:04\r\u001b[K    14% |████▌                           | 6.2MB 10.7MB/s eta 0:00:04\r\u001b[K    14% |████▌                           | 6.2MB 10.2MB/s eta 0:00:04\r\u001b[K    14% |████▋                           | 6.2MB 10.2MB/s eta 0:00:04\r\u001b[K    14% |████▋                           | 6.2MB 10.6MB/s eta 0:00:04\r\u001b[K    14% |████▋                           | 6.2MB 10.4MB/s eta 0:00:04\r\u001b[K    14% |████▋                           | 6.2MB 9.1MB/s eta 0:00:05\r\u001b[K    14% |████▋                           | 6.2MB 9.8MB/s eta 0:00:04\r\u001b[K    14% |████▋                           | 6.2MB 10.1MB/s eta 0:00:04\r\u001b[K    14% |████▋                           | 6.2MB 9.9MB/s eta 0:00:04\r\u001b[K    14% |████▋                           | 6.2MB 11.2MB/s eta 0:00:04\r\u001b[K    14% |████▋                           | 6.3MB 10.6MB/s eta 0:00:04\r\u001b[K    14% |████▋                           | 6.3MB 9.8MB/s eta 0:00:04\r\u001b[K    14% |████▋                           | 6.3MB 10.0MB/s eta 0:00:04\r\u001b[K    14% |████▋                           | 6.3MB 10.2MB/s eta 0:00:04\r\u001b[K    14% |████▋                           | 6.3MB 10.9MB/s eta 0:00:04\r\u001b[K    14% |████▋                           | 6.3MB 11.3MB/s eta 0:00:04\r\u001b[K    14% |████▊                           | 6.3MB 10.8MB/s eta 0:00:04\r\u001b[K    14% |████▊                           | 6.3MB 11.1MB/s eta 0:00:04\r\u001b[K    14% |████▊                           | 6.3MB 8.1MB/s eta 0:00:05\r\u001b[K    14% |████▊                           | 6.3MB 7.4MB/s eta 0:00:05\r\u001b[K    14% |████▊                           | 6.4MB 8.7MB/s eta 0:00:05\r\u001b[K    14% |████▊                           | 6.4MB 9.2MB/s eta 0:00:05\r\u001b[K    14% |████▊                           | 6.4MB 8.7MB/s eta 0:00:05\r\u001b[K    14% |████▊                           | 6.4MB 7.7MB/s eta 0:00:05\r\u001b[K    14% |████▊                           | 6.4MB 7.7MB/s eta 0:00:05\r\u001b[K    14% |████▊                           | 6.4MB 8.5MB/s eta 0:00:05\r\u001b[K    14% |████▊                           | 6.4MB 8.8MB/s eta 0:00:05\r\u001b[K    14% |████▊                           | 6.4MB 8.6MB/s eta 0:00:05\r\u001b[K    14% |████▊                           | 6.4MB 12.3MB/s eta 0:00:04\r\u001b[K    14% |████▊                           | 6.5MB 13.8MB/s eta 0:00:03\r\u001b[K    14% |████▊                           | 6.5MB 14.1MB/s eta 0:00:03\r\u001b[K    14% |████▉                           | 6.5MB 15.6MB/s eta 0:00:03\r\u001b[K    14% |████▉                           | 6.5MB 16.9MB/s eta 0:00:03\r\u001b[K    14% |████▉                           | 6.5MB 22.6MB/s eta 0:00:02\r\u001b[K    15% |████▉                           | 6.5MB 23.6MB/s eta 0:00:02\r\u001b[K    15% |████▉                           | 6.5MB 24.0MB/s eta 0:00:02\r\u001b[K    15% |████▉                           | 6.5MB 25.2MB/s eta 0:00:02\r\u001b[K    15% |████▉                           | 6.5MB 27.6MB/s eta 0:00:02\r\u001b[K    15% |████▉                           | 6.5MB 28.6MB/s eta 0:00:02\r\u001b[K    15% |████▉                           | 6.6MB 29.5MB/s eta 0:00:02\r\u001b[K    15% |████▉                           | 6.6MB 29.4MB/s eta 0:00:02\r\u001b[K    15% |████▉                           | 6.6MB 31.4MB/s eta 0:00:02\r\u001b[K    15% |████▉                           | 6.6MB 32.9MB/s eta 0:00:02\r\u001b[K    15% |████▉                           | 6.6MB 25.6MB/s eta 0:00:02\r\u001b[K    15% |████▉                           | 6.6MB 23.7MB/s eta 0:00:02\r\u001b[K    15% |████▉                           | 6.6MB 21.3MB/s eta 0:00:02\r\u001b[K    15% |█████                           | 6.6MB 18.6MB/s eta 0:00:02\r\u001b[K    15% |█████                           | 6.6MB 16.9MB/s eta 0:00:03\r\u001b[K    15% |█████                           | 6.6MB 16.0MB/s eta 0:00:03\r\u001b[K    15% |█████                           | 6.7MB 15.7MB/s eta 0:00:03\r\u001b[K    15% |█████                           | 6.7MB 15.0MB/s eta 0:00:03",
      "\r\u001b[K    15% |█████                           | 6.7MB 14.5MB/s eta 0:00:03\r\u001b[K    15% |█████                           | 6.7MB 14.3MB/s eta 0:00:03\r\u001b[K    15% |█████                           | 6.7MB 14.4MB/s eta 0:00:03\r\u001b[K    15% |█████                           | 6.7MB 14.8MB/s eta 0:00:03\r\u001b[K    15% |█████                           | 6.7MB 15.6MB/s eta 0:00:03\r\u001b[K    15% |█████                           | 6.7MB 16.3MB/s eta 0:00:03\r\u001b[K    15% |█████                           | 6.7MB 15.9MB/s eta 0:00:03\r\u001b[K    15% |█████                           | 6.7MB 15.6MB/s eta 0:00:03\r\u001b[K    15% |█████                           | 6.8MB 12.7MB/s eta 0:00:03\r\u001b[K    15% |█████                           | 6.8MB 12.7MB/s eta 0:00:03\r\u001b[K    15% |█████                           | 6.8MB 11.9MB/s eta 0:00:04\r\u001b[K    15% |█████                           | 6.8MB 11.4MB/s eta 0:00:04\r\u001b[K    15% |█████                           | 6.8MB 12.0MB/s eta 0:00:04\r\u001b[K    15% |█████                           | 6.8MB 11.4MB/s eta 0:00:04\r\u001b[K    15% |█████                           | 6.8MB 11.3MB/s eta 0:00:04\r\u001b[K    15% |█████                           | 6.8MB 11.0MB/s eta 0:00:04\r\u001b[K    15% |█████                           | 6.8MB 11.6MB/s eta 0:00:04\r\u001b[K    15% |█████                           | 6.9MB 11.9MB/s eta 0:00:04\r\u001b[K    15% |█████                           | 6.9MB 13.8MB/s eta 0:00:03\r\u001b[K    15% |█████                           | 6.9MB 14.1MB/s eta 0:00:03\r\u001b[K    15% |█████                           | 6.9MB 15.1MB/s eta 0:00:03\r\u001b[K    15% |█████                           | 6.9MB 11.0MB/s eta 0:00:04\r\u001b[K    15% |█████                           | 6.9MB 10.4MB/s eta 0:00:04\r\u001b[K    15% |█████                           | 6.9MB 10.8MB/s eta 0:00:04\r\u001b[K    15% |█████▏                          | 6.9MB 10.3MB/s eta 0:00:04\r\u001b[K    16% |█████▏                          | 6.9MB 10.2MB/s eta 0:00:04\r\u001b[K    16% |█████▏                          | 6.9MB 7.8MB/s eta 0:00:05\r\u001b[K    16% |█████▏                          | 7.0MB 6.1MB/s eta 0:00:06\r\u001b[K    16% |█████▏                          | 7.0MB 6.1MB/s eta 0:00:06\r\u001b[K    16% |█████▏                          | 7.0MB 5.8MB/s eta 0:00:07\r\u001b[K    16% |█████▏                          | 7.0MB 5.7MB/s eta 0:00:07\r\u001b[K    16% |█████▏                          | 7.0MB 6.5MB/s eta 0:00:06\r\u001b[K    16% |█████▏                          | 7.0MB 3.4MB/s eta 0:00:11\r\u001b[K    16% |█████▏                          | 7.0MB 3.3MB/s eta 0:00:11",
      "\r\u001b[K    16% |█████▏                          | 7.0MB 3.2MB/s eta 0:00:12\r\u001b[K    16% |█████▏                          | 7.0MB 3.3MB/s eta 0:00:12\r\u001b[K    16% |█████▏                          | 7.0MB 3.7MB/s eta 0:00:10\r\u001b[K    16% |█████▏                          | 7.1MB 3.9MB/s eta 0:00:10\r\u001b[K    16% |█████▏                          | 7.1MB 4.0MB/s eta 0:00:10\r\u001b[K    16% |█████▎                          | 7.1MB 4.0MB/s eta 0:00:10\r\u001b[K    16% |█████▎                          | 7.1MB 4.0MB/s eta 0:00:10\r\u001b[K    16% |█████▎                          | 7.1MB 4.1MB/s eta 0:00:09\r\u001b[K    16% |█████▎                          | 7.1MB 10.1MB/s eta 0:00:04\r\u001b[K    16% |█████▎                          | 7.1MB 10.8MB/s eta 0:00:04\r\u001b[K    16% |█████▎                          | 7.1MB 12.8MB/s eta 0:00:03\r\u001b[K    16% |█████▎                          | 7.1MB 13.0MB/s eta 0:00:03\r\u001b[K    16% |█████▎                          | 7.1MB 13.3MB/s eta 0:00:03\r\u001b[K    16% |█████▎                          | 7.2MB 17.5MB/s eta 0:00:03\r\u001b[K    16% |█████▎                          | 7.2MB 17.8MB/s eta 0:00:03\r\u001b[K    16% |█████▎                          | 7.2MB 21.6MB/s eta 0:00:02\r\u001b[K    16% |█████▎                          | 7.2MB 23.0MB/s eta 0:00:02\r\u001b[K    16% |█████▎                          | 7.2MB 20.7MB/s eta 0:00:02\r\u001b[K    16% |█████▎                          | 7.2MB 21.6MB/s eta 0:00:02\r\u001b[K    16% |█████▍                          | 7.2MB 22.4MB/s eta 0:00:02\r\u001b[K    16% |█████▍                          | 7.2MB 22.9MB/s eta 0:00:02\r\u001b[K    16% |█████▍                          | 7.2MB 23.2MB/s eta 0:00:02\r\u001b[K    16% |█████▍                          | 7.2MB 12.0MB/s eta 0:00:03\r\u001b[K    16% |█████▍                          | 7.3MB 11.9MB/s eta 0:00:04\r\u001b[K    16% |█████▍                          | 7.3MB 11.7MB/s eta 0:00:04\r\u001b[K    16% |█████▍                          | 7.3MB 11.7MB/s eta 0:00:04\r\u001b[K    16% |█████▍                          | 7.3MB 10.6MB/s eta 0:00:04\r\u001b[K    16% |█████▍                          | 7.3MB 9.9MB/s eta 0:00:04\r\u001b[K    16% |█████▍                          | 7.3MB 7.0MB/s eta 0:00:06\r\u001b[K    16% |█████▍                          | 7.3MB 6.6MB/s eta 0:00:06\r\u001b[K    16% |█████▍                          | 7.3MB 6.4MB/s eta 0:00:06\r\u001b[K    16% |█████▍                          | 7.3MB 6.2MB/s eta 0:00:06\r\u001b[K    16% |█████▍                          | 7.4MB 5.5MB/s eta 0:00:07\r\u001b[K    17% |█████▍                          | 7.4MB 5.2MB/s eta 0:00:07\r\u001b[K    17% |█████▌                          | 7.4MB 5.1MB/s eta 0:00:08\r\u001b[K    17% |█████▌                          | 7.4MB 5.1MB/s eta 0:00:08\r\u001b[K    17% |█████▌                          | 7.4MB 5.3MB/s eta 0:00:07\r\u001b[K    17% |█████▌                          | 7.4MB 5.7MB/s eta 0:00:07\r\u001b[K    17% |█████▌                          | 7.4MB 7.6MB/s eta 0:00:05\r\u001b[K    17% |█████▌                          | 7.4MB 7.9MB/s eta 0:00:05\r\u001b[K    17% |█████▌                          | 7.4MB 7.7MB/s eta 0:00:05\r\u001b[K    17% |█████▌                          | 7.4MB 7.8MB/s eta 0:00:05\r\u001b[K    17% |█████▌                          | 7.5MB 13.1MB/s eta 0:00:03\r\u001b[K    17% |█████▌                          | 7.5MB 10.6MB/s eta 0:00:04\r\u001b[K    17% |█████▌                          | 7.5MB 10.9MB/s eta 0:00:04\r\u001b[K    17% |█████▌                          | 7.5MB 10.6MB/s eta 0:00:04",
      "\r\u001b[K    17% |█████▌                          | 7.5MB 4.1MB/s eta 0:00:09\r\u001b[K    17% |█████▌                          | 7.5MB 4.1MB/s eta 0:00:09\r\u001b[K    17% |█████▌                          | 7.5MB 3.5MB/s eta 0:00:11\r\u001b[K    17% |█████▋                          | 7.5MB 3.5MB/s eta 0:00:11\r\u001b[K    17% |█████▋                          | 7.5MB 3.5MB/s eta 0:00:11\r\u001b[K    17% |█████▋                          | 7.5MB 3.6MB/s eta 0:00:11\r\u001b[K    17% |█████▋                          | 7.6MB 3.6MB/s eta 0:00:10\r\u001b[K    17% |█████▋                          | 7.6MB 3.8MB/s eta 0:00:10",
      "\r\u001b[K    17% |█████▋                          | 7.6MB 1.3MB/s eta 0:00:29\r\u001b[K    17% |█████▋                          | 7.6MB 1.3MB/s eta 0:00:28\r\u001b[K    17% |█████▋                          | 7.6MB 1.6MB/s eta 0:00:23\r\u001b[K    17% |█████▋                          | 7.6MB 1.6MB/s eta 0:00:23\r\u001b[K    17% |█████▋                          | 7.6MB 1.7MB/s eta 0:00:22\r\u001b[K    17% |█████▋                          | 7.6MB 1.7MB/s eta 0:00:22\r\u001b[K    17% |█████▋                          | 7.6MB 1.7MB/s eta 0:00:21\r\u001b[K    17% |█████▋                          | 7.6MB 1.7MB/s eta 0:00:21\r\u001b[K    17% |█████▋                          | 7.7MB 1.7MB/s eta 0:00:21\r\u001b[K    17% |█████▊                          | 7.7MB 1.8MB/s eta 0:00:21\r\u001b[K    17% |█████▊                          | 7.7MB 27.0MB/s eta 0:00:02\r\u001b[K    17% |█████▊                          | 7.7MB 30.3MB/s eta 0:00:02\r\u001b[K    17% |█████▊                          | 7.7MB 30.6MB/s eta 0:00:02\r\u001b[K    17% |█████▊                          | 7.7MB 31.3MB/s eta 0:00:02\r\u001b[K    17% |█████▊                          | 7.7MB 34.7MB/s eta 0:00:02\r\u001b[K    17% |█████▊                          | 7.7MB 36.0MB/s eta 0:00:01\r\u001b[K    17% |█████▊                          | 7.7MB 36.5MB/s eta 0:00:01\r\u001b[K    17% |█████▊                          | 7.8MB 37.5MB/s eta 0:00:01\r\u001b[K    17% |█████▊                          | 7.8MB 37.7MB/s eta 0:00:01\r\u001b[K    17% |█████▊                          | 7.8MB 37.9MB/s eta 0:00:01\r\u001b[K    17% |█████▊                          | 7.8MB 37.6MB/s eta 0:00:01\r\u001b[K    17% |█████▊                          | 7.8MB 35.8MB/s eta 0:00:01\r\u001b[K    18% |█████▊                          | 7.8MB 35.4MB/s eta 0:00:02\r\u001b[K    18% |█████▊                          | 7.8MB 34.3MB/s eta 0:00:02\r\u001b[K    18% |█████▉                          | 7.8MB 33.1MB/s eta 0:00:02\r\u001b[K    18% |█████▉                          | 7.8MB 32.9MB/s eta 0:00:02\r\u001b[K    18% |█████▉                          | 7.8MB 31.5MB/s eta 0:00:02\r\u001b[K    18% |█████▉                          | 7.9MB 15.7MB/s eta 0:00:03\r\u001b[K    18% |█████▉                          | 7.9MB 13.7MB/s eta 0:00:03\r\u001b[K    18% |█████▉                          | 7.9MB 13.1MB/s eta 0:00:03\r\u001b[K    18% |█████▉                          | 7.9MB 13.0MB/s eta 0:00:03\r\u001b[K    18% |█████▉                          | 7.9MB 12.1MB/s eta 0:00:03\r\u001b[K    18% |█████▉                          | 7.9MB 10.3MB/s eta 0:00:04\r\u001b[K    18% |█████▉                          | 7.9MB 10.3MB/s eta 0:00:04\r\u001b[K    18% |█████▉                          | 7.9MB 10.3MB/s eta 0:00:04\r\u001b[K    18% |█████▉                          | 7.9MB 10.3MB/s eta 0:00:04\r\u001b[K    18% |█████▉                          | 7.9MB 10.3MB/s eta 0:00:04\r\u001b[K    18% |█████▉                          | 8.0MB 15.1MB/s eta 0:00:03\r\u001b[K    18% |█████▉                          | 8.0MB 17.7MB/s eta 0:00:02\r\u001b[K    18% |██████                          | 8.0MB 16.5MB/s eta 0:00:03\r\u001b[K    18% |██████                          | 8.0MB 15.6MB/s eta 0:00:03\r\u001b[K    18% |██████                          | 8.0MB 17.3MB/s eta 0:00:03\r\u001b[K    18% |██████                          | 8.0MB 19.8MB/s eta 0:00:02\r\u001b[K    18% |██████                          | 8.0MB 20.5MB/s eta 0:00:02",
      "\r\u001b[K    18% |██████                          | 8.0MB 2.3MB/s eta 0:00:16\r\u001b[K    18% |██████                          | 8.0MB 2.2MB/s eta 0:00:16\r\u001b[K    18% |██████                          | 8.0MB 2.2MB/s eta 0:00:17\r\u001b[K    18% |██████                          | 8.1MB 2.1MB/s eta 0:00:17\r\u001b[K    18% |██████                          | 8.1MB 2.1MB/s eta 0:00:17\r\u001b[K    18% |██████                          | 8.1MB 2.2MB/s eta 0:00:17\r\u001b[K    18% |██████                          | 8.1MB 2.1MB/s eta 0:00:17\r\u001b[K    18% |██████                          | 8.1MB 2.1MB/s eta 0:00:17\r\u001b[K    18% |██████                          | 8.1MB 2.1MB/s eta 0:00:17\r\u001b[K    18% |██████                          | 8.1MB 2.1MB/s eta 0:00:17\r\u001b[K    18% |██████                          | 8.1MB 10.6MB/s eta 0:00:04\r\u001b[K    18% |██████                          | 8.1MB 11.6MB/s eta 0:00:04\r\u001b[K    18% |██████                          | 8.2MB 12.1MB/s eta 0:00:03\r\u001b[K    18% |██████                          | 8.2MB 14.1MB/s eta 0:00:03\r\u001b[K    18% |██████                          | 8.2MB 14.3MB/s eta 0:00:03\r\u001b[K    18% |██████                          | 8.2MB 14.4MB/s eta 0:00:03\r\u001b[K    18% |██████                          | 8.2MB 18.7MB/s eta 0:00:02\r\u001b[K    18% |██████                          | 8.2MB 20.2MB/s eta 0:00:02\r\u001b[K    18% |██████                          | 8.2MB 22.0MB/s eta 0:00:02\r\u001b[K    18% |██████                          | 8.2MB 23.1MB/s eta 0:00:02\r\u001b[K    19% |██████                          | 8.2MB 22.6MB/s eta 0:00:02\r\u001b[K    19% |██████                          | 8.2MB 24.8MB/s eta 0:00:02\r\u001b[K    19% |██████                          | 8.3MB 28.0MB/s eta 0:00:02\r\u001b[K    19% |██████                          | 8.3MB 28.5MB/s eta 0:00:02\r\u001b[K    19% |██████▏                         | 8.3MB 27.5MB/s eta 0:00:02\r\u001b[K    19% |██████▏                         | 8.3MB 26.2MB/s eta 0:00:02\r\u001b[K    19% |██████▏                         | 8.3MB 25.1MB/s eta 0:00:02\r\u001b[K    19% |██████▏                         | 8.3MB 22.7MB/s eta 0:00:02\r\u001b[K    19% |██████▏                         | 8.3MB 22.0MB/s eta 0:00:02\r\u001b[K    19% |██████▏                         | 8.3MB 22.3MB/s eta 0:00:02\r\u001b[K    19% |██████▏                         | 8.3MB 22.4MB/s eta 0:00:02\r\u001b[K    19% |██████▏                         | 8.3MB 22.1MB/s eta 0:00:02\r\u001b[K    19% |██████▏                         | 8.4MB 22.4MB/s eta 0:00:02\r\u001b[K    19% |██████▏                         | 8.4MB 22.2MB/s eta 0:00:02\r\u001b[K    19% |██████▏                         | 8.4MB 23.5MB/s eta 0:00:02\r\u001b[K    19% |██████▏                         | 8.4MB 19.3MB/s eta 0:00:02\r\u001b[K    19% |██████▏                         | 8.4MB 7.7MB/s eta 0:00:05\r\u001b[K    19% |██████▏                         | 8.4MB 7.9MB/s eta 0:00:05",
      "\r\u001b[K    19% |██████▏                         | 8.4MB 1.2MB/s eta 0:00:29\r\u001b[K    19% |██████▎                         | 8.4MB 1.2MB/s eta 0:00:29\r\u001b[K    19% |██████▎                         | 8.4MB 1.2MB/s eta 0:00:30\r\u001b[K    19% |██████▎                         | 8.4MB 1.2MB/s eta 0:00:30\r\u001b[K    19% |██████▎                         | 8.5MB 1.2MB/s eta 0:00:29\r\u001b[K    19% |██████▎                         | 8.5MB 1.2MB/s eta 0:00:30\r\u001b[K    19% |██████▎                         | 8.5MB 1.2MB/s eta 0:00:30\r\u001b[K    19% |██████▎                         | 8.5MB 1.2MB/s eta 0:00:30\r\u001b[K    19% |██████▎                         | 8.5MB 1.3MB/s eta 0:00:28\r\u001b[K    19% |██████▎                         | 8.5MB 1.3MB/s eta 0:00:28\r\u001b[K    19% |██████▎                         | 8.5MB 9.0MB/s eta 0:00:04\r\u001b[K    19% |██████▎                         | 8.5MB 8.5MB/s eta 0:00:05\r\u001b[K    19% |██████▎                         | 8.5MB 8.3MB/s eta 0:00:05\r\u001b[K    19% |██████▎                         | 8.6MB 8.0MB/s eta 0:00:05\r\u001b[K    19% |██████▎                         | 8.6MB 7.6MB/s eta 0:00:05\r\u001b[K    19% |██████▍                         | 8.6MB 7.8MB/s eta 0:00:05\r\u001b[K    19% |██████▍                         | 8.6MB 8.5MB/s eta 0:00:05\r\u001b[K    19% |██████▍                         | 8.6MB 8.7MB/s eta 0:00:04\r\u001b[K    19% |██████▍                         | 8.6MB 10.3MB/s eta 0:00:04",
      "\r\u001b[K    19% |██████▍                         | 8.6MB 3.1MB/s eta 0:00:12\r\u001b[K    19% |██████▍                         | 8.6MB 3.2MB/s eta 0:00:11\r\u001b[K    19% |██████▍                         | 8.6MB 3.2MB/s eta 0:00:11\r\u001b[K    19% |██████▍                         | 8.6MB 3.3MB/s eta 0:00:11\r\u001b[K    19% |██████▍                         | 8.7MB 3.3MB/s eta 0:00:11\r\u001b[K    20% |██████▍                         | 8.7MB 3.4MB/s eta 0:00:11\r\u001b[K    20% |██████▍                         | 8.7MB 3.4MB/s eta 0:00:11\r\u001b[K    20% |██████▍                         | 8.7MB 3.4MB/s eta 0:00:11\r\u001b[K    20% |██████▍                         | 8.7MB 3.4MB/s eta 0:00:11\r\u001b[K    20% |██████▍                         | 8.7MB 3.4MB/s eta 0:00:11\r\u001b[K    20% |██████▍                         | 8.7MB 18.2MB/s eta 0:00:02\r\u001b[K    20% |██████▌                         | 8.7MB 19.7MB/s eta 0:00:02\r\u001b[K    20% |██████▌                         | 8.7MB 26.3MB/s eta 0:00:02\r\u001b[K    20% |██████▌                         | 8.7MB 28.1MB/s eta 0:00:02\r\u001b[K    20% |██████▌                         | 8.8MB 29.3MB/s eta 0:00:02\r\u001b[K    20% |██████▌                         | 8.8MB 31.4MB/s eta 0:00:02\r\u001b[K    20% |██████▌                         | 8.8MB 33.4MB/s eta 0:00:02\r\u001b[K    20% |██████▌                         | 8.8MB 34.7MB/s eta 0:00:01\r\u001b[K    20% |██████▌                         | 8.8MB 13.7MB/s eta 0:00:03\r\u001b[K    20% |██████▌                         | 8.8MB 11.9MB/s eta 0:00:03\r\u001b[K    20% |██████▌                         | 8.8MB 11.9MB/s eta 0:00:03\r\u001b[K    20% |██████▌                         | 8.8MB 6.4MB/s eta 0:00:06\r\u001b[K    20% |██████▌                         | 8.8MB 5.6MB/s eta 0:00:07\r\u001b[K    20% |██████▌                         | 8.8MB 4.3MB/s eta 0:00:09\r\u001b[K    20% |██████▌                         | 8.9MB 2.5MB/s eta 0:00:14\r\u001b[K    20% |██████▌                         | 8.9MB 2.5MB/s eta 0:00:14\r\u001b[K    20% |██████▋                         | 8.9MB 2.5MB/s eta 0:00:15\r\u001b[K    20% |██████▋                         | 8.9MB 2.4MB/s eta 0:00:15\r\u001b[K    20% |██████▋                         | 8.9MB 2.7MB/s eta 0:00:13",
      "\r\u001b[K    20% |██████▋                         | 8.9MB 2.3MB/s eta 0:00:16\r\u001b[K    20% |██████▋                         | 8.9MB 2.2MB/s eta 0:00:16\r\u001b[K    20% |██████▋                         | 8.9MB 2.7MB/s eta 0:00:13\r\u001b[K    20% |██████▋                         | 8.9MB 2.5MB/s eta 0:00:14\r\u001b[K    20% |██████▋                         | 8.9MB 2.9MB/s eta 0:00:12\r\u001b[K    20% |██████▋                         | 9.0MB 4.7MB/s eta 0:00:08\r\u001b[K    20% |██████▋                         | 9.0MB 2.5MB/s eta 0:00:14\r\u001b[K    20% |██████▋                         | 9.0MB 2.6MB/s eta 0:00:14\r\u001b[K    20% |██████▋                         | 9.0MB 2.2MB/s eta 0:00:16\r\u001b[K    20% |██████▋                         | 9.0MB 2.2MB/s eta 0:00:16\r\u001b[K    20% |██████▋                         | 9.0MB 2.6MB/s eta 0:00:14\r\u001b[K    20% |██████▋                         | 9.0MB 2.6MB/s eta 0:00:14\r\u001b[K    20% |██████▊                         | 9.0MB 2.6MB/s eta 0:00:14",
      "\r\u001b[K    20% |██████▊                         | 9.0MB 2.5MB/s eta 0:00:14\r\u001b[K    20% |██████▊                         | 9.1MB 2.4MB/s eta 0:00:15\r\u001b[K    20% |██████▊                         | 9.1MB 2.5MB/s eta 0:00:14\r\u001b[K    20% |██████▊                         | 9.1MB 4.1MB/s eta 0:00:09\r\u001b[K    20% |██████▊                         | 9.1MB 3.6MB/s eta 0:00:10\r\u001b[K    20% |██████▊                         | 9.1MB 4.8MB/s eta 0:00:08\r\u001b[K    21% |██████▊                         | 9.1MB 2.7MB/s eta 0:00:13\r\u001b[K    21% |██████▊                         | 9.1MB 2.7MB/s eta 0:00:13\r\u001b[K    21% |██████▊                         | 9.1MB 2.4MB/s eta 0:00:15\r\u001b[K    21% |██████▊                         | 9.1MB 2.3MB/s eta 0:00:15\r\u001b[K    21% |██████▊                         | 9.1MB 2.6MB/s eta 0:00:14\r\u001b[K    21% |██████▊                         | 9.2MB 2.6MB/s eta 0:00:14\r\u001b[K    21% |██████▊                         | 9.2MB 2.6MB/s eta 0:00:14\r\u001b[K    21% |██████▉                         | 9.2MB 2.5MB/s eta 0:00:14\r\u001b[K    21% |██████▉                         | 9.2MB 2.7MB/s eta 0:00:13\r\u001b[K    21% |██████▉                         | 9.2MB 2.7MB/s eta 0:00:13",
      "\r\u001b[K    21% |██████▉                         | 9.2MB 4.4MB/s eta 0:00:08\r\u001b[K    21% |██████▉                         | 9.2MB 2.9MB/s eta 0:00:12\r\u001b[K    21% |██████▉                         | 9.2MB 3.5MB/s eta 0:00:10\r\u001b[K    21% |██████▉                         | 9.2MB 2.7MB/s eta 0:00:13\r\u001b[K    21% |██████▉                         | 9.2MB 2.7MB/s eta 0:00:13\r\u001b[K    21% |██████▉                         | 9.3MB 2.4MB/s eta 0:00:14\r\u001b[K    21% |██████▉                         | 9.3MB 2.4MB/s eta 0:00:14\r\u001b[K    21% |██████▉                         | 9.3MB 2.8MB/s eta 0:00:13\r\u001b[K    21% |██████▉                         | 9.3MB 2.2MB/s eta 0:00:16\r\u001b[K    21% |██████▉                         | 9.3MB 2.1MB/s eta 0:00:17\r\u001b[K    21% |██████▉                         | 9.3MB 2.2MB/s eta 0:00:16\r\u001b[K    21% |██████▉                         | 9.3MB 3.0MB/s eta 0:00:12\r\u001b[K    21% |███████                         | 9.3MB 3.0MB/s eta 0:00:12\r\u001b[K    21% |███████                         | 9.3MB 4.2MB/s eta 0:00:09",
      "\r\u001b[K    21% |███████                         | 9.3MB 2.7MB/s eta 0:00:13\r\u001b[K    21% |███████                         | 9.4MB 3.2MB/s eta 0:00:11\r\u001b[K    21% |███████                         | 9.4MB 2.8MB/s eta 0:00:13\r\u001b[K    21% |███████                         | 9.4MB 2.4MB/s eta 0:00:15\r\u001b[K    21% |███████                         | 9.4MB 3.1MB/s eta 0:00:11\r\u001b[K    21% |███████                         | 9.4MB 3.1MB/s eta 0:00:11\r\u001b[K    21% |███████                         | 9.4MB 3.2MB/s eta 0:00:11\r\u001b[K    21% |███████                         | 9.4MB 2.4MB/s eta 0:00:15\r\u001b[K    21% |███████                         | 9.4MB 2.3MB/s eta 0:00:15\r\u001b[K    21% |███████                         | 9.4MB 2.3MB/s eta 0:00:15\r\u001b[K    21% |███████                         | 9.5MB 3.2MB/s eta 0:00:11\r\u001b[K    21% |███████                         | 9.5MB 3.0MB/s eta 0:00:12\r\u001b[K    21% |███████                         | 9.5MB 3.6MB/s eta 0:00:10",
      "\r\u001b[K    21% |███████                         | 9.5MB 3.0MB/s eta 0:00:12\r\u001b[K    21% |███████                         | 9.5MB 2.9MB/s eta 0:00:12\r\u001b[K    21% |███████                         | 9.5MB 2.6MB/s eta 0:00:14\r\u001b[K    21% |███████                         | 9.5MB 2.4MB/s eta 0:00:14\r\u001b[K    21% |███████                         | 9.5MB 3.2MB/s eta 0:00:11\r\u001b[K    22% |███████                         | 9.5MB 3.3MB/s eta 0:00:11\r\u001b[K    22% |███████                         | 9.5MB 2.4MB/s eta 0:00:15\r\u001b[K    22% |███████                         | 9.6MB 2.5MB/s eta 0:00:14\r\u001b[K    22% |███████                         | 9.6MB 2.5MB/s eta 0:00:14\r\u001b[K    22% |███████                         | 9.6MB 2.5MB/s eta 0:00:14\r\u001b[K    22% |███████                         | 9.6MB 3.4MB/s eta 0:00:10\r\u001b[K    22% |███████                         | 9.6MB 3.2MB/s eta 0:00:11\r\u001b[K    22% |███████                         | 9.6MB 3.8MB/s eta 0:00:09\r\u001b[K    22% |███████                         | 9.6MB 3.3MB/s eta 0:00:11",
      "\r\u001b[K    22% |███████▏                        | 9.6MB 2.4MB/s eta 0:00:15\r\u001b[K    22% |███████▏                        | 9.6MB 2.4MB/s eta 0:00:15\r\u001b[K    22% |███████▏                        | 9.6MB 3.3MB/s eta 0:00:11\r\u001b[K    22% |███████▏                        | 9.7MB 3.2MB/s eta 0:00:11\r\u001b[K    22% |███████▏                        | 9.7MB 2.9MB/s eta 0:00:12\r\u001b[K    22% |███████▏                        | 9.7MB 2.4MB/s eta 0:00:15\r\u001b[K    22% |███████▏                        | 9.7MB 2.5MB/s eta 0:00:14\r\u001b[K    22% |███████▏                        | 9.7MB 2.6MB/s eta 0:00:13\r\u001b[K    22% |███████▏                        | 9.7MB 2.6MB/s eta 0:00:14\r\u001b[K    22% |███████▏                        | 9.7MB 3.1MB/s eta 0:00:11\r\u001b[K    22% |███████▏                        | 9.7MB 4.0MB/s eta 0:00:09\r\u001b[K    22% |███████▏                        | 9.7MB 4.2MB/s eta 0:00:08\r\u001b[K    22% |███████▏                        | 9.7MB 3.5MB/s eta 0:00:10",
      "\r\u001b[K    22% |███████▏                        | 9.8MB 2.4MB/s eta 0:00:15\r\u001b[K    22% |███████▏                        | 9.8MB 2.6MB/s eta 0:00:13\r\u001b[K    22% |███████▎                        | 9.8MB 3.4MB/s eta 0:00:10\r\u001b[K    22% |███████▎                        | 9.8MB 2.6MB/s eta 0:00:14\r\u001b[K    22% |███████▎                        | 9.8MB 2.7MB/s eta 0:00:13\r\u001b[K    22% |███████▎                        | 9.8MB 2.5MB/s eta 0:00:14\r\u001b[K    22% |███████▎                        | 9.8MB 2.5MB/s eta 0:00:14\r\u001b[K    22% |███████▎                        | 9.8MB 2.5MB/s eta 0:00:14\r\u001b[K    22% |███████▎                        | 9.8MB 2.4MB/s eta 0:00:14\r\u001b[K    22% |███████▎                        | 9.9MB 2.7MB/s eta 0:00:13\r\u001b[K    22% |███████▎                        | 9.9MB 3.8MB/s eta 0:00:09\r\u001b[K    22% |███████▎                        | 9.9MB 2.4MB/s eta 0:00:14\r\u001b[K    22% |███████▎                        | 9.9MB 2.4MB/s eta 0:00:15\r\u001b[K    22% |███████▎                        | 9.9MB 2.9MB/s eta 0:00:12\r\u001b[K    22% |███████▎                        | 9.9MB 2.9MB/s eta 0:00:12",
      "\r\u001b[K    22% |███████▎                        | 9.9MB 2.7MB/s eta 0:00:13\r\u001b[K    22% |███████▎                        | 9.9MB 2.4MB/s eta 0:00:14\r\u001b[K    22% |███████▍                        | 9.9MB 2.6MB/s eta 0:00:13\r\u001b[K    22% |███████▍                        | 9.9MB 2.5MB/s eta 0:00:14\r\u001b[K    22% |███████▍                        | 10.0MB 2.5MB/s eta 0:00:14\r\u001b[K    23% |███████▍                        | 10.0MB 2.7MB/s eta 0:00:13\r\u001b[K    23% |███████▍                        | 10.0MB 3.4MB/s eta 0:00:10\r\u001b[K    23% |███████▍                        | 10.0MB 3.4MB/s eta 0:00:10\r\u001b[K    23% |███████▍                        | 10.0MB 3.5MB/s eta 0:00:10\r\u001b[K    23% |███████▍                        | 10.0MB 2.3MB/s eta 0:00:15\r\u001b[K    23% |███████▍                        | 10.0MB 2.7MB/s eta 0:00:13\r\u001b[K    23% |███████▍                        | 10.0MB 2.8MB/s eta 0:00:12\r\u001b[K    23% |███████▍                        | 10.0MB 2.8MB/s eta 0:00:13\r\u001b[K    23% |███████▍                        | 10.0MB 3.0MB/s eta 0:00:12",
      "\r\u001b[K    23% |███████▍                        | 10.1MB 2.0MB/s eta 0:00:17\r\u001b[K    23% |███████▍                        | 10.1MB 2.0MB/s eta 0:00:17\r\u001b[K    23% |███████▌                        | 10.1MB 2.4MB/s eta 0:00:14",
      "\r\u001b[K    23% |███████▌                        | 10.1MB 821kB/s eta 0:00:41\r\u001b[K    23% |███████▌                        | 10.1MB 821kB/s eta 0:00:41\r\u001b[K    23% |███████▌                        | 10.1MB 919kB/s eta 0:00:37\r\u001b[K    23% |███████▌                        | 10.1MB 926kB/s eta 0:00:36\r\u001b[K    23% |███████▌                        | 10.1MB 946kB/s eta 0:00:36\r\u001b[K    23% |███████▌                        | 10.1MB 955kB/s eta 0:00:35\r\u001b[K    23% |███████▌                        | 10.1MB 955kB/s eta 0:00:35\r\u001b[K    23% |███████▌                        | 10.2MB 1.1MB/s eta 0:00:30\r\u001b[K    23% |███████▌                        | 10.2MB 1.1MB/s eta 0:00:29\r\u001b[K    23% |███████▌                        | 10.2MB 1.1MB/s eta 0:00:29\r\u001b[K    23% |███████▌                        | 10.2MB 14.4MB/s eta 0:00:03\r\u001b[K    23% |███████▌                        | 10.2MB 14.3MB/s eta 0:00:03\r\u001b[K    23% |███████▌                        | 10.2MB 19.3MB/s eta 0:00:02\r\u001b[K    23% |███████▌                        | 10.2MB 19.6MB/s eta 0:00:02\r\u001b[K    23% |███████▋                        | 10.2MB 23.0MB/s eta 0:00:02",
      "\r\u001b[K    23% |███████▋                        | 10.2MB 4.7MB/s eta 0:00:08\r\u001b[K    23% |███████▋                        | 10.3MB 4.4MB/s eta 0:00:08\r\u001b[K    23% |███████▋                        | 10.3MB 4.2MB/s eta 0:00:08\r\u001b[K    23% |███████▋                        | 10.3MB 4.2MB/s eta 0:00:08\r\u001b[K    23% |███████▋                        | 10.3MB 4.2MB/s eta 0:00:08\r\u001b[K    23% |███████▋                        | 10.3MB 4.2MB/s eta 0:00:08\r\u001b[K    23% |███████▋                        | 10.3MB 4.2MB/s eta 0:00:08\r\u001b[K    23% |███████▋                        | 10.3MB 4.0MB/s eta 0:00:09\r\u001b[K    23% |███████▋                        | 10.3MB 4.0MB/s eta 0:00:09\r\u001b[K    23% |███████▋                        | 10.3MB 3.5MB/s eta 0:00:10\r\u001b[K    23% |███████▋                        | 10.3MB 8.9MB/s eta 0:00:04\r\u001b[K    23% |███████▋                        | 10.4MB 9.7MB/s eta 0:00:04\r\u001b[K    23% |███████▋                        | 10.4MB 9.4MB/s eta 0:00:04\r\u001b[K    23% |███████▋                        | 10.4MB 9.3MB/s eta 0:00:04\r\u001b[K    23% |███████▊                        | 10.4MB 5.5MB/s eta 0:00:06\r\u001b[K    24% |███████▊                        | 10.4MB 5.5MB/s eta 0:00:07\r\u001b[K    24% |███████▊                        | 10.4MB 4.3MB/s eta 0:00:08\r\u001b[K    24% |███████▊                        | 10.4MB 2.5MB/s eta 0:00:14",
      "\r\u001b[K    24% |███████▊                        | 10.4MB 2.3MB/s eta 0:00:15\r\u001b[K    24% |███████▊                        | 10.4MB 2.2MB/s eta 0:00:16\r\u001b[K    24% |███████▊                        | 10.4MB 2.2MB/s eta 0:00:16\r\u001b[K    24% |███████▊                        | 10.5MB 2.2MB/s eta 0:00:16\r\u001b[K    24% |███████▊                        | 10.5MB 2.0MB/s eta 0:00:17\r\u001b[K    24% |███████▊                        | 10.5MB 2.0MB/s eta 0:00:17\r\u001b[K    24% |███████▊                        | 10.5MB 1.8MB/s eta 0:00:19\r\u001b[K    24% |███████▊                        | 10.5MB 1.6MB/s eta 0:00:21\r\u001b[K    24% |███████▊                        | 10.5MB 1.7MB/s eta 0:00:19",
      "\r\u001b[K    24% |███████▊                        | 10.5MB 1.8MB/s eta 0:00:19\r\u001b[K    24% |███████▉                        | 10.5MB 1.8MB/s eta 0:00:18\r\u001b[K    24% |███████▉                        | 10.5MB 2.1MB/s eta 0:00:16\r\u001b[K    24% |███████▉                        | 10.5MB 2.1MB/s eta 0:00:16\r\u001b[K    24% |███████▉                        | 10.6MB 2.1MB/s eta 0:00:16\r\u001b[K    24% |███████▉                        | 10.6MB 2.3MB/s eta 0:00:15\r\u001b[K    24% |███████▉                        | 10.6MB 1.7MB/s eta 0:00:20\r\u001b[K    24% |███████▉                        | 10.6MB 2.2MB/s eta 0:00:15\r\u001b[K    24% |███████▉                        | 10.6MB 2.2MB/s eta 0:00:15\r\u001b[K    24% |███████▉                        | 10.6MB 1.5MB/s eta 0:00:22\r\u001b[K    24% |███████▉                        | 10.6MB 2.0MB/s eta 0:00:17",
      "\r\u001b[K    24% |███████▉                        | 10.6MB 2.1MB/s eta 0:00:16\r\u001b[K    24% |███████▉                        | 10.6MB 2.1MB/s eta 0:00:16\r\u001b[K    24% |███████▉                        | 10.6MB 2.1MB/s eta 0:00:16\r\u001b[K    24% |███████▉                        | 10.7MB 2.1MB/s eta 0:00:16\r\u001b[K    24% |███████▉                        | 10.7MB 2.1MB/s eta 0:00:16\r\u001b[K    24% |████████                        | 10.7MB 2.3MB/s eta 0:00:14\r\u001b[K    24% |████████                        | 10.7MB 2.0MB/s eta 0:00:17\r\u001b[K    24% |████████                        | 10.7MB 2.3MB/s eta 0:00:15\r\u001b[K    24% |████████                        | 10.7MB 2.1MB/s eta 0:00:16\r\u001b[K    24% |████████                        | 10.7MB 2.1MB/s eta 0:00:16\r\u001b[K    24% |████████                        | 10.7MB 2.2MB/s eta 0:00:15\r\u001b[K    24% |████████                        | 10.7MB 2.1MB/s eta 0:00:16\r\u001b[K    24% |████████                        | 10.8MB 2.1MB/s eta 0:00:16",
      "\r\u001b[K    24% |████████                        | 10.8MB 2.1MB/s eta 0:00:16\r\u001b[K    24% |████████                        | 10.8MB 1.9MB/s eta 0:00:18\r\u001b[K    24% |████████                        | 10.8MB 2.3MB/s eta 0:00:15\r\u001b[K    24% |████████                        | 10.8MB 1.7MB/s eta 0:00:19\r\u001b[K    24% |████████                        | 10.8MB 1.7MB/s eta 0:00:19\r\u001b[K    24% |████████                        | 10.8MB 2.3MB/s eta 0:00:14\r\u001b[K    24% |████████                        | 10.8MB 2.2MB/s eta 0:00:15\r\u001b[K    25% |████████                        | 10.8MB 2.1MB/s eta 0:00:16\r\u001b[K    25% |████████                        | 10.8MB 2.2MB/s eta 0:00:15\r\u001b[K    25% |████████                        | 10.9MB 2.1MB/s eta 0:00:16\r\u001b[K    25% |████████                        | 10.9MB 2.2MB/s eta 0:00:15",
      "\r\u001b[K    25% |████████                        | 10.9MB 2.1MB/s eta 0:00:16\r\u001b[K    25% |████████                        | 10.9MB 2.1MB/s eta 0:00:16\r\u001b[K    25% |████████                        | 10.9MB 2.2MB/s eta 0:00:15\r\u001b[K    25% |████████                        | 10.9MB 1.9MB/s eta 0:00:17\r\u001b[K    25% |████████                        | 10.9MB 2.3MB/s eta 0:00:15\r\u001b[K    25% |████████                        | 10.9MB 2.2MB/s eta 0:00:15\r\u001b[K    25% |████████                        | 10.9MB 2.2MB/s eta 0:00:15\r\u001b[K    25% |████████                        | 10.9MB 2.2MB/s eta 0:00:15\r\u001b[K    25% |████████                        | 11.0MB 2.4MB/s eta 0:00:14\r\u001b[K    25% |████████                        | 11.0MB 2.4MB/s eta 0:00:14\r\u001b[K    25% |████████▏                       | 11.0MB 2.4MB/s eta 0:00:14",
      "\r\u001b[K    25% |████████▏                       | 11.0MB 1.7MB/s eta 0:00:20\r\u001b[K    25% |████████▏                       | 11.0MB 2.4MB/s eta 0:00:14\r\u001b[K    25% |████████▏                       | 11.0MB 2.4MB/s eta 0:00:14\r\u001b[K    25% |████████▏                       | 11.0MB 2.0MB/s eta 0:00:16\r\u001b[K    25% |████████▏                       | 11.0MB 2.3MB/s eta 0:00:15\r\u001b[K    25% |████████▏                       | 11.0MB 2.3MB/s eta 0:00:15\r\u001b[K    25% |████████▏                       | 11.0MB 2.3MB/s eta 0:00:15\r\u001b[K    25% |████████▏                       | 11.1MB 2.2MB/s eta 0:00:15\r\u001b[K    25% |████████▏                       | 11.1MB 2.1MB/s eta 0:00:16\r\u001b[K    25% |████████▏                       | 11.1MB 2.3MB/s eta 0:00:14",
      "\r\u001b[K    25% |████████▏                       | 11.1MB 2.3MB/s eta 0:00:14\r\u001b[K    25% |████████▏                       | 11.1MB 1.9MB/s eta 0:00:17\r\u001b[K    25% |████████▏                       | 11.1MB 2.2MB/s eta 0:00:15\r\u001b[K    25% |████████▏                       | 11.1MB 2.2MB/s eta 0:00:15\r\u001b[K    25% |████████▎                       | 11.1MB 2.2MB/s eta 0:00:15\r\u001b[K    25% |████████▎                       | 11.1MB 2.2MB/s eta 0:00:15\r\u001b[K    25% |████████▎                       | 11.2MB 2.1MB/s eta 0:00:16\r\u001b[K    25% |████████▎                       | 11.2MB 2.2MB/s eta 0:00:15",
      "\r\u001b[K    25% |████████▎                       | 11.2MB 729kB/s eta 0:00:45\r\u001b[K    25% |████████▎                       | 11.2MB 715kB/s eta 0:00:45\r\u001b[K    25% |████████▎                       | 11.2MB 828kB/s eta 0:00:39\r\u001b[K    25% |████████▎                       | 11.2MB 901kB/s eta 0:00:36\r\u001b[K    25% |████████▎                       | 11.2MB 903kB/s eta 0:00:36\r\u001b[K    25% |████████▎                       | 11.2MB 966kB/s eta 0:00:34\r\u001b[K    25% |████████▎                       | 11.2MB 978kB/s eta 0:00:33\r\u001b[K    25% |████████▎                       | 11.2MB 990kB/s eta 0:00:33\r\u001b[K    25% |████████▎                       | 11.3MB 1.0MB/s eta 0:00:32\r\u001b[K    26% |████████▎                       | 11.3MB 1.0MB/s eta 0:00:32\r\u001b[K    26% |████████▎                       | 11.3MB 17.8MB/s eta 0:00:02\r\u001b[K    26% |████████▍                       | 11.3MB 45.8MB/s eta 0:00:01\r\u001b[K    26% |████████▍                       | 11.3MB 45.7MB/s eta 0:00:01\r\u001b[K    26% |████████▍                       | 11.3MB 43.3MB/s eta 0:00:01\r\u001b[K    26% |████████▍                       | 11.3MB 40.3MB/s eta 0:00:01\r\u001b[K    26% |████████▍                       | 11.3MB 40.6MB/s eta 0:00:01\r\u001b[K    26% |████████▍                       | 11.3MB 39.8MB/s eta 0:00:01\r\u001b[K    26% |████████▍                       | 11.3MB 7.2MB/s eta 0:00:05\r\u001b[K    26% |████████▍                       | 11.4MB 7.1MB/s eta 0:00:05\r\u001b[K    26% |████████▍                       | 11.4MB 5.4MB/s eta 0:00:06\r\u001b[K    26% |████████▍                       | 11.4MB 5.3MB/s eta 0:00:06",
      "\r\u001b[K    26% |████████▍                       | 11.4MB 2.6MB/s eta 0:00:13\r\u001b[K    26% |████████▍                       | 11.4MB 2.5MB/s eta 0:00:13\r\u001b[K    26% |████████▍                       | 11.4MB 2.5MB/s eta 0:00:13\r\u001b[K    26% |████████▍                       | 11.4MB 1.9MB/s eta 0:00:17\r\u001b[K    26% |████████▌                       | 11.4MB 1.8MB/s eta 0:00:19\r\u001b[K    26% |████████▌                       | 11.4MB 1.8MB/s eta 0:00:19\r\u001b[K    26% |████████▌                       | 11.4MB 1.4MB/s eta 0:00:23",
      "\r\u001b[K    26% |████████▌                       | 11.5MB 1.4MB/s eta 0:00:23\r\u001b[K    26% |████████▌                       | 11.5MB 1.5MB/s eta 0:00:21\r\u001b[K    26% |████████▌                       | 11.5MB 1.4MB/s eta 0:00:23\r\u001b[K    26% |████████▌                       | 11.5MB 2.0MB/s eta 0:00:16\r\u001b[K    26% |████████▌                       | 11.5MB 1.7MB/s eta 0:00:19\r\u001b[K    26% |████████▌                       | 11.5MB 1.2MB/s eta 0:00:26\r\u001b[K    26% |████████▌                       | 11.5MB 1.4MB/s eta 0:00:23\r\u001b[K    26% |████████▌                       | 11.5MB 1.4MB/s eta 0:00:23\r\u001b[K    26% |████████▌                       | 11.5MB 1.4MB/s eta 0:00:23\r\u001b[K    26% |████████▌                       | 11.6MB 2.2MB/s eta 0:00:15",
      "\r\u001b[K    26% |████████▌                       | 11.6MB 1.4MB/s eta 0:00:22\r\u001b[K    26% |████████▌                       | 11.6MB 1.4MB/s eta 0:00:22\r\u001b[K    26% |████████▋                       | 11.6MB 1.5MB/s eta 0:00:22\r\u001b[K    26% |████████▋                       | 11.6MB 1.2MB/s eta 0:00:27\r\u001b[K    26% |████████▋                       | 11.6MB 1.4MB/s eta 0:00:24\r\u001b[K    26% |████████▋                       | 11.6MB 1.9MB/s eta 0:00:17\r\u001b[K    26% |████████▋                       | 11.6MB 1.9MB/s eta 0:00:17",
      "\r\u001b[K    26% |████████▋                       | 11.6MB 1.5MB/s eta 0:00:21\r\u001b[K    26% |████████▋                       | 11.6MB 1.5MB/s eta 0:00:22\r\u001b[K    26% |████████▋                       | 11.7MB 1.5MB/s eta 0:00:22\r\u001b[K    26% |████████▋                       | 11.7MB 1.7MB/s eta 0:00:19\r\u001b[K    26% |████████▋                       | 11.7MB 1.6MB/s eta 0:00:20\r\u001b[K    26% |████████▋                       | 11.7MB 1.6MB/s eta 0:00:20\r\u001b[K    27% |████████▋                       | 11.7MB 2.2MB/s eta 0:00:15\r\u001b[K    27% |████████▋                       | 11.7MB 2.2MB/s eta 0:00:15\r\u001b[K    27% |████████▋                       | 11.7MB 1.5MB/s eta 0:00:21"
     ],
     "output_type": "stream"
    }
   ]
  },
  {
   "cell_type": "code",
   "metadata": {
    "id": "cwhOJ9K4Pwce",
    "colab_type": "code",
    "outputId": "b81cb338-a318-42ae-9c0a-7325881a8af5",
    "colab": {
     "base_uri": "https://localhost:8080/",
     "height": 97
    },
    "pycharm": {
     "is_executing": true
    }
   },
   "source": [
    "import imblearn\n",
    "imblearn.__version__"
   ],
   "execution_count": null,
   "outputs": []
  },
  {
   "cell_type": "code",
   "metadata": {
    "id": "61_OJBkAQQ1-",
    "colab_type": "code",
    "colab": {},
    "pycharm": {
     "is_executing": true
    }
   },
   "source": [
    "from imblearn.datasets import make_imbalance\n",
    "from sklearn.preprocessing import StandardScaler\n",
    "from imblearn.datasets import fetch_datasets\n",
    "from sklearn.model_selection import train_test_split\n",
    "from sklearn.metrics import accuracy_score, confusion_matrix, recall_score, f1_score\n",
    "import pandas as pd"
   ],
   "execution_count": null,
   "outputs": []
  },
  {
   "cell_type": "code",
   "metadata": {
    "id": "4FgLOe_xPjKR",
    "colab_type": "code",
    "colab": {},
    "pycharm": {
     "is_executing": true
    }
   },
   "source": [
    "def get_dataset_pd(name):\n",
    "  X = pd.DataFrame(fetch_datasets()[name]['data'])\n",
    "  target = pd.DataFrame(fetch_datasets()[name]['target']).replace(-1, 0)\n",
    "  assert target.shape[0] == X.shape[0]\n",
    "  return X, target"
   ],
   "execution_count": null,
   "outputs": []
  },
  {
   "cell_type": "code",
   "metadata": {
    "id": "5-goWD6JedC5",
    "colab_type": "code",
    "colab": {},
    "pycharm": {
     "is_executing": true
    }
   },
   "source": [
    "def aug_train(X_temp):\n",
    "  # Подавать внутрь датафрейм X_temp с колонкой y\n",
    "  num_zeros = X_temp[X_temp['y'] == 0].to_numpy().shape[0]\n",
    "  num_ones = X_temp[X_temp['y'] == 1].to_numpy().shape[0]\n",
    "\n",
    "  num_add = num_zeros - num_ones\n",
    "  minority_points = X_temp[X_temp['y'] == 1].drop('y', 1).to_numpy()\n",
    "\n",
    "  minority_points, dict_ans = generate_points_for_n_minority(minority_points, num_add)\n",
    "  assert minority_points.shape[0] == X_temp[X_temp['y'] == 1].to_numpy().shape[0] + num_add \n",
    "  assert num_zeros == minority_points.shape[0]\n",
    "\n",
    "  # testing:\n",
    "  initial_rows = X_temp[X_temp['y'] == 1].to_numpy().shape[0]\n",
    "  n_points = 0\n",
    "  for key, points in dict_ans.items():\n",
    "    for point in points:\n",
    "      n_points+=1\n",
    "      assert key[1] <= initial_rows and key[0] <= initial_rows\n",
    "      assert test_points_on_line(minority_points[key[1]], minority_points[key[0]], point)\n",
    "  assert n_points == num_add\n",
    "  assert np.all(np.equal(minority_points[:initial_rows], X_temp[X_temp['y'] == 1].drop('y', 1).to_numpy()))\n",
    "\n",
    "  X_aug = np.concatenate((X_temp[X_temp['y'] == 0].drop('y', 1).to_numpy(), minority_points), axis=0)\n",
    "  y_aug = np.array([0] * num_zeros + [1] * num_zeros)\n",
    "  assert X_aug.shape[0] == 2 * num_zeros\n",
    "  assert y_aug.shape[0] == X_aug.shape[0]\n",
    "\n",
    "  df_new = pd.DataFrame(X_aug)\n",
    "  df_new['y'] = y_aug\n",
    "\n",
    "  return df_new"
   ],
   "execution_count": null,
   "outputs": []
  },
  {
   "cell_type": "code",
   "metadata": {
    "id": "_NMe0CqLhNi_",
    "colab_type": "code",
    "colab": {},
    "pycharm": {
     "is_executing": true
    }
   },
   "source": [
    "from sklearn.svm import SVC\n",
    "from sklearn.ensemble import RandomForestClassifier\n",
    "from sklearn.metrics import accuracy_score, f1_score, precision_score, recall_score, classification_report, confusion_matrix"
   ],
   "execution_count": null,
   "outputs": []
  },
  {
   "cell_type": "code",
   "metadata": {
    "id": "2FbEogSSkjjl",
    "colab_type": "code",
    "colab": {
     "base_uri": "https://localhost:8080/",
     "height": 156
    },
    "outputId": "07551a14-bb66-42b3-8934-8165844434ae",
    "pycharm": {
     "is_executing": true
    }
   },
   "source": [
    "# 1. Get dataset:\n",
    "X, y = get_dataset_pd('abalone')\n",
    "\n",
    "# 2. Split on test and train\n",
    "X_train, X_test, y_train, y_test = train_test_split(X, y, test_size=0.2) # random_state=42\n",
    "\n",
    "# 3. Fit:\n",
    "clf = RandomForestClassifier()\n",
    "clf.fit(X_train, y_train)\n",
    "\n",
    "# 4. Predict and metrics:\n",
    "y_pred = clf.predict(X_test)\n",
    "print(f1_score(y_test.to_numpy().flatten(), y_pred))\n",
    "print(precision_score(y_test.to_numpy().flatten(), y_pred))\n",
    "print(recall_score(y_test.to_numpy().flatten(), y_pred)) "
   ],
   "execution_count": null,
   "outputs": []
  },
  {
   "cell_type": "code",
   "metadata": {
    "id": "S-VzjvD3nj_u",
    "colab_type": "code",
    "colab": {},
    "pycharm": {
     "is_executing": true
    }
   },
   "source": [
    ""
   ],
   "execution_count": null,
   "outputs": []
  },
  {
   "cell_type": "code",
   "metadata": {
    "id": "L7kthKzkl-6e",
    "colab_type": "code",
    "colab": {
     "base_uri": "https://localhost:8080/",
     "height": 34
    },
    "outputId": "022b3b40-a2e3-4964-c090-57d4a523abca",
    "pycharm": {
     "is_executing": true
    }
   },
   "source": [
    "y_pred.sum()"
   ],
   "execution_count": null,
   "outputs": []
  },
  {
   "cell_type": "code",
   "metadata": {
    "id": "2npXqjjxlHNi",
    "colab_type": "code",
    "colab": {},
    "pycharm": {
     "is_executing": true
    }
   },
   "source": [
    ""
   ],
   "execution_count": null,
   "outputs": []
  },
  {
   "cell_type": "code",
   "metadata": {
    "id": "-q1Z1nlPTWA_",
    "colab_type": "code",
    "colab": {
     "base_uri": "https://localhost:8080/",
     "height": 258
    },
    "outputId": "7d14c610-9a84-443a-c3c1-91e7895691c2",
    "pycharm": {
     "is_executing": true
    }
   },
   "source": [
    "# 1. Get dataset:\n",
    "X, y = get_dataset_pd('abalone')\n",
    "\n",
    "# 2. Split on test and train\n",
    "X_train, X_test, y_train, y_test = train_test_split(X, y, test_size=0.2) # random_state=42\n",
    "\n",
    "# 3. Augment train part by generating new minority points\n",
    "X_train['y'] = y_train\n",
    "X_train_aug = aug_train(X_train)\n",
    "\n",
    "# 4. Shuffle\n",
    "X_train_aug = X_train_aug.sample(frac=1) # shuffle\n",
    "\n",
    "# 5. Drop target from train\n",
    "y_train_aug = X_train_aug['y']\n",
    "X_train_aug = X_train_aug.drop('y', 1)\n",
    "\n",
    "# 6. Fit:\n",
    "clf = RandomForestClassifier()\n",
    "clf.fit(X_train_aug, y_train_aug)\n",
    "\n",
    "# 7. Predict and metrics:\n",
    "y_pred = clf.predict(X_test)\n",
    "print(f1_score(y_test, y_pred))\n",
    "print(precision_score(y_test, y_pred))\n",
    "print(recall_score(y_test, y_pred)) \n"
   ],
   "execution_count": null,
   "outputs": []
  },
  {
   "cell_type": "code",
   "metadata": {
    "id": "9FxrB1z2n1aV",
    "colab_type": "code",
    "colab": {
     "base_uri": "https://localhost:8080/",
     "height": 419
    },
    "outputId": "b25512e7-7b70-4ab7-e333-d35804be4e32",
    "pycharm": {
     "is_executing": true
    }
   },
   "source": [
    "X_train"
   ],
   "execution_count": null,
   "outputs": []
  },
  {
   "cell_type": "code",
   "metadata": {
    "id": "d58yDzpTnKfJ",
    "colab_type": "code",
    "colab": {
     "base_uri": "https://localhost:8080/",
     "height": 419
    },
    "outputId": "a9877080-c6af-4778-f940-edd012419f1c",
    "pycharm": {
     "is_executing": true
    }
   },
   "source": [
    "X_test"
   ],
   "execution_count": null,
   "outputs": []
  },
  {
   "cell_type": "code",
   "metadata": {
    "id": "RLrkWxX3nNyq",
    "colab_type": "code",
    "colab": {
     "base_uri": "https://localhost:8080/",
     "height": 419
    },
    "outputId": "285de282-5aff-49d8-ffa8-87eb9eee565b",
    "pycharm": {
     "is_executing": true
    }
   },
   "source": [
    "X"
   ],
   "execution_count": null,
   "outputs": []
  },
  {
   "cell_type": "code",
   "metadata": {
    "id": "J2U3qK6NipuQ",
    "colab_type": "code",
    "colab": {},
    "pycharm": {
     "is_executing": true
    }
   },
   "source": [
    ""
   ],
   "execution_count": null,
   "outputs": []
  },
  {
   "cell_type": "code",
   "metadata": {
    "id": "vOe4m47VK_U0",
    "colab_type": "code",
    "colab": {
     "base_uri": "https://localhost:8080/",
     "height": 663
    },
    "outputId": "08c1587a-f317-4e56-97fc-676d63a6baae",
    "pycharm": {
     "is_executing": true
    }
   },
   "source": [
    "y_test.to_numpy().flatten() - y_pred"
   ],
   "execution_count": null,
   "outputs": []
  },
  {
   "cell_type": "code",
   "metadata": {
    "id": "zb3FYYp9MvBN",
    "colab_type": "code",
    "colab": {},
    "pycharm": {
     "is_executing": true
    }
   },
   "source": [
    ""
   ],
   "execution_count": null,
   "outputs": []
  },
  {
   "cell_type": "code",
   "metadata": {
    "id": "KCCEVOHQaqLA",
    "colab_type": "code",
    "colab": {},
    "pycharm": {
     "is_executing": true
    }
   },
   "source": [
    ""
   ],
   "execution_count": null,
   "outputs": []
  },
  {
   "cell_type": "code",
   "metadata": {
    "id": "63zR840zb-b-",
    "colab_type": "code",
    "outputId": "80b228c0-4189-4acc-a594-c22b2832a911",
    "colab": {
     "base_uri": "https://localhost:8080/",
     "height": 181
    },
    "pycharm": {
     "is_executing": true
    }
   },
   "source": [
    "\n",
    "df_new"
   ],
   "execution_count": null,
   "outputs": []
  },
  {
   "cell_type": "code",
   "metadata": {
    "id": "Dl5D344lerg_",
    "colab_type": "code",
    "colab": {},
    "pycharm": {
     "is_executing": true
    }
   },
   "source": [
    "X.shape"
   ],
   "execution_count": null,
   "outputs": []
  },
  {
   "cell_type": "code",
   "metadata": {
    "id": "nVmyfsLHaQi6",
    "colab_type": "code",
    "colab": {},
    "pycharm": {
     "is_executing": true
    }
   },
   "source": [
    ""
   ],
   "execution_count": null,
   "outputs": []
  }
 ]
}
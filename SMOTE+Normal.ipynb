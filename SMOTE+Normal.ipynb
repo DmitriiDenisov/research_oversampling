{
  "nbformat": 4,
  "nbformat_minor": 0,
  "metadata": {
    "colab": {
      "name": "SMOTE+Normal.ipynb",
      "provenance": [],
      "authorship_tag": "ABX9TyOGcw4CF7W5T5OQzzlnfA/X",
      "include_colab_link": true
    },
    "kernelspec": {
      "name": "python3",
      "display_name": "Python 3"
    }
  },
  "cells": [
    {
      "cell_type": "markdown",
      "metadata": {
        "id": "view-in-github",
        "colab_type": "text"
      },
      "source": [
        "<a href=\"https://colab.research.google.com/github/DmitriiDenisov/research_oversampling/blob/master/SMOTE%2BNormal.ipynb\" target=\"_parent\"><img src=\"https://colab.research.google.com/assets/colab-badge.svg\" alt=\"Open In Colab\"/></a>"
      ]
    },
    {
      "cell_type": "code",
      "metadata": {
        "id": "AjsqcqdbGmDU",
        "colab_type": "code",
        "colab": {}
      },
      "source": [
        "# Generates normilized Gamma distributed value\n",
        "def generate_gamma():\n",
        "    shape, scale = 1., 3.\n",
        "    s = np.random.gamma(shape, scale, 1)[0]\n",
        "    if (s > 20): # заглушка пока что\n",
        "        s = 20\n",
        "    s = s / 20\n",
        "    return s\n",
        "\n",
        "# Generates random point in rectangle [xy_min; xy_max]\n",
        "def generate_random_point(n=2, xy_min=[0, 0], xy_max=[10, 20]):\n",
        "    data = np.random.uniform(low=xy_min, high=xy_max, size=(n,2))\n",
        "    return data\n",
        "\n",
        "# Returns directional vector\n",
        "def get_vector_two_points(two_points):\n",
        "    return two_points[1] - two_points[0]"
      ],
      "execution_count": 0,
      "outputs": []
    },
    {
      "cell_type": "code",
      "metadata": {
        "id": "-ubHtu7DHU-2",
        "colab_type": "code",
        "colab": {}
      },
      "source": [
        "import numpy as np"
      ],
      "execution_count": 0,
      "outputs": []
    },
    {
      "cell_type": "code",
      "metadata": {
        "id": "la50FiVcG7go",
        "colab_type": "code",
        "colab": {}
      },
      "source": [
        "# Generates new point on line between two initial points\n",
        "def generate_point_on_line(start_point, v, gamma_coeff):\n",
        "    return start_point + v * gamma_coeff"
      ],
      "execution_count": 0,
      "outputs": []
    },
    {
      "cell_type": "code",
      "metadata": {
        "id": "r7reyg8MGsWd",
        "colab_type": "code",
        "colab": {}
      },
      "source": [
        "NUM_RAND_POINTS = 2"
      ],
      "execution_count": 0,
      "outputs": []
    },
    {
      "cell_type": "code",
      "metadata": {
        "id": "q827o0ESGsZH",
        "colab_type": "code",
        "colab": {
          "base_uri": "https://localhost:8080/",
          "height": 68
        },
        "outputId": "24a3a4fd-a0d1-42bf-ee16-ade7fd69bb33"
      },
      "source": [
        "# Generate two Random point2:\n",
        "two_points = generate_random_point(n=2, xy_min=[0, 0], xy_max=[10, 20])\n",
        "print(two_points)\n",
        "# get vector for these two points\n",
        "\n",
        "print(v)"
      ],
      "execution_count": 52,
      "outputs": [
        {
          "output_type": "stream",
          "text": [
            "[[ 6.47744652 11.86613411]\n",
            " [ 8.54072153  4.35599402]]\n",
            "[-0.13086006 -5.57902209]\n"
          ],
          "name": "stdout"
        }
      ]
    },
    {
      "cell_type": "code",
      "metadata": {
        "id": "IbY8CSLYI6-R",
        "colab_type": "code",
        "colab": {
          "base_uri": "https://localhost:8080/",
          "height": 34
        },
        "outputId": "6e8c0bd0-7058-4f64-c578-1609f7a9c646"
      },
      "source": [
        "two_points[1] - two_points[0]"
      ],
      "execution_count": 53,
      "outputs": [
        {
          "output_type": "execute_result",
          "data": {
            "text/plain": [
              "array([ 2.06327501, -7.51014009])"
            ]
          },
          "metadata": {
            "tags": []
          },
          "execution_count": 53
        }
      ]
    },
    {
      "cell_type": "code",
      "metadata": {
        "id": "_JPMG13aIavp",
        "colab_type": "code",
        "colab": {}
      },
      "source": [
        "two_points = np.array([[0, 0], [30, 20]])"
      ],
      "execution_count": 0,
      "outputs": []
    },
    {
      "cell_type": "code",
      "metadata": {
        "id": "-eSy4oPnGsoG",
        "colab_type": "code",
        "colab": {}
      },
      "source": [
        "v = get_vector_two_points(two_points)\n",
        "gamma_coeff = generate_gamma()\n",
        "\n",
        "generated_points = generate_point_on_line(two_points[0], v, gamma_coeff)[np.newaxis, :]\n",
        "\n",
        "for i in range(NUM_RAND_POINTS - 1):\n",
        "    gamma_coeff = generate_gamma()\n",
        "    generated_points = np.concatenate((generate_point_on_line(two_points[0], v, gamma_coeff)[np.newaxis, :], generated_points),\n",
        "                                      axis=0)"
      ],
      "execution_count": 0,
      "outputs": []
    },
    {
      "cell_type": "code",
      "metadata": {
        "id": "wj-L2KLGGsjH",
        "colab_type": "code",
        "colab": {
          "base_uri": "https://localhost:8080/",
          "height": 262
        },
        "outputId": "e99e8604-b204-41b0-9ff5-9cd50f0435fb"
      },
      "source": [
        "import matplotlib.pyplot as plt\n",
        "plt.style.use('seaborn-whitegrid')\n",
        "import numpy as np\n",
        "\n",
        "\n",
        "initial_x, initial_y = map(list, zip(*two_points))\n",
        "generated_x, generated_y = map(list, zip(*generated_points))\n",
        "\n",
        "plt.plot(initial_x, initial_y, 'o', color='blue');\n",
        "plt.plot(generated_x, generated_y, 'o', color='red');\n",
        "x, y = np.random.multivariate_normal(mean=[generated_x[0], generated_y[0]], cov=[[1 ,0], [0, 1]], size=200).T\n",
        "plt.plot(x, y, 'x')\n",
        "plt.plot(initial_x, initial_y, '-');"
      ],
      "execution_count": 59,
      "outputs": [
        {
          "output_type": "display_data",
          "data": {
            "image/png": "[encoded data removed]",
            "text/plain": [
              "<Figure size 432x288 with 1 Axes>"
            ]
          },
          "metadata": {
            "tags": []
          }
        }
      ]
    }
  ]
}
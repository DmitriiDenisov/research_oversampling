{
  "nbformat": 4,
  "nbformat_minor": 0,
  "metadata": {
    "colab": {
      "name": "Research_gamma.ipynb",
      "provenance": [],
      "include_colab_link": true
    },
    "kernelspec": {
      "display_name": ".venv",
      "language": "python",
      "name": ".venv"
    },
    "language_info": {
      "codemirror_mode": {
        "name": "ipython",
        "version": 3
      },
      "file_extension": ".py",
      "mimetype": "text/x-python",
      "name": "python",
      "nbconvert_exporter": "python",
      "pygments_lexer": "ipython3",
      "version": "3.7.4"
    }
  },
  "cells": [
    {
      "cell_type": "markdown",
      "metadata": {
        "id": "view-in-github",
        "colab_type": "text"
      },
      "source": [
        "<a href=\"https://colab.research.google.com/github/DmitriiDenisov/research_oversampling/blob/master/Research_gamma.ipynb\" target=\"_parent\"><img src=\"https://colab.research.google.com/assets/colab-badge.svg\" alt=\"Open In Colab\"/></a>"
      ]
    },
    {
      "cell_type": "markdown",
      "metadata": {
        "colab_type": "text",
        "id": "ceoNp6jIwqF9"
      },
      "source": [
        "### 1.\n",
        "- One random point\n",
        "- 2D plane"
      ]
    },
    {
      "cell_type": "code",
      "metadata": {
        "colab_type": "code",
        "id": "cFtdgA2OwqGB",
        "colab": {}
      },
      "source": [
        "import math\n",
        "import itertools\n",
        "import numpy as np\n",
        "import matplotlib.pyplot as plt\n",
        "from collections import defaultdict"
      ],
      "execution_count": 0,
      "outputs": []
    },
    {
      "cell_type": "code",
      "metadata": {
        "colab_type": "code",
        "id": "xj8E-lLawqGG",
        "colab": {}
      },
      "source": [
        "# Generates random point in rectangle [xy_min; xy_max]\n",
        "def generate_random_point(n=2, xy_min=[0, 0], xy_max=[10, 20]):\n",
        "    data = np.random.uniform(low=xy_min, high=xy_max, size=(n,2))\n",
        "    return data\n",
        "\n",
        "# Returns directional vector\n",
        "def get_vector_two_points(two_points):\n",
        "    return two_points[1] - two_points[0]"
      ],
      "execution_count": 0,
      "outputs": []
    },
    {
      "cell_type": "code",
      "metadata": {
        "colab_type": "code",
        "id": "M3UixHUFwqGJ",
        "outputId": "3e419ae2-abae-4cfc-f296-9c2a20009b1e",
        "colab": {
          "base_uri": "https://localhost:8080/",
          "height": 68
        }
      },
      "source": [
        "# Generate two Random point2:\n",
        "two_points = generate_random_point(n=2, xy_min=[0, 0], xy_max=[10, 20])\n",
        "print(two_points)\n",
        "# get vector for these two points\n",
        "v = get_vector_two_points(two_points)\n",
        "print(v)"
      ],
      "execution_count": 0,
      "outputs": [
        {
          "output_type": "stream",
          "text": [
            "[[ 3.52524732 19.9994757 ]\n",
            " [ 6.2493165  12.24024035]]\n",
            "[ 2.72406918 -7.75923534]\n"
          ],
          "name": "stdout"
        }
      ]
    },
    {
      "cell_type": "code",
      "metadata": {
        "colab_type": "code",
        "id": "q7PLtegIwqGO",
        "outputId": "8f8b0da0-86fb-4131-c890-cb8d41c31ec0",
        "colab": {
          "base_uri": "https://localhost:8080/",
          "height": 297
        }
      },
      "source": [
        "# JUST CHECKING how Gamma dist is look like\n",
        "\n",
        "N_points = 100000\n",
        "n_bins = 20\n",
        "\n",
        "shape, scale = 1., 3.  # mean=4, std=2*sqrt(2)\n",
        "s = np.random.gamma(shape, scale, 10000)\n",
        "\n",
        "\n",
        "fig, axs = plt.subplots(1, 2, sharey=True, tight_layout=True)\n",
        "\n",
        "# We can set the number of bins with the `bins` kwarg\n",
        "axs[0].hist(s, bins=n_bins)\n",
        "axs[1].hist(s, bins=2*n_bins)\n",
        "plt.show()"
      ],
      "execution_count": 0,
      "outputs": [
        {
          "output_type": "display_data",
          "data": {
            "image/png": "[encoded data removed]",
            "text/plain": [
              "<Figure size 432x288 with 2 Axes>"
            ]
          },
          "metadata": {
            "tags": []
          }
        }
      ]
    },
    {
      "cell_type": "code",
      "metadata": {
        "colab_type": "code",
        "id": "xbE6rxDwwqGT",
        "colab": {}
      },
      "source": [
        "# Generates normilized Gamma distributed value\n",
        "def generate_gamma():\n",
        "    shape, scale = 1., 3.\n",
        "    s = np.random.gamma(shape, scale, 1)[0]\n",
        "    if (s > 20): # заглушка пока что\n",
        "        s = 20\n",
        "    s = s / 20\n",
        "    return s"
      ],
      "execution_count": 0,
      "outputs": []
    },
    {
      "cell_type": "code",
      "metadata": {
        "colab_type": "code",
        "id": "KKsixbezwqGW",
        "colab": {}
      },
      "source": [
        "gamma_coeff = generate_gamma()"
      ],
      "execution_count": 0,
      "outputs": []
    },
    {
      "cell_type": "code",
      "metadata": {
        "colab_type": "code",
        "id": "lCMR509_wqGY",
        "colab": {}
      },
      "source": [
        "# Generates new point on line between two initial points\n",
        "def generate_point_on_line(start_point, v, gamma_coeff):\n",
        "    return start_point + v * gamma_coeff"
      ],
      "execution_count": 0,
      "outputs": []
    },
    {
      "cell_type": "code",
      "metadata": {
        "colab_type": "code",
        "id": "AGFA0DRwwqGa",
        "colab": {}
      },
      "source": [
        "generated_point = generate_point_on_line(two_points[0], v, gamma_coeff)"
      ],
      "execution_count": 0,
      "outputs": []
    },
    {
      "cell_type": "code",
      "metadata": {
        "colab_type": "code",
        "id": "hV2LVHKPwqGc",
        "outputId": "a216ae1b-3e33-4558-8479-6e107090acec",
        "colab": {
          "base_uri": "https://localhost:8080/",
          "height": 68
        }
      },
      "source": [
        "# For visualazion:\n",
        "initial_points_and_generated = np.concatenate((two_points, generated_point[np.newaxis, :]), axis=0)\n",
        "initial_points_and_generated"
      ],
      "execution_count": 0,
      "outputs": [
        {
          "output_type": "execute_result",
          "data": {
            "text/plain": [
              "array([[ 3.52524732, 19.9994757 ],\n",
              "       [ 6.2493165 , 12.24024035],\n",
              "       [ 4.14734723, 18.22748707]])"
            ]
          },
          "metadata": {
            "tags": []
          },
          "execution_count": 9
        }
      ]
    },
    {
      "cell_type": "code",
      "metadata": {
        "colab_type": "code",
        "id": "JNkG2gHZwqGf",
        "outputId": "e82a70d9-7b79-4adb-f4a5-2665b6a023a3",
        "colab": {
          "base_uri": "https://localhost:8080/",
          "height": 262
        }
      },
      "source": [
        "import matplotlib.pyplot as plt\n",
        "plt.style.use('seaborn-whitegrid')\n",
        "import numpy as np\n",
        "\n",
        "\n",
        "initial_x, initial_y = map(list, zip(*two_points))\n",
        "generated_x, generated_y = map(list, zip(*generated_point[np.newaxis, :]))\n",
        "\n",
        "plt.plot(initial_x, initial_y, 'o', color='blue');\n",
        "plt.plot(generated_x, generated_y, 'o', color='red');"
      ],
      "execution_count": 0,
      "outputs": [
        {
          "output_type": "display_data",
          "data": {
            "image/png": "[encoded data removed]",
            "text/plain": [
              "<Figure size 432x288 with 1 Axes>"
            ]
          },
          "metadata": {
            "tags": []
          }
        }
      ]
    },
    {
      "cell_type": "markdown",
      "metadata": {
        "colab_type": "text",
        "id": "QbIYZaRswqGh"
      },
      "source": [
        "## 2.\n",
        "- Multiple Random points\n",
        "- 2D plane"
      ]
    },
    {
      "cell_type": "code",
      "metadata": {
        "colab_type": "code",
        "id": "Uxoi3AJFwqGi",
        "colab": {}
      },
      "source": [
        "NUM_RAND_POINTS = 20"
      ],
      "execution_count": 0,
      "outputs": []
    },
    {
      "cell_type": "code",
      "metadata": {
        "colab_type": "code",
        "id": "nlF6k1ZFwqGl",
        "outputId": "5e2319a3-5c21-4d1d-fa26-0f025cde0f35",
        "colab": {
          "base_uri": "https://localhost:8080/",
          "height": 68
        }
      },
      "source": [
        "# Generate two Random point2:\n",
        "two_points = generate_random_point(n=2, xy_min=[0, 0], xy_max=[10, 20])\n",
        "print(two_points)\n",
        "# get vector for these two points\n",
        "v = get_vector_two_points(two_points)\n",
        "print(v)"
      ],
      "execution_count": 0,
      "outputs": [
        {
          "output_type": "stream",
          "text": [
            "[[3.09255642 0.65746773]\n",
            " [1.54065712 6.23002526]]\n",
            "[-1.55189929  5.57255753]\n"
          ],
          "name": "stdout"
        }
      ]
    },
    {
      "cell_type": "code",
      "metadata": {
        "colab_type": "code",
        "id": "aCb58R_bwqGn",
        "colab": {}
      },
      "source": [
        "gamma_coeff = generate_gamma()\n",
        "\n",
        "generated_points = generate_point_on_line(two_points[0], v, gamma_coeff)[np.newaxis, :]\n",
        "\n",
        "for i in range(NUM_RAND_POINTS - 1):\n",
        "    gamma_coeff = generate_gamma()\n",
        "    generated_points = np.concatenate((generate_point_on_line(two_points[0], v, gamma_coeff)[np.newaxis, :], generated_points),\n",
        "                                      axis=0)"
      ],
      "execution_count": 0,
      "outputs": []
    },
    {
      "cell_type": "code",
      "metadata": {
        "colab_type": "code",
        "id": "GeM-TwMzwqGp",
        "outputId": "dd414620-5034-4254-eeb6-da7d6f807380",
        "colab": {
          "base_uri": "https://localhost:8080/",
          "height": 262
        }
      },
      "source": [
        "import matplotlib.pyplot as plt\n",
        "plt.style.use('seaborn-whitegrid')\n",
        "import numpy as np\n",
        "\n",
        "\n",
        "initial_x, initial_y = map(list, zip(*two_points))\n",
        "generated_x, generated_y = map(list, zip(*generated_points))\n",
        "\n",
        "plt.plot(initial_x, initial_y, 'o', color='blue');\n",
        "plt.plot(generated_x, generated_y, 'o', color='red');\n",
        "plt.plot(initial_x, initial_y, '-');"
      ],
      "execution_count": 0,
      "outputs": [
        {
          "output_type": "display_data",
          "data": {
            "image/png": "[encoded data removed]",
            "text/plain": [
              "<Figure size 432x288 with 1 Axes>"
            ]
          },
          "metadata": {
            "tags": []
          }
        }
      ]
    },
    {
      "cell_type": "code",
      "metadata": {
        "colab_type": "code",
        "id": "rEgHAkUMwqGs",
        "outputId": "abfd3aa7-1b10-4144-91d1-bc12dcb2afb4",
        "colab": {
          "base_uri": "https://localhost:8080/",
          "height": 357
        }
      },
      "source": [
        "generated_points"
      ],
      "execution_count": 0,
      "outputs": [
        {
          "output_type": "execute_result",
          "data": {
            "text/plain": [
              "array([[2.90271979, 1.3391328 ],\n",
              "       [3.02486276, 0.90054201],\n",
              "       [2.9021156 , 1.34130232],\n",
              "       [3.06975329, 0.73934917],\n",
              "       [2.58567478, 2.47757752],\n",
              "       [2.87049825, 1.45483383],\n",
              "       [2.9892811 , 1.02830859],\n",
              "       [2.2061473 , 3.84038417],\n",
              "       [3.05782764, 0.78217177],\n",
              "       [2.99898612, 0.9934598 ],\n",
              "       [2.83866831, 1.56912874],\n",
              "       [3.01063745, 0.95162224],\n",
              "       [3.06590791, 0.75315715],\n",
              "       [2.77757707, 1.78849507],\n",
              "       [2.68640263, 2.1158841 ],\n",
              "       [2.95591479, 1.14812028],\n",
              "       [2.73594625, 1.93798296],\n",
              "       [2.76066238, 1.8492323 ],\n",
              "       [2.10669547, 4.19749564],\n",
              "       [3.0389308 , 0.85002651]])"
            ]
          },
          "metadata": {
            "tags": []
          },
          "execution_count": 15
        }
      ]
    },
    {
      "cell_type": "code",
      "metadata": {
        "colab_type": "code",
        "id": "SpZbCFw2wqGu",
        "outputId": "339cdefa-9af3-4a32-b3fc-cadaa78f8006",
        "colab": {
          "base_uri": "https://localhost:8080/",
          "height": 51
        }
      },
      "source": [
        "two_points"
      ],
      "execution_count": 0,
      "outputs": [
        {
          "output_type": "execute_result",
          "data": {
            "text/plain": [
              "array([[3.09255642, 0.65746773],\n",
              "       [1.54065712, 6.23002526]])"
            ]
          },
          "metadata": {
            "tags": []
          },
          "execution_count": 16
        }
      ]
    },
    {
      "cell_type": "markdown",
      "metadata": {
        "id": "kiHiauI-DGR-",
        "colab_type": "text"
      },
      "source": [
        "## 3.\n",
        "- One Random point\n",
        "- n dimentional space"
      ]
    },
    {
      "cell_type": "code",
      "metadata": {
        "id": "EotpYc2OC6AC",
        "colab_type": "code",
        "colab": {}
      },
      "source": [
        "# Generates n random points in hypercube [xy_min; xy_max]\n",
        "def generate_random_point_nd(num_points=2, n=10, min_=0, max_=10):\n",
        "    xy_min = [min_] * n\n",
        "    xy_max = [max_] * n\n",
        "    data = np.random.uniform(low=xy_min, high=xy_max, size=(num_points, n))\n",
        "    return data"
      ],
      "execution_count": 0,
      "outputs": []
    },
    {
      "cell_type": "code",
      "metadata": {
        "id": "m6AoFrI0C6AE",
        "colab_type": "code",
        "outputId": "a7908de4-51cc-4a2c-9e8a-1f1149839d60",
        "colab": {
          "base_uri": "https://localhost:8080/",
          "height": 119
        }
      },
      "source": [
        "two_points_nd = generate_random_point_nd(num_points=2, n=10)\n",
        "assert two_points_nd.shape[0] == 2\n",
        "assert two_points_nd.shape[1] == 10\n",
        "print(two_points_nd)\n",
        "# get vector for these two points\n",
        "v = get_vector_two_points(two_points_nd)\n",
        "print(v)"
      ],
      "execution_count": 0,
      "outputs": [
        {
          "output_type": "stream",
          "text": [
            "[[5.91218061 4.91705575 3.94396923 8.91934886 7.40306902 1.00066692\n",
            "  7.08431223 8.389947   4.47111984 0.71776881]\n",
            " [0.8637765  9.14230242 5.08093501 9.95896063 3.09678381 9.06283205\n",
            "  5.7421585  2.12594309 3.66747959 6.64921948]]\n",
            "[-5.0484041   4.22524667  1.13696578  1.03961177 -4.30628522  8.06216513\n",
            " -1.34215373 -6.26400391 -0.80364025  5.93145067]\n"
          ],
          "name": "stdout"
        }
      ]
    },
    {
      "cell_type": "code",
      "metadata": {
        "id": "V1VnnyPkC6AH",
        "colab_type": "code",
        "colab": {}
      },
      "source": [
        "gamma_coeff = generate_gamma()"
      ],
      "execution_count": 0,
      "outputs": []
    },
    {
      "cell_type": "code",
      "metadata": {
        "id": "rPKzf0DHC6AK",
        "colab_type": "code",
        "outputId": "255fea5c-a835-48b0-eea4-601f0ba164ee",
        "colab": {
          "base_uri": "https://localhost:8080/",
          "height": 51
        }
      },
      "source": [
        "generated_point = generate_point_on_line(two_points_nd[0], v, gamma_coeff)\n",
        "generated_point"
      ],
      "execution_count": 0,
      "outputs": [
        {
          "output_type": "execute_result",
          "data": {
            "text/plain": [
              "array([5.58810186, 5.18829249, 4.01695595, 8.986086  , 7.12663008,\n",
              "       1.51821193, 6.99815362, 7.98783369, 4.41953072, 1.09853411])"
            ]
          },
          "metadata": {
            "tags": []
          },
          "execution_count": 20
        }
      ]
    },
    {
      "cell_type": "code",
      "metadata": {
        "id": "QDMg6JFiC6AN",
        "colab_type": "code",
        "colab": {}
      },
      "source": [
        "def test_points_on_line(p1, p2, list_p3, tol=0.0001):\n",
        "    # Calculate two vectors and check if they are collinear\n",
        "    if len(list_p3.shape) == 1:\n",
        "        list_p3 = list_p3[np.newaxis, :]\n",
        "    vec_1 = p2 - p1\n",
        "    for p3 in list_p3:\n",
        "        vec_2 = (p3 - p1) / vec_1 \n",
        "        if  not all(abs(temp - vec_2[0]) < tol for temp in vec_2):\n",
        "            return False\n",
        "    return True"
      ],
      "execution_count": 0,
      "outputs": []
    },
    {
      "cell_type": "code",
      "metadata": {
        "id": "SNsVSAMrC6AP",
        "colab_type": "code",
        "colab": {}
      },
      "source": [
        "# Testing\n",
        "assert test_points_on_line(two_points_nd[0], two_points_nd[1], generated_point)"
      ],
      "execution_count": 0,
      "outputs": []
    },
    {
      "cell_type": "markdown",
      "metadata": {
        "id": "m21QYjwyC6AR",
        "colab_type": "text"
      },
      "source": [
        "## 4.\n",
        "- Multiple Random points\n",
        "- n dimentional space"
      ]
    },
    {
      "cell_type": "code",
      "metadata": {
        "id": "0C4GHi0qC6AS",
        "colab_type": "code",
        "colab": {}
      },
      "source": [
        "NUM_RAND_POINTS = 20\n",
        "N_FEATURES = 10"
      ],
      "execution_count": 0,
      "outputs": []
    },
    {
      "cell_type": "code",
      "metadata": {
        "id": "2lRnpsMfC6AX",
        "colab_type": "code",
        "outputId": "1e17a0ba-0f95-428d-b282-4c416b7da4de",
        "colab": {
          "base_uri": "https://localhost:8080/",
          "height": 119
        }
      },
      "source": [
        "two_points_nd = generate_random_point_nd(num_points=2, n=N_FEATURES)\n",
        "assert two_points_nd.shape[0] == 2\n",
        "assert two_points_nd.shape[1] == N_FEATURES\n",
        "print(two_points_nd)\n",
        "# get vector for these two points\n",
        "v = get_vector_two_points(two_points_nd)\n",
        "print(v)"
      ],
      "execution_count": 0,
      "outputs": [
        {
          "output_type": "stream",
          "text": [
            "[[0.44856275 3.57171416 3.38654801 8.18920008 2.706761   2.85013297\n",
            "  0.78408727 1.66872158 5.00827831 2.18429781]\n",
            " [4.35071422 1.53810701 5.27196853 2.996127   9.37697621 4.22962861\n",
            "  1.59748039 0.29571143 3.35909489 4.00952589]]\n",
            "[ 3.90215147 -2.03360714  1.88542053 -5.19307308  6.67021521  1.37949564\n",
            "  0.81339312 -1.37301014 -1.64918342  1.82522808]\n"
          ],
          "name": "stdout"
        }
      ]
    },
    {
      "cell_type": "code",
      "metadata": {
        "id": "n81Z09lSC6AY",
        "colab_type": "code",
        "colab": {}
      },
      "source": [
        "gamma_coeff = generate_gamma()\n",
        "\n",
        "generated_points = generate_point_on_line(two_points_nd[0], v, gamma_coeff)[np.newaxis, :]\n",
        "\n",
        "for i in range(NUM_RAND_POINTS - 1):\n",
        "    gamma_coeff = generate_gamma()\n",
        "    generated_points = np.concatenate((generate_point_on_line(two_points_nd[0], v, gamma_coeff)[np.newaxis, :], generated_points),\n",
        "                                      axis=0)\n",
        "    \n",
        "assert generated_points.shape[0] == NUM_RAND_POINTS\n",
        "assert generated_points.shape[1] == N_FEATURES"
      ],
      "execution_count": 0,
      "outputs": []
    },
    {
      "cell_type": "code",
      "metadata": {
        "id": "utp47DF5C6Aa",
        "colab_type": "code",
        "colab": {}
      },
      "source": [
        "assert test_points_on_line(two_points_nd[0], two_points_nd[1], generated_points)"
      ],
      "execution_count": 0,
      "outputs": []
    },
    {
      "cell_type": "markdown",
      "metadata": {
        "id": "tPIGqFa0Vau1",
        "colab_type": "text"
      },
      "source": [
        "## 5.\n",
        "- Generalization of the approach for n minority points for n dimentional space"
      ]
    },
    {
      "cell_type": "code",
      "metadata": {
        "id": "MDcrbXCfC6Ad",
        "colab_type": "code",
        "colab": {}
      },
      "source": [
        "NUM_RAND_POINTS = 20\n",
        "NUM_MINORITY_POINTS = 5\n",
        "N_FEATURES = 10\n",
        "NUM_TO_ADD = 15"
      ],
      "execution_count": 0,
      "outputs": []
    },
    {
      "cell_type": "code",
      "metadata": {
        "id": "EExNjG9DVkwG",
        "colab_type": "code",
        "colab": {}
      },
      "source": [
        "minority_points_nd = generate_random_point_nd(num_points=NUM_MINORITY_POINTS, n=N_FEATURES)\n",
        "assert minority_points_nd.shape[0] == NUM_MINORITY_POINTS\n",
        "assert minority_points_nd.shape[1] == N_FEATURES\n",
        "# print(two_points_nd)\n",
        "# get vector for these two points\n",
        "# v = get_vector_two_points(N_points_nd)\n",
        "# print(v)"
      ],
      "execution_count": 0,
      "outputs": []
    },
    {
      "cell_type": "code",
      "metadata": {
        "id": "WYvEtCeSWeSQ",
        "colab_type": "code",
        "colab": {}
      },
      "source": [
        "def generate_points_for_n_minority(minority_points, num_to_add):\n",
        "  dict_ans = defaultdict(lambda: np.array([]).reshape(0, N_FEATURES))\n",
        "  # Choose random pairs with repetition:\n",
        "  all_comb = np.array(list(itertools.combinations(range(len(minority_points)), r=2)))\n",
        "  rand_idx = np.random.choice(range(len(all_comb)), num_to_add, replace=True)\n",
        "  assert rand_idx.shape == (num_to_add, )\n",
        "  # print(rand_idx)\n",
        "  # print(all_comb)\n",
        "  all_comb = all_comb[rand_idx]\n",
        "  # assert random_choice_minority.shape[0] == num_to_add and random_choice_minority.shape[1] == 2\n",
        "  for i, (idx1, idx2) in enumerate(all_comb):\n",
        "    v = get_vector_two_points([minority_points[idx1], minority_points[idx2]])\n",
        "    gamma_coeff = generate_gamma()\n",
        "    generated_point = generate_point_on_line(minority_points[idx1], v, gamma_coeff)\n",
        "    dict_ans[tuple(all_comb[i])] = np.vstack([dict_ans[tuple(all_comb[i])], generated_point])\n",
        "    \n",
        "  return dict_ans\n",
        "\n",
        "dict_ans = generate_points_for_n_minority(minority_points_nd, num_to_add=NUM_TO_ADD)"
      ],
      "execution_count": 0,
      "outputs": []
    },
    {
      "cell_type": "code",
      "metadata": {
        "id": "Y3orJL1Obqpq",
        "colab_type": "code",
        "colab": {}
      },
      "source": [
        "# testing:\n",
        "n_points = 0\n",
        "for key, points in dict_ans.items():\n",
        "  for point in points:\n",
        "    n_points+=1\n",
        "    assert test_points_on_line(minority_points_nd[key[1]], minority_points_nd[key[0]], point)\n",
        "assert n_points == NUM_TO_ADD"
      ],
      "execution_count": 0,
      "outputs": []
    },
    {
      "cell_type": "markdown",
      "metadata": {
        "id": "F2prKsNU3E6O",
        "colab_type": "text"
      },
      "source": [
        "## 6.\n",
        "- Gamma distribution with negative values"
      ]
    },
    {
      "cell_type": "code",
      "metadata": {
        "id": "zSDn1PXx3PFV",
        "colab_type": "code",
        "colab": {}
      },
      "source": [
        "NUM_POINTS = 50"
      ],
      "execution_count": 0,
      "outputs": []
    },
    {
      "cell_type": "code",
      "metadata": {
        "id": "UZcmopzC3Q15",
        "colab_type": "code",
        "colab": {
          "base_uri": "https://localhost:8080/",
          "height": 68
        },
        "outputId": "6c99031f-46a0-44f2-9650-fb26ad5e1fc9"
      },
      "source": [
        "# Generate two Random point2:\n",
        "two_points = generate_random_point(n=2, xy_min=[0, 0], xy_max=[10, 20])\n",
        "print(two_points)\n",
        "# get vector for these two points\n",
        "v = get_vector_two_points(two_points)\n",
        "print(v)"
      ],
      "execution_count": 118,
      "outputs": [
        {
          "output_type": "stream",
          "text": [
            "[[ 4.62090137 18.5728696 ]\n",
            " [ 9.5272109   0.95147467]]\n",
            "[  4.90630953 -17.62139493]\n"
          ],
          "name": "stdout"
        }
      ]
    },
    {
      "cell_type": "code",
      "metadata": {
        "id": "3BLx8Eag3W5s",
        "colab_type": "code",
        "colab": {}
      },
      "source": [
        "def max_pdf_gamma(k, theta):\n",
        "  return (k-1) * theta\n",
        "\n",
        "def generate_gamma_negative():\n",
        "    k, theta = 3, 2.1\n",
        "    s = np.random.gamma(k, theta, 1)[0]\n",
        "    s = s - max_pdf_gamma(k, theta) # shift by X axis\n",
        "    if (s > 20): # заглушка пока что\n",
        "        s = 20\n",
        "    s = s / 20\n",
        "    return s"
      ],
      "execution_count": 0,
      "outputs": []
    },
    {
      "cell_type": "code",
      "metadata": {
        "id": "zB7BPYZQ1_J4",
        "colab_type": "code",
        "colab": {}
      },
      "source": [
        "gamma_coeff = generate_gamma_negative()\n",
        "\n",
        "generated_points = generate_point_on_line(two_points[0], v, gamma_coeff)[np.newaxis, :]\n",
        "\n",
        "for i in range(NUM_POINTS - 1):\n",
        "    gamma_coeff = generate_gamma_negative()\n",
        "    generated_points = np.concatenate((generate_point_on_line(two_points[0], v, gamma_coeff)[np.newaxis, :], generated_points),\n",
        "                                      axis=0)"
      ],
      "execution_count": 0,
      "outputs": []
    },
    {
      "cell_type": "code",
      "metadata": {
        "id": "VdwdBtmV2AQA",
        "colab_type": "code",
        "colab": {
          "base_uri": "https://localhost:8080/",
          "height": 262
        },
        "outputId": "9c12ee84-d3f1-4907-d456-62bdc38bb2d2"
      },
      "source": [
        "import matplotlib.pyplot as plt\n",
        "plt.style.use('seaborn-whitegrid')\n",
        "import numpy as np\n",
        "\n",
        "\n",
        "initial_x, initial_y = map(list, zip(*two_points))\n",
        "generated_x, generated_y = map(list, zip(*generated_points))\n",
        "\n",
        "plt.plot(initial_x, initial_y, 'o', color='blue');\n",
        "plt.plot(generated_x, generated_y, '.', color='red');\n",
        "plt.plot(initial_x, initial_y, '-');"
      ],
      "execution_count": 121,
      "outputs": [
        {
          "output_type": "display_data",
          "data": {
            "image/png": "[encoded data removed]",
            "text/plain": [
              "<Figure size 432x288 with 1 Axes>"
            ]
          },
          "metadata": {
            "tags": []
          }
        }
      ]
    },
    {
      "cell_type": "code",
      "metadata": {
        "id": "urF8zVtA2vrW",
        "colab_type": "code",
        "colab": {}
      },
      "source": [
        ""
      ],
      "execution_count": 0,
      "outputs": []
    }
  ]
}
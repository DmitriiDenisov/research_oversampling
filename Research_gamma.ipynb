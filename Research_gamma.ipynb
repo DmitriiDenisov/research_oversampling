{
  "nbformat": 4,
  "nbformat_minor": 0,
  "metadata": {
    "colab": {
      "name": "Research_gamma.ipynb",
      "provenance": [],
      "include_colab_link": true
    },
    "kernelspec": {
      "display_name": ".venv",
      "language": "python",
      "name": ".venv"
    },
    "language_info": {
      "codemirror_mode": {
        "name": "ipython",
        "version": 3
      },
      "file_extension": ".py",
      "mimetype": "text/x-python",
      "name": "python",
      "nbconvert_exporter": "python",
      "pygments_lexer": "ipython3",
      "version": "3.7.4"
    }
  },
  "cells": [
    {
      "cell_type": "markdown",
      "metadata": {
        "id": "view-in-github",
        "colab_type": "text"
      },
      "source": [
        "<a href=\"https://colab.research.google.com/github/DmitriiDenisov/research_oversampling/blob/master/Research_gamma.ipynb\" target=\"_parent\"><img src=\"https://colab.research.google.com/assets/colab-badge.svg\" alt=\"Open In Colab\"/></a>"
      ]
    },
    {
      "cell_type": "markdown",
      "metadata": {
        "colab_type": "text",
        "id": "ceoNp6jIwqF9"
      },
      "source": [
        "### 1.\n",
        "- One random point\n",
        "- 2D plane"
      ]
    },
    {
      "cell_type": "code",
      "metadata": {
        "colab_type": "code",
        "id": "cFtdgA2OwqGB",
        "colab": {}
      },
      "source": [
        "import math\n",
        "import itertools\n",
        "import numpy as np\n",
        "import matplotlib.pyplot as plt\n",
        "from collections import defaultdict"
      ],
      "execution_count": 0,
      "outputs": []
    },
    {
      "cell_type": "code",
      "metadata": {
        "colab_type": "code",
        "id": "xj8E-lLawqGG",
        "colab": {}
      },
      "source": [
        "# Generates random point in rectangle [xy_min; xy_max]\n",
        "def generate_random_point(n=2, xy_min=[0, 0], xy_max=[10, 20]):\n",
        "    data = np.random.uniform(low=xy_min, high=xy_max, size=(n,2))\n",
        "    return data\n",
        "\n",
        "# Returns directional vector\n",
        "def get_vector_two_points(two_points):\n",
        "    return two_points[1] - two_points[0]"
      ],
      "execution_count": 0,
      "outputs": []
    },
    {
      "cell_type": "code",
      "metadata": {
        "colab_type": "code",
        "id": "M3UixHUFwqGJ",
        "outputId": "6a8d60f6-e0cd-4d28-a1e8-8091d642de47",
        "colab": {
          "base_uri": "https://localhost:8080/",
          "height": 68
        }
      },
      "source": [
        "# Generate two Random point2:\n",
        "two_points = generate_random_point(n=2, xy_min=[0, 0], xy_max=[10, 20])\n",
        "print(two_points)\n",
        "# get vector for these two points\n",
        "v = get_vector_two_points(two_points)\n",
        "print(v)"
      ],
      "execution_count": 16,
      "outputs": [
        {
          "output_type": "stream",
          "text": [
            "[[ 5.05706741 10.01893334]\n",
            " [ 7.32604402  5.67059065]]\n",
            "[ 2.26897661 -4.34834269]\n"
          ],
          "name": "stdout"
        }
      ]
    },
    {
      "cell_type": "code",
      "metadata": {
        "colab_type": "code",
        "id": "q7PLtegIwqGO",
        "outputId": "8f7fb4d6-38d3-4228-8c61-d150249f156a",
        "colab": {
          "base_uri": "https://localhost:8080/",
          "height": 297
        }
      },
      "source": [
        "# JUST CHECKING how Gamma dist is look like\n",
        "\n",
        "N_points = 100000\n",
        "n_bins = 20\n",
        "\n",
        "shape, scale = 1., 3.  # mean=4, std=2*sqrt(2)\n",
        "s = np.random.gamma(shape, scale, 10000)\n",
        "\n",
        "\n",
        "fig, axs = plt.subplots(1, 2, sharey=True, tight_layout=True)\n",
        "\n",
        "# We can set the number of bins with the `bins` kwarg\n",
        "axs[0].hist(s, bins=n_bins)\n",
        "axs[1].hist(s, bins=2*n_bins)\n",
        "plt.show()"
      ],
      "execution_count": 17,
      "outputs": [
        {
          "output_type": "display_data",
          "data": {
            "image/png": "[encoded data removed]",
            "text/plain": [
              "<Figure size 432x288 with 2 Axes>"
            ]
          },
          "metadata": {
            "tags": []
          }
        }
      ]
    },
    {
      "cell_type": "code",
      "metadata": {
        "colab_type": "code",
        "id": "xbE6rxDwwqGT",
        "colab": {}
      },
      "source": [
        "# Generates normilized Gamma distributed value\n",
        "def generate_gamma():\n",
        "    shape, scale = 1., 3.\n",
        "    s = np.random.gamma(shape, scale, 1)[0]\n",
        "    if (s > 20): # заглушка пока что\n",
        "        s = 20\n",
        "    s = s / 20\n",
        "    return s"
      ],
      "execution_count": 0,
      "outputs": []
    },
    {
      "cell_type": "code",
      "metadata": {
        "colab_type": "code",
        "id": "KKsixbezwqGW",
        "colab": {}
      },
      "source": [
        "gamma_coeff = generate_gamma()"
      ],
      "execution_count": 0,
      "outputs": []
    },
    {
      "cell_type": "code",
      "metadata": {
        "colab_type": "code",
        "id": "lCMR509_wqGY",
        "colab": {}
      },
      "source": [
        "# Generates new point on line between two initial points\n",
        "def generate_point_on_line(start_point, v, gamma_coeff):\n",
        "    return start_point + v * gamma_coeff"
      ],
      "execution_count": 0,
      "outputs": []
    },
    {
      "cell_type": "code",
      "metadata": {
        "colab_type": "code",
        "id": "AGFA0DRwwqGa",
        "colab": {}
      },
      "source": [
        "generated_point = generate_point_on_line(two_points[0], v, gamma_coeff)"
      ],
      "execution_count": 0,
      "outputs": []
    },
    {
      "cell_type": "code",
      "metadata": {
        "colab_type": "code",
        "id": "hV2LVHKPwqGc",
        "outputId": "8145fec9-7ca3-44fb-a7ae-33c40fa82763",
        "colab": {
          "base_uri": "https://localhost:8080/",
          "height": 68
        }
      },
      "source": [
        "# For visualazion:\n",
        "initial_points_and_generated = np.concatenate((two_points, generated_point[np.newaxis, :]), axis=0)\n",
        "initial_points_and_generated"
      ],
      "execution_count": 0,
      "outputs": [
        {
          "output_type": "execute_result",
          "data": {
            "text/plain": [
              "array([[2.44032319, 0.59564511],\n",
              "       [1.98386361, 0.06945239],\n",
              "       [2.24890566, 0.3749848 ]])"
            ]
          },
          "metadata": {
            "tags": []
          },
          "execution_count": 49
        }
      ]
    },
    {
      "cell_type": "code",
      "metadata": {
        "colab_type": "code",
        "id": "JNkG2gHZwqGf",
        "outputId": "326e940f-17cd-439a-e559-4e6f075e70cb",
        "colab": {
          "base_uri": "https://localhost:8080/",
          "height": 262
        }
      },
      "source": [
        "import matplotlib.pyplot as plt\n",
        "plt.style.use('seaborn-whitegrid')\n",
        "import numpy as np\n",
        "\n",
        "\n",
        "initial_x, initial_y = map(list, zip(*two_points))\n",
        "generated_x, generated_y = map(list, zip(*generated_point[np.newaxis, :]))\n",
        "\n",
        "plt.plot(initial_x, initial_y, 'o', color='blue');\n",
        "plt.plot(generated_x, generated_y, 'o', color='red');"
      ],
      "execution_count": 0,
      "outputs": [
        {
          "output_type": "display_data",
          "data": {
            "image/png": "[encoded data removed]",
            "text/plain": [
              "<Figure size 432x288 with 1 Axes>"
            ]
          },
          "metadata": {
            "tags": []
          }
        }
      ]
    },
    {
      "cell_type": "markdown",
      "metadata": {
        "colab_type": "text",
        "id": "QbIYZaRswqGh"
      },
      "source": [
        "## 2.\n",
        "- Multiple Random points\n",
        "- 2D plane"
      ]
    },
    {
      "cell_type": "code",
      "metadata": {
        "colab_type": "code",
        "id": "Uxoi3AJFwqGi",
        "colab": {}
      },
      "source": [
        "NUM_RAND_POINTS = 20"
      ],
      "execution_count": 0,
      "outputs": []
    },
    {
      "cell_type": "code",
      "metadata": {
        "colab_type": "code",
        "id": "nlF6k1ZFwqGl",
        "outputId": "d142d6cb-12fd-4d13-9960-af98b0d7beab",
        "colab": {
          "base_uri": "https://localhost:8080/",
          "height": 68
        }
      },
      "source": [
        "# Generate two Random point2:\n",
        "two_points = generate_random_point(n=2, xy_min=[0, 0], xy_max=[10, 20])\n",
        "print(two_points)\n",
        "# get vector for these two points\n",
        "v = get_vector_two_points(two_points)\n",
        "print(v)"
      ],
      "execution_count": 0,
      "outputs": [
        {
          "output_type": "stream",
          "text": [
            "[[ 5.13542419 15.19691839]\n",
            " [ 2.51986217  0.264211  ]]\n",
            "[ -2.61556202 -14.93270739]\n"
          ],
          "name": "stdout"
        }
      ]
    },
    {
      "cell_type": "code",
      "metadata": {
        "colab_type": "code",
        "id": "aCb58R_bwqGn",
        "colab": {}
      },
      "source": [
        "gamma_coeff = generate_gamma()\n",
        "\n",
        "generated_points = generate_point_on_line(two_points[0], v, gamma_coeff)[np.newaxis, :]\n",
        "\n",
        "for i in range(NUM_RAND_POINTS - 1):\n",
        "    gamma_coeff = generate_gamma()\n",
        "    generated_points = np.concatenate((generate_point_on_line(two_points[0], v, gamma_coeff)[np.newaxis, :], generated_points),\n",
        "                                      axis=0)"
      ],
      "execution_count": 0,
      "outputs": []
    },
    {
      "cell_type": "code",
      "metadata": {
        "colab_type": "code",
        "id": "GeM-TwMzwqGp",
        "outputId": "6680fe6b-2d07-4abd-8bd3-476f8bec5f8e",
        "colab": {
          "base_uri": "https://localhost:8080/",
          "height": 262
        }
      },
      "source": [
        "import matplotlib.pyplot as plt\n",
        "plt.style.use('seaborn-whitegrid')\n",
        "import numpy as np\n",
        "\n",
        "\n",
        "initial_x, initial_y = map(list, zip(*two_points))\n",
        "generated_x, generated_y = map(list, zip(*generated_points))\n",
        "\n",
        "plt.plot(initial_x, initial_y, 'o', color='blue');\n",
        "plt.plot(generated_x, generated_y, 'o', color='red');\n",
        "plt.plot(initial_x, initial_y, '-');"
      ],
      "execution_count": 0,
      "outputs": [
        {
          "output_type": "display_data",
          "data": {
            "image/png": "[encoded data removed]",
            "text/plain": [
              "<Figure size 432x288 with 1 Axes>"
            ]
          },
          "metadata": {
            "tags": []
          }
        }
      ]
    },
    {
      "cell_type": "code",
      "metadata": {
        "colab_type": "code",
        "id": "rEgHAkUMwqGs",
        "outputId": "16950140-2a3a-4f38-8281-3989c6dc7cfb",
        "colab": {
          "base_uri": "https://localhost:8080/",
          "height": 357
        }
      },
      "source": [
        "generated_points"
      ],
      "execution_count": 0,
      "outputs": [
        {
          "output_type": "execute_result",
          "data": {
            "text/plain": [
              "array([[ 4.90286888, 13.86921887],\n",
              "       [ 4.76968075, 13.10882425],\n",
              "       [ 4.89953293, 13.85017336],\n",
              "       [ 5.04051692, 14.65507593],\n",
              "       [ 3.23427668,  4.3429301 ],\n",
              "       [ 3.78140618,  7.46658945],\n",
              "       [ 5.11650834, 15.08892443],\n",
              "       [ 4.83211383, 13.46526578],\n",
              "       [ 4.71706449, 12.80842869],\n",
              "       [ 5.11589128, 15.08540152],\n",
              "       [ 4.78573058, 13.20045557],\n",
              "       [ 4.79193068, 13.23585301],\n",
              "       [ 4.90598335, 13.88699996],\n",
              "       [ 4.37868231, 10.87654478],\n",
              "       [ 4.99756074, 14.40983152],\n",
              "       [ 4.96098464, 14.20101204],\n",
              "       [ 4.64368769, 12.38950753],\n",
              "       [ 3.08562105,  3.49422873],\n",
              "       [ 4.65981849, 12.48160111],\n",
              "       [ 4.69312313, 12.67174322]])"
            ]
          },
          "metadata": {
            "tags": []
          },
          "execution_count": 55
        }
      ]
    },
    {
      "cell_type": "code",
      "metadata": {
        "colab_type": "code",
        "id": "SpZbCFw2wqGu",
        "outputId": "821a3f3d-2ee0-4a19-a230-309a41c7a766",
        "colab": {
          "base_uri": "https://localhost:8080/",
          "height": 51
        }
      },
      "source": [
        "two_points"
      ],
      "execution_count": 0,
      "outputs": [
        {
          "output_type": "execute_result",
          "data": {
            "text/plain": [
              "array([[ 5.13542419, 15.19691839],\n",
              "       [ 2.51986217,  0.264211  ]])"
            ]
          },
          "metadata": {
            "tags": []
          },
          "execution_count": 56
        }
      ]
    },
    {
      "cell_type": "markdown",
      "metadata": {
        "id": "kiHiauI-DGR-",
        "colab_type": "text"
      },
      "source": [
        "## 3.\n",
        "- One Random point\n",
        "- n dimentional space"
      ]
    },
    {
      "cell_type": "code",
      "metadata": {
        "id": "EotpYc2OC6AC",
        "colab_type": "code",
        "colab": {}
      },
      "source": [
        "# Generates n random points in hypercube [xy_min; xy_max]\n",
        "def generate_random_point_nd(num_points=2, n=10, min_=0, max_=10):\n",
        "    xy_min = [min_] * n\n",
        "    xy_max = [max_] * n\n",
        "    data = np.random.uniform(low=xy_min, high=xy_max, size=(num_points, n))\n",
        "    return data"
      ],
      "execution_count": 0,
      "outputs": []
    },
    {
      "cell_type": "code",
      "metadata": {
        "id": "m6AoFrI0C6AE",
        "colab_type": "code",
        "outputId": "49114367-30c3-4299-d227-45c657f999ce",
        "colab": {
          "base_uri": "https://localhost:8080/",
          "height": 153
        }
      },
      "source": [
        "two_points_nd = generate_random_point_nd(num_points=2, n=10)\n",
        "assert two_points_nd.shape[0] == 2\n",
        "assert two_points_nd.shape[1] == 10\n",
        "print(two_points_nd)\n",
        "# get vector for these two points\n",
        "v = get_vector_two_points(two_points_nd)\n",
        "print(v)"
      ],
      "execution_count": 0,
      "outputs": [
        {
          "output_type": "stream",
          "text": [
            "[[9.09819764e+00 9.64418124e+00 7.19466753e+00 1.29876817e-03\n",
            "  4.92892747e+00 6.32496656e+00 7.78408714e+00 1.08271223e+00\n",
            "  6.43781494e+00 4.35076706e+00]\n",
            " [6.69216173e+00 6.44691734e+00 5.51830777e+00 1.96677883e+00\n",
            "  9.16120643e+00 6.73126588e+00 4.20021927e+00 3.23780719e-02\n",
            "  9.41622285e+00 2.57135114e+00]]\n",
            "[-2.40603591 -3.1972639  -1.67635975  1.96548006  4.23227896  0.40629932\n",
            " -3.58386786 -1.05033416  2.9784079  -1.77941592]\n"
          ],
          "name": "stdout"
        }
      ]
    },
    {
      "cell_type": "code",
      "metadata": {
        "id": "V1VnnyPkC6AH",
        "colab_type": "code",
        "colab": {}
      },
      "source": [
        "gamma_coeff = generate_gamma()"
      ],
      "execution_count": 0,
      "outputs": []
    },
    {
      "cell_type": "code",
      "metadata": {
        "id": "rPKzf0DHC6AK",
        "colab_type": "code",
        "outputId": "19081518-29ec-43f6-9ab1-e95c798ac4d4",
        "colab": {
          "base_uri": "https://localhost:8080/",
          "height": 51
        }
      },
      "source": [
        "generated_point = generate_point_on_line(two_points_nd[0], v, gamma_coeff)\n",
        "generated_point"
      ],
      "execution_count": 0,
      "outputs": [
        {
          "output_type": "execute_result",
          "data": {
            "text/plain": [
              "array([9.06684456, 9.60251767, 7.17282287, 0.02691096, 4.98407834,\n",
              "       6.33026105, 7.73738572, 1.06902532, 6.47662661, 4.32757947])"
            ]
          },
          "metadata": {
            "tags": []
          },
          "execution_count": 244
        }
      ]
    },
    {
      "cell_type": "code",
      "metadata": {
        "id": "QDMg6JFiC6AN",
        "colab_type": "code",
        "colab": {}
      },
      "source": [
        "def test_points_on_line(p1, p2, list_p3, tol=10):\n",
        "    # Calculate two vectors and check if they are collinear\n",
        "    if len(list_p3.shape) == 1:\n",
        "        list_p3 = list_p3[np.newaxis, :]\n",
        "    vec_1 = p2 - p1\n",
        "    for p3 in list_p3:\n",
        "        vec_2 = (p3 - p1) / vec_1\n",
        "        # take unique values\n",
        "        unique_arr = np.unique(vec_2[~np.isnan(vec_2)].round(decimals=tol))\n",
        "        if len(unique_arr) > 1:\n",
        "          return False\n",
        "        # Check that if nan then there were two zeros\n",
        "        idx = np.where(~np.isfinite(vec_2))[0]\n",
        "        if idx.size:\n",
        "          if not (all((p3 - p1)[idx] == vec_1[idx]) and all(vec_1[idx] == 0)):\n",
        "            return False\n",
        "        return True\n",
        "    return True"
      ],
      "execution_count": 0,
      "outputs": []
    },
    {
      "cell_type": "code",
      "metadata": {
        "id": "SNsVSAMrC6AP",
        "colab_type": "code",
        "colab": {}
      },
      "source": [
        "# Testing\n",
        "assert test_points_on_line(two_points_nd[0], two_points_nd[1], generated_point)"
      ],
      "execution_count": 0,
      "outputs": []
    },
    {
      "cell_type": "markdown",
      "metadata": {
        "id": "m21QYjwyC6AR",
        "colab_type": "text"
      },
      "source": [
        "## 4.\n",
        "- Multiple Random points\n",
        "- n dimentional space"
      ]
    },
    {
      "cell_type": "code",
      "metadata": {
        "id": "0C4GHi0qC6AS",
        "colab_type": "code",
        "colab": {}
      },
      "source": [
        "NUM_RAND_POINTS = 20\n",
        "N_FEATURES = 10"
      ],
      "execution_count": 0,
      "outputs": []
    },
    {
      "cell_type": "code",
      "metadata": {
        "id": "2lRnpsMfC6AX",
        "colab_type": "code",
        "outputId": "9f68494f-4533-484e-dfa6-945a873141c9",
        "colab": {
          "base_uri": "https://localhost:8080/",
          "height": 119
        }
      },
      "source": [
        "two_points_nd = generate_random_point_nd(num_points=2, n=N_FEATURES)\n",
        "assert two_points_nd.shape[0] == 2\n",
        "assert two_points_nd.shape[1] == N_FEATURES\n",
        "print(two_points_nd)\n",
        "# get vector for these two points\n",
        "v = get_vector_two_points(two_points_nd)\n",
        "print(v)"
      ],
      "execution_count": 0,
      "outputs": [
        {
          "output_type": "stream",
          "text": [
            "[[0.33259794 0.7642124  3.13487304 7.62967615 0.48635717 7.26986169\n",
            "  9.43694268 3.84999841 4.95186852 2.34075288]\n",
            " [6.9263306  0.97355668 6.28163616 2.0649958  8.39245187 0.18687227\n",
            "  8.00078819 5.08530577 5.94871337 5.34200805]]\n",
            "[ 6.59373266  0.20934428  3.14676312 -5.56468036  7.9060947  -7.08298942\n",
            " -1.43615449  1.23530737  0.99684485  3.00125518]\n"
          ],
          "name": "stdout"
        }
      ]
    },
    {
      "cell_type": "code",
      "metadata": {
        "id": "n81Z09lSC6AY",
        "colab_type": "code",
        "colab": {}
      },
      "source": [
        "gamma_coeff = generate_gamma()\n",
        "\n",
        "generated_points = generate_point_on_line(two_points_nd[0], v, gamma_coeff)[np.newaxis, :]\n",
        "\n",
        "for i in range(NUM_RAND_POINTS - 1):\n",
        "    gamma_coeff = generate_gamma()\n",
        "    generated_points = np.concatenate((generate_point_on_line(two_points_nd[0], v, gamma_coeff)[np.newaxis, :], generated_points),\n",
        "                                      axis=0)\n",
        "    \n",
        "assert generated_points.shape[0] == NUM_RAND_POINTS\n",
        "assert generated_points.shape[1] == N_FEATURES"
      ],
      "execution_count": 0,
      "outputs": []
    },
    {
      "cell_type": "code",
      "metadata": {
        "id": "utp47DF5C6Aa",
        "colab_type": "code",
        "colab": {}
      },
      "source": [
        "assert test_points_on_line(two_points_nd[0], two_points_nd[1], generated_points)"
      ],
      "execution_count": 0,
      "outputs": []
    },
    {
      "cell_type": "markdown",
      "metadata": {
        "id": "tPIGqFa0Vau1",
        "colab_type": "text"
      },
      "source": [
        "## 5.\n",
        "- Generalization of the approach for n minority points for n dimentional space"
      ]
    },
    {
      "cell_type": "code",
      "metadata": {
        "id": "MDcrbXCfC6Ad",
        "colab_type": "code",
        "colab": {}
      },
      "source": [
        "NUM_RAND_POINTS = 20\n",
        "NUM_MINORITY_POINTS = 5\n",
        "N_FEATURES = 10\n",
        "NUM_TO_ADD = 15"
      ],
      "execution_count": 0,
      "outputs": []
    },
    {
      "cell_type": "code",
      "metadata": {
        "id": "EExNjG9DVkwG",
        "colab_type": "code",
        "colab": {}
      },
      "source": [
        "minority_points_nd = generate_random_point_nd(num_points=NUM_MINORITY_POINTS, n=N_FEATURES)\n",
        "assert minority_points_nd.shape[0] == NUM_MINORITY_POINTS\n",
        "assert minority_points_nd.shape[1] == N_FEATURES\n",
        "# print(two_points_nd)\n",
        "# get vector for these two points\n",
        "# v = get_vector_two_points(N_points_nd)\n",
        "# print(v)"
      ],
      "execution_count": 0,
      "outputs": []
    },
    {
      "cell_type": "code",
      "metadata": {
        "id": "dfysGk0TNnzp",
        "colab_type": "code",
        "colab": {}
      },
      "source": [
        "def generate_points_for_n_minority(minority_points, num_to_add):\n",
        "  n_features = minority_points.shape[1]\n",
        "  dict_ans = defaultdict(lambda: np.array([]).reshape(0, n_features))\n",
        "  # Choose random pairs with repetition:\n",
        "  all_comb = np.array(list(itertools.combinations(range(len(minority_points)), r=2)))\n",
        "  rand_idx = np.random.choice(range(len(all_comb)), num_to_add, replace=True)\n",
        "  assert rand_idx.shape == (num_to_add, )\n",
        "  # print(rand_idx)\n",
        "  # print(all_comb)\n",
        "  all_comb = all_comb[rand_idx]\n",
        "  # assert random_choice_minority.shape[0] == num_to_add and random_choice_minority.shape[1] == 2\n",
        "  for i, (idx1, idx2) in enumerate(all_comb):\n",
        "    v = get_vector_two_points([minority_points[idx1], minority_points[idx2]])\n",
        "    gamma_coeff = generate_gamma()\n",
        "    generated_point = generate_point_on_line(minority_points[idx1], v, gamma_coeff)\n",
        "    minority_points = np.concatenate((minority_points, generated_point[np.newaxis, :]), axis=0)\n",
        "    dict_ans[tuple(all_comb[i])] = np.vstack([dict_ans[tuple(all_comb[i])], generated_point])\n",
        "    \n",
        "  return minority_points, dict_ans # return concatenated initial+generated points and dict for testing\n"
      ],
      "execution_count": 0,
      "outputs": []
    },
    {
      "cell_type": "code",
      "metadata": {
        "id": "WYvEtCeSWeSQ",
        "colab_type": "code",
        "colab": {
          "base_uri": "https://localhost:8080/",
          "height": 198
        },
        "outputId": "72c2cff0-7fba-4db5-bb9c-48f0b55ee139"
      },
      "source": [
        "minority_points, dict_ans = generate_points_for_n_minority(minority_points_nd, num_to_add=NUM_TO_ADD)"
      ],
      "execution_count": 10,
      "outputs": [
        {
          "output_type": "error",
          "ename": "NameError",
          "evalue": "ignored",
          "traceback": [
            "\u001b[0;31m---------------------------------------------------------------------------\u001b[0m",
            "\u001b[0;31mNameError\u001b[0m                                 Traceback (most recent call last)",
            "\u001b[0;32m<ipython-input-10-16aeeb9a53d3>\u001b[0m in \u001b[0;36m<module>\u001b[0;34m()\u001b[0m\n\u001b[1;32m     19\u001b[0m   \u001b[0;32mreturn\u001b[0m \u001b[0mminority_points\u001b[0m\u001b[0;34m,\u001b[0m \u001b[0mdict_ans\u001b[0m \u001b[0;31m# return concatenated initial+generated points and dict for testing\u001b[0m\u001b[0;34m\u001b[0m\u001b[0;34m\u001b[0m\u001b[0m\n\u001b[1;32m     20\u001b[0m \u001b[0;34m\u001b[0m\u001b[0m\n\u001b[0;32m---> 21\u001b[0;31m \u001b[0mminority_points\u001b[0m\u001b[0;34m,\u001b[0m \u001b[0mdict_ans\u001b[0m \u001b[0;34m=\u001b[0m \u001b[0mgenerate_points_for_n_minority\u001b[0m\u001b[0;34m(\u001b[0m\u001b[0mminority_points_nd\u001b[0m\u001b[0;34m,\u001b[0m \u001b[0mnum_to_add\u001b[0m\u001b[0;34m=\u001b[0m\u001b[0mNUM_TO_ADD\u001b[0m\u001b[0;34m)\u001b[0m\u001b[0;34m\u001b[0m\u001b[0;34m\u001b[0m\u001b[0m\n\u001b[0m",
            "\u001b[0;31mNameError\u001b[0m: name 'minority_points_nd' is not defined"
          ]
        }
      ]
    },
    {
      "cell_type": "code",
      "metadata": {
        "id": "NVQY5-ApMX82",
        "colab_type": "code",
        "outputId": "92728b92-f281-4779-81e9-2edf498afff7",
        "colab": {
          "base_uri": "https://localhost:8080/",
          "height": 187
        }
      },
      "source": [
        "minority_points_nd"
      ],
      "execution_count": 0,
      "outputs": [
        {
          "output_type": "execute_result",
          "data": {
            "text/plain": [
              "array([[3.47928404, 8.45604222, 4.82371047, 9.47912243, 5.32479813,\n",
              "        5.95008213, 3.73862921, 1.64254422, 7.69936937, 0.27401471],\n",
              "       [5.52415041, 6.40766849, 1.31677918, 3.75455514, 4.02021072,\n",
              "        0.97278   , 9.61482844, 6.1083918 , 9.52666096, 0.34876489],\n",
              "       [9.66250977, 4.10062803, 7.38954771, 3.27046553, 8.0356289 ,\n",
              "        2.14221836, 7.55097115, 6.71250609, 1.29132979, 1.49957061],\n",
              "       [4.22162966, 3.57159931, 0.12697156, 4.54840936, 4.76007389,\n",
              "        6.28517819, 3.32559141, 8.4110134 , 8.13545121, 4.88097721],\n",
              "       [8.96084466, 1.0610845 , 4.67585434, 8.91645008, 4.97994401,\n",
              "        1.14186761, 6.22694555, 5.91420679, 4.36410625, 0.90907455]])"
            ]
          },
          "metadata": {
            "tags": []
          },
          "execution_count": 254
        }
      ]
    },
    {
      "cell_type": "code",
      "metadata": {
        "id": "S8RcLIBLMZid",
        "colab_type": "code",
        "outputId": "b3b21c2c-a680-4434-d433-dd8d7dd738c5",
        "colab": {
          "base_uri": "https://localhost:8080/",
          "height": 697
        }
      },
      "source": [
        "minority_points"
      ],
      "execution_count": 0,
      "outputs": [
        {
          "output_type": "execute_result",
          "data": {
            "text/plain": [
              "array([[3.47928404, 8.45604222, 4.82371047, 9.47912243, 5.32479813,\n",
              "        5.95008213, 3.73862921, 1.64254422, 7.69936937, 0.27401471],\n",
              "       [5.52415041, 6.40766849, 1.31677918, 3.75455514, 4.02021072,\n",
              "        0.97278   , 9.61482844, 6.1083918 , 9.52666096, 0.34876489],\n",
              "       [9.66250977, 4.10062803, 7.38954771, 3.27046553, 8.0356289 ,\n",
              "        2.14221836, 7.55097115, 6.71250609, 1.29132979, 1.49957061],\n",
              "       [4.22162966, 3.57159931, 0.12697156, 4.54840936, 4.76007389,\n",
              "        6.28517819, 3.32559141, 8.4110134 , 8.13545121, 4.88097721],\n",
              "       [8.96084466, 1.0610845 , 4.67585434, 8.91645008, 4.97994401,\n",
              "        1.14186761, 6.22694555, 5.91420679, 4.36410625, 0.90907455],\n",
              "       [3.48639652, 8.40924397, 4.77871064, 9.43188087, 5.31938746,\n",
              "        5.95329271, 3.73467186, 1.70739346, 7.70354751, 0.31815439],\n",
              "       [4.28988471, 3.53544241, 0.19248541, 4.61131869, 4.7632405 ,\n",
              "        6.21110328, 3.36737725, 8.37505393, 8.0811356 , 4.82377313],\n",
              "       [3.53171994, 8.11102752, 4.49195433, 9.13083942, 5.28490859,\n",
              "        5.97375178, 3.70945411, 2.12063791, 7.7301722 , 0.59942946],\n",
              "       [3.68962193, 8.17228365, 4.81803695, 9.45753162, 5.31156542,\n",
              "        5.76558181, 3.83411063, 1.80645602, 7.57138899, 0.29838316],\n",
              "       [8.91241698, 4.02769486, 6.38831153, 3.44664593, 7.58405302,\n",
              "        2.71337675, 6.96845016, 6.94666638, 2.2348768 , 1.96573944],\n",
              "       [4.07572768, 8.03591214, 5.07121515, 8.88022566, 5.58628911,\n",
              "        5.58276963, 4.10637368, 2.13160068, 7.08123983, 0.39223375],\n",
              "       [9.48633309, 4.08349798, 7.15438417, 3.31184558, 7.92956583,\n",
              "        2.27636815, 7.41415259, 6.76750406, 1.51294369, 1.60906117],\n",
              "       [4.40364412, 7.80493046, 5.20728979, 8.55096053, 5.73005322,\n",
              "        5.38082631, 4.30855449, 2.40047713, 6.7414008 , 0.45722894],\n",
              "       [6.07450157, 4.95493637, 4.75370872, 9.21272801, 5.16152866,\n",
              "        3.67365695, 4.91671017, 3.66494156, 6.12030568, 0.57468062],\n",
              "       [9.5879666 , 4.09338003, 7.29004626, 3.28797409, 7.99075192,\n",
              "        2.19897928, 7.49308103, 6.73577661, 1.38509817, 1.54589781],\n",
              "       [9.40706223, 4.0757903 , 7.04857214, 3.33046457, 7.88184266,\n",
              "        2.33672897, 7.35259096, 6.79225045, 1.61265905, 1.65832654],\n",
              "       [5.72339472, 6.09769723, 1.51152348, 4.05381895, 4.07585181,\n",
              "        0.98258295, 9.41841399, 6.09713382, 9.2273589 , 0.38124916],\n",
              "       [9.62294956, 3.92925714, 7.2365484 , 3.58878878, 7.86334795,\n",
              "        2.08581812, 7.47632197, 6.6674976 , 1.46457436, 1.46627816],\n",
              "       [3.51929013, 8.19281251, 4.57059641, 9.21339915, 5.29436432,\n",
              "        5.96814094, 3.71637   , 2.00730683, 7.72287045, 0.52229059],\n",
              "       [4.81454879, 7.51549253, 5.37780184, 8.13836583, 5.91020078,\n",
              "        5.12777571, 4.56190269, 2.73740014, 6.31555618, 0.53867294]])"
            ]
          },
          "metadata": {
            "tags": []
          },
          "execution_count": 255
        }
      ]
    },
    {
      "cell_type": "code",
      "metadata": {
        "id": "Y3orJL1Obqpq",
        "colab_type": "code",
        "colab": {}
      },
      "source": [
        "# testing:\n",
        "n_points = 0\n",
        "for key, points in dict_ans.items():\n",
        "  for point in points:\n",
        "    n_points+=1\n",
        "    assert test_points_on_line(minority_points_nd[key[1]], minority_points_nd[key[0]], point)\n",
        "assert n_points == NUM_TO_ADD"
      ],
      "execution_count": 0,
      "outputs": []
    },
    {
      "cell_type": "markdown",
      "metadata": {
        "id": "F2prKsNU3E6O",
        "colab_type": "text"
      },
      "source": [
        "## 6.\n",
        "- Gamma distribution with negative values"
      ]
    },
    {
      "cell_type": "code",
      "metadata": {
        "id": "zSDn1PXx3PFV",
        "colab_type": "code",
        "colab": {}
      },
      "source": [
        "NUM_POINTS = 50"
      ],
      "execution_count": 0,
      "outputs": []
    },
    {
      "cell_type": "code",
      "metadata": {
        "id": "UZcmopzC3Q15",
        "colab_type": "code",
        "outputId": "9be9af53-821b-4fb5-ad36-2eb7b6ea2459",
        "colab": {
          "base_uri": "https://localhost:8080/",
          "height": 68
        }
      },
      "source": [
        "# Generate two Random point2:\n",
        "two_points = generate_random_point(n=2, xy_min=[0, 0], xy_max=[10, 20])\n",
        "print(two_points)\n",
        "# get vector for these two points\n",
        "v = get_vector_two_points(two_points)\n",
        "print(v)"
      ],
      "execution_count": 0,
      "outputs": [
        {
          "output_type": "stream",
          "text": [
            "[[5.20628019 4.65884325]\n",
            " [1.41357663 1.74192442]]\n",
            "[-3.79270356 -2.91691882]\n"
          ],
          "name": "stdout"
        }
      ]
    },
    {
      "cell_type": "code",
      "metadata": {
        "id": "3BLx8Eag3W5s",
        "colab_type": "code",
        "colab": {}
      },
      "source": [
        "def max_pdf_gamma(k, theta):\n",
        "  return (k-1) * theta\n",
        "\n",
        "def generate_gamma_negative():\n",
        "    k, theta = 3, 2.1\n",
        "    s = np.random.gamma(k, theta, 1)[0]\n",
        "    s = s - max_pdf_gamma(k, theta) # shift by X axis\n",
        "    if (s > 20): # заглушка пока что\n",
        "        s = 20\n",
        "    s = s / 20\n",
        "    return s"
      ],
      "execution_count": 0,
      "outputs": []
    },
    {
      "cell_type": "code",
      "metadata": {
        "id": "zB7BPYZQ1_J4",
        "colab_type": "code",
        "colab": {}
      },
      "source": [
        "gamma_coeff = generate_gamma_negative()\n",
        "\n",
        "generated_points = generate_point_on_line(two_points[0], v, gamma_coeff)[np.newaxis, :]\n",
        "\n",
        "for i in range(NUM_POINTS - 1):\n",
        "    gamma_coeff = generate_gamma_negative()\n",
        "    generated_points = np.concatenate((generate_point_on_line(two_points[0], v, gamma_coeff)[np.newaxis, :], generated_points),\n",
        "                                      axis=0)"
      ],
      "execution_count": 0,
      "outputs": []
    },
    {
      "cell_type": "code",
      "metadata": {
        "id": "VdwdBtmV2AQA",
        "colab_type": "code",
        "outputId": "62fa777d-8b9e-4472-a2a7-201a6dc22d86",
        "colab": {
          "base_uri": "https://localhost:8080/",
          "height": 262
        }
      },
      "source": [
        "import matplotlib.pyplot as plt\n",
        "plt.style.use('seaborn-whitegrid')\n",
        "import numpy as np\n",
        "\n",
        "\n",
        "initial_x, initial_y = map(list, zip(*two_points))\n",
        "generated_x, generated_y = map(list, zip(*generated_points))\n",
        "\n",
        "plt.plot(initial_x, initial_y, 'o', color='blue');\n",
        "plt.plot(generated_x, generated_y, '.', color='red');\n",
        "plt.plot(initial_x, initial_y, '-');"
      ],
      "execution_count": 0,
      "outputs": [
        {
          "output_type": "display_data",
          "data": {
            "image/png": "[encoded data removed]",
            "text/plain": [
              "<Figure size 432x288 with 1 Axes>"
            ]
          },
          "metadata": {
            "tags": []
          }
        }
      ]
    },
    {
      "cell_type": "markdown",
      "metadata": {
        "id": "ga7oRg5jPawx",
        "colab_type": "text"
      },
      "source": [
        "## 7. Apply to real datasets"
      ]
    },
    {
      "cell_type": "code",
      "metadata": {
        "id": "bxJ_c1cvDDA6",
        "colab_type": "code",
        "outputId": "15453193-86ba-423c-a016-f08eb58feaff",
        "colab": {
          "base_uri": "https://localhost:8080/",
          "height": 241
        }
      },
      "source": [
        "!pip install imbalanced-learn==0.5"
      ],
      "execution_count": 1,
      "outputs": [
        {
          "output_type": "stream",
          "text": [
            "Collecting imbalanced-learn==0.5\n",
            "\u001b[?25l  Downloading https://files.pythonhosted.org/packages/e6/62/08c14224a7e242df2cef7b312d2ef821c3931ec9b015ff93bb52ec8a10a3/imbalanced_learn-0.5.0-py3-none-any.whl (173kB)\n",
            "\r\u001b[K     |██                              | 10kB 17.4MB/s eta 0:00:01\r\u001b[K     |███▉                            | 20kB 1.7MB/s eta 0:00:01\r\u001b[K     |█████▊                          | 30kB 2.2MB/s eta 0:00:01\r\u001b[K     |███████▋                        | 40kB 1.7MB/s eta 0:00:01\r\u001b[K     |█████████▌                      | 51kB 1.9MB/s eta 0:00:01\r\u001b[K     |███████████▍                    | 61kB 2.2MB/s eta 0:00:01\r\u001b[K     |█████████████▎                  | 71kB 2.4MB/s eta 0:00:01\r\u001b[K     |███████████████▏                | 81kB 2.6MB/s eta 0:00:01\r\u001b[K     |█████████████████               | 92kB 2.9MB/s eta 0:00:01\r\u001b[K     |███████████████████             | 102kB 2.7MB/s eta 0:00:01\r\u001b[K     |████████████████████▉           | 112kB 2.7MB/s eta 0:00:01\r\u001b[K     |██████████████████████▊         | 122kB 2.7MB/s eta 0:00:01\r\u001b[K     |████████████████████████▋       | 133kB 2.7MB/s eta 0:00:01\r\u001b[K     |██████████████████████████▌     | 143kB 2.7MB/s eta 0:00:01\r\u001b[K     |████████████████████████████▍   | 153kB 2.7MB/s eta 0:00:01\r\u001b[K     |██████████████████████████████▎ | 163kB 2.7MB/s eta 0:00:01\r\u001b[K     |████████████████████████████████| 174kB 2.7MB/s \n",
            "\u001b[?25hRequirement already satisfied: numpy>=1.11 in /usr/local/lib/python3.6/dist-packages (from imbalanced-learn==0.5) (1.17.4)\n",
            "Requirement already satisfied: joblib>=0.11 in /usr/local/lib/python3.6/dist-packages (from imbalanced-learn==0.5) (0.14.1)\n",
            "Requirement already satisfied: scipy>=0.17 in /usr/local/lib/python3.6/dist-packages (from imbalanced-learn==0.5) (1.3.3)\n",
            "Requirement already satisfied: scikit-learn>=0.21 in /usr/local/lib/python3.6/dist-packages (from imbalanced-learn==0.5) (0.21.3)\n",
            "Installing collected packages: imbalanced-learn\n",
            "  Found existing installation: imbalanced-learn 0.4.3\n",
            "    Uninstalling imbalanced-learn-0.4.3:\n",
            "      Successfully uninstalled imbalanced-learn-0.4.3\n",
            "Successfully installed imbalanced-learn-0.5.0\n"
          ],
          "name": "stdout"
        }
      ]
    },
    {
      "cell_type": "code",
      "metadata": {
        "id": "cwhOJ9K4Pwce",
        "colab_type": "code",
        "outputId": "b0b7aacb-0d8e-4731-9fca-ec0e898ae6d9",
        "colab": {
          "base_uri": "https://localhost:8080/",
          "height": 97
        }
      },
      "source": [
        "import imblearn\n",
        "imblearn.__version__"
      ],
      "execution_count": 2,
      "outputs": [
        {
          "output_type": "stream",
          "text": [
            "Using TensorFlow backend.\n"
          ],
          "name": "stderr"
        },
        {
          "output_type": "display_data",
          "data": {
            "text/html": [
              "<p style=\"color: red;\">\n",
              "The default version of TensorFlow in Colab will soon switch to TensorFlow 2.x.<br>\n",
              "We recommend you <a href=\"https://www.tensorflow.org/guide/migrate\" target=\"_blank\">upgrade</a> now \n",
              "or ensure your notebook will continue to use TensorFlow 1.x via the <code>%tensorflow_version 1.x</code> magic:\n",
              "<a href=\"https://colab.research.google.com/notebooks/tensorflow_version.ipynb\" target=\"_blank\">more info</a>.</p>\n"
            ],
            "text/plain": [
              "<IPython.core.display.HTML object>"
            ]
          },
          "metadata": {
            "tags": []
          }
        },
        {
          "output_type": "execute_result",
          "data": {
            "text/plain": [
              "'0.5.0'"
            ]
          },
          "metadata": {
            "tags": []
          },
          "execution_count": 2
        }
      ]
    },
    {
      "cell_type": "code",
      "metadata": {
        "id": "61_OJBkAQQ1-",
        "colab_type": "code",
        "colab": {}
      },
      "source": [
        "from imblearn.datasets import make_imbalance\n",
        "from sklearn.preprocessing import StandardScaler\n",
        "from imblearn.datasets import fetch_datasets\n",
        "from sklearn.model_selection import train_test_split\n",
        "from sklearn.metrics import accuracy_score, confusion_matrix, recall_score, f1_score\n",
        "import pandas as pd"
      ],
      "execution_count": 0,
      "outputs": []
    },
    {
      "cell_type": "code",
      "metadata": {
        "id": "4FgLOe_xPjKR",
        "colab_type": "code",
        "colab": {}
      },
      "source": [
        "def get_dataset_pd(name):\n",
        "  X = pd.DataFrame(fetch_datasets()[name]['data'])\n",
        "  target = pd.DataFrame(fetch_datasets()[name]['target']).replace(-1, 0)\n",
        "  assert target.shape[0] == X.shape[0]\n",
        "  return X, target"
      ],
      "execution_count": 0,
      "outputs": []
    },
    {
      "cell_type": "code",
      "metadata": {
        "id": "5-goWD6JedC5",
        "colab_type": "code",
        "colab": {}
      },
      "source": [
        "def aug_train(X):\n",
        "  # Подавать внутрь датафрейм X с колонкой y\n",
        "  num_zeros = X[X['y'] == 0].to_numpy().shape[0]\n",
        "  num_ones = X[X['y'] == 1].to_numpy().shape[0]\n",
        "\n",
        "  num_add = num_zeros - num_ones\n",
        "  minority_points = X[X['y'] == 1].to_numpy()\n",
        "\n",
        "  minority_points, dict_ans = generate_points_for_n_minority(minority_points, num_add)\n",
        "  assert minority_points.shape[0] == X[X['y'] == 1].to_numpy().shape[0] + num_add \n",
        "  assert num_zeros == minority_points.shape[0]\n",
        "\n",
        "  # testing:\n",
        "  initial_rows = X[X['y'] == 1].to_numpy().shape[0]\n",
        "  n_points = 0\n",
        "  for key, points in dict_ans.items():\n",
        "    for point in points:\n",
        "      n_points+=1\n",
        "      assert key[1] <= initial_rows and key[0] <= initial_rows\n",
        "      assert test_points_on_line(minority_points[key[1]], minority_points[key[0]], point)\n",
        "  assert n_points == num_add\n",
        "  assert np.all(np.equal(minority_points[:initial_rows], X[X['y'] == 1].to_numpy()))\n",
        "\n",
        "  X_aug = np.concatenate((X[X['y'] == 0].to_numpy(), minority_points), axis=0)\n",
        "  y_aug = np.array([0] * num_zeros + [1] * num_zeros)\n",
        "  assert X_aug.shape[0] == 2 * num_zeros\n",
        "  assert y_aug.shape[0] == X_aug.shape[0]\n",
        "\n",
        "  df_new = pd.DataFrame(X_aug)\n",
        "  df_new['y'] = y_aug\n",
        "\n",
        "  return df_new"
      ],
      "execution_count": 0,
      "outputs": []
    },
    {
      "cell_type": "code",
      "metadata": {
        "id": "-q1Z1nlPTWA_",
        "colab_type": "code",
        "colab": {
          "base_uri": "https://localhost:8080/",
          "height": 453
        },
        "outputId": "bc5ef0e9-bb75-476d-a1d0-ab1518172329"
      },
      "source": [
        "X, y = get_dataset_pd('abalone')\n",
        "X['y'] = y\n",
        "\n",
        "# 1. Split on test and train\n",
        "X_train, X_test, y_train, y_test = train_test_split(X, y, test_size=0.2) # random_state=42\n",
        "\n",
        "# 2. Augment train part by generating new minority points\n",
        "X_train_aug = aug_train(X_train)\n",
        "\n",
        "# 3. Shuffle\n",
        "X_train_aug = X_train_aug.sample(frac=1) # shuffle\n",
        "\n",
        "# 4. Drop target from train\n",
        "y_train_aug = X_train_aug['y']\n",
        "X_train_aug = X_train_aug.drop('y', 1)\n",
        "\n",
        "# 5. Fit:\n",
        "\n",
        "\n",
        "# 6. Predict:\n",
        "\n"
      ],
      "execution_count": 44,
      "outputs": [
        {
          "output_type": "stream",
          "text": [
            "/usr/local/lib/python3.6/dist-packages/ipykernel_launcher.py:7: RuntimeWarning: invalid value encountered in true_divide\n",
            "  import sys\n"
          ],
          "name": "stderr"
        },
        {
          "output_type": "execute_result",
          "data": {
            "text/html": [
              "<div>\n",
              "<style scoped>\n",
              "    .dataframe tbody tr th:only-of-type {\n",
              "        vertical-align: middle;\n",
              "    }\n",
              "\n",
              "    .dataframe tbody tr th {\n",
              "        vertical-align: top;\n",
              "    }\n",
              "\n",
              "    .dataframe thead th {\n",
              "        text-align: right;\n",
              "    }\n",
              "</style>\n",
              "<table border=\"1\" class=\"dataframe\">\n",
              "  <thead>\n",
              "    <tr style=\"text-align: right;\">\n",
              "      <th></th>\n",
              "      <th>0</th>\n",
              "      <th>1</th>\n",
              "      <th>2</th>\n",
              "      <th>3</th>\n",
              "      <th>4</th>\n",
              "      <th>5</th>\n",
              "      <th>6</th>\n",
              "      <th>7</th>\n",
              "      <th>8</th>\n",
              "      <th>9</th>\n",
              "      <th>10</th>\n",
              "    </tr>\n",
              "  </thead>\n",
              "  <tbody>\n",
              "    <tr>\n",
              "      <th>0</th>\n",
              "      <td>0.000000</td>\n",
              "      <td>0.000000</td>\n",
              "      <td>1.000000</td>\n",
              "      <td>0.625000</td>\n",
              "      <td>0.500000</td>\n",
              "      <td>0.180000</td>\n",
              "      <td>1.370500</td>\n",
              "      <td>0.645000</td>\n",
              "      <td>0.303000</td>\n",
              "      <td>0.370500</td>\n",
              "      <td>0.0</td>\n",
              "    </tr>\n",
              "    <tr>\n",
              "      <th>1</th>\n",
              "      <td>0.000000</td>\n",
              "      <td>1.000000</td>\n",
              "      <td>0.000000</td>\n",
              "      <td>0.545000</td>\n",
              "      <td>0.425000</td>\n",
              "      <td>0.140000</td>\n",
              "      <td>0.814500</td>\n",
              "      <td>0.305000</td>\n",
              "      <td>0.231000</td>\n",
              "      <td>0.244000</td>\n",
              "      <td>0.0</td>\n",
              "    </tr>\n",
              "    <tr>\n",
              "      <th>2</th>\n",
              "      <td>0.000000</td>\n",
              "      <td>1.000000</td>\n",
              "      <td>0.000000</td>\n",
              "      <td>0.235000</td>\n",
              "      <td>0.130000</td>\n",
              "      <td>0.075000</td>\n",
              "      <td>0.158500</td>\n",
              "      <td>0.068500</td>\n",
              "      <td>0.037000</td>\n",
              "      <td>0.046500</td>\n",
              "      <td>0.0</td>\n",
              "    </tr>\n",
              "    <tr>\n",
              "      <th>3</th>\n",
              "      <td>0.000000</td>\n",
              "      <td>1.000000</td>\n",
              "      <td>0.000000</td>\n",
              "      <td>0.280000</td>\n",
              "      <td>0.210000</td>\n",
              "      <td>0.065000</td>\n",
              "      <td>0.111000</td>\n",
              "      <td>0.042500</td>\n",
              "      <td>0.028500</td>\n",
              "      <td>0.030000</td>\n",
              "      <td>0.0</td>\n",
              "    </tr>\n",
              "    <tr>\n",
              "      <th>4</th>\n",
              "      <td>0.000000</td>\n",
              "      <td>0.000000</td>\n",
              "      <td>1.000000</td>\n",
              "      <td>0.650000</td>\n",
              "      <td>0.525000</td>\n",
              "      <td>0.185000</td>\n",
              "      <td>1.345500</td>\n",
              "      <td>0.586000</td>\n",
              "      <td>0.278000</td>\n",
              "      <td>0.386500</td>\n",
              "      <td>0.0</td>\n",
              "    </tr>\n",
              "    <tr>\n",
              "      <th>...</th>\n",
              "      <td>...</td>\n",
              "      <td>...</td>\n",
              "      <td>...</td>\n",
              "      <td>...</td>\n",
              "      <td>...</td>\n",
              "      <td>...</td>\n",
              "      <td>...</td>\n",
              "      <td>...</td>\n",
              "      <td>...</td>\n",
              "      <td>...</td>\n",
              "      <td>...</td>\n",
              "    </tr>\n",
              "    <tr>\n",
              "      <th>6039</th>\n",
              "      <td>0.000000</td>\n",
              "      <td>1.000000</td>\n",
              "      <td>0.000000</td>\n",
              "      <td>0.453737</td>\n",
              "      <td>0.348863</td>\n",
              "      <td>0.134116</td>\n",
              "      <td>0.529792</td>\n",
              "      <td>0.280725</td>\n",
              "      <td>0.084881</td>\n",
              "      <td>0.131451</td>\n",
              "      <td>1.0</td>\n",
              "    </tr>\n",
              "    <tr>\n",
              "      <th>6040</th>\n",
              "      <td>0.000000</td>\n",
              "      <td>0.744876</td>\n",
              "      <td>0.255124</td>\n",
              "      <td>0.418064</td>\n",
              "      <td>0.318064</td>\n",
              "      <td>0.106378</td>\n",
              "      <td>0.337306</td>\n",
              "      <td>0.156485</td>\n",
              "      <td>0.065252</td>\n",
              "      <td>0.100936</td>\n",
              "      <td>1.0</td>\n",
              "    </tr>\n",
              "    <tr>\n",
              "      <th>6041</th>\n",
              "      <td>0.000000</td>\n",
              "      <td>0.015998</td>\n",
              "      <td>0.984002</td>\n",
              "      <td>0.522040</td>\n",
              "      <td>0.412360</td>\n",
              "      <td>0.133960</td>\n",
              "      <td>0.785349</td>\n",
              "      <td>0.389361</td>\n",
              "      <td>0.186656</td>\n",
              "      <td>0.199648</td>\n",
              "      <td>1.0</td>\n",
              "    </tr>\n",
              "    <tr>\n",
              "      <th>6042</th>\n",
              "      <td>0.902966</td>\n",
              "      <td>0.097034</td>\n",
              "      <td>0.000000</td>\n",
              "      <td>0.325000</td>\n",
              "      <td>0.259030</td>\n",
              "      <td>0.089030</td>\n",
              "      <td>0.189753</td>\n",
              "      <td>0.084175</td>\n",
              "      <td>0.035854</td>\n",
              "      <td>0.060739</td>\n",
              "      <td>1.0</td>\n",
              "    </tr>\n",
              "    <tr>\n",
              "      <th>6043</th>\n",
              "      <td>0.167810</td>\n",
              "      <td>0.832190</td>\n",
              "      <td>0.000000</td>\n",
              "      <td>0.466781</td>\n",
              "      <td>0.370908</td>\n",
              "      <td>0.131678</td>\n",
              "      <td>0.557542</td>\n",
              "      <td>0.241091</td>\n",
              "      <td>0.138327</td>\n",
              "      <td>0.150677</td>\n",
              "      <td>1.0</td>\n",
              "    </tr>\n",
              "  </tbody>\n",
              "</table>\n",
              "<p>6044 rows × 11 columns</p>\n",
              "</div>"
            ],
            "text/plain": [
              "            0         1         2         3   ...        7         8         9    10\n",
              "0     0.000000  0.000000  1.000000  0.625000  ...  0.645000  0.303000  0.370500  0.0\n",
              "1     0.000000  1.000000  0.000000  0.545000  ...  0.305000  0.231000  0.244000  0.0\n",
              "2     0.000000  1.000000  0.000000  0.235000  ...  0.068500  0.037000  0.046500  0.0\n",
              "3     0.000000  1.000000  0.000000  0.280000  ...  0.042500  0.028500  0.030000  0.0\n",
              "4     0.000000  0.000000  1.000000  0.650000  ...  0.586000  0.278000  0.386500  0.0\n",
              "...        ...       ...       ...       ...  ...       ...       ...       ...  ...\n",
              "6039  0.000000  1.000000  0.000000  0.453737  ...  0.280725  0.084881  0.131451  1.0\n",
              "6040  0.000000  0.744876  0.255124  0.418064  ...  0.156485  0.065252  0.100936  1.0\n",
              "6041  0.000000  0.015998  0.984002  0.522040  ...  0.389361  0.186656  0.199648  1.0\n",
              "6042  0.902966  0.097034  0.000000  0.325000  ...  0.084175  0.035854  0.060739  1.0\n",
              "6043  0.167810  0.832190  0.000000  0.466781  ...  0.241091  0.138327  0.150677  1.0\n",
              "\n",
              "[6044 rows x 11 columns]"
            ]
          },
          "metadata": {
            "tags": []
          },
          "execution_count": 44
        }
      ]
    },
    {
      "cell_type": "code",
      "metadata": {
        "id": "vOe4m47VK_U0",
        "colab_type": "code",
        "colab": {}
      },
      "source": [
        ""
      ],
      "execution_count": 0,
      "outputs": []
    },
    {
      "cell_type": "code",
      "metadata": {
        "id": "zb3FYYp9MvBN",
        "colab_type": "code",
        "colab": {}
      },
      "source": [
        ""
      ],
      "execution_count": 0,
      "outputs": []
    },
    {
      "cell_type": "code",
      "metadata": {
        "id": "KCCEVOHQaqLA",
        "colab_type": "code",
        "colab": {}
      },
      "source": [
        ""
      ],
      "execution_count": 0,
      "outputs": []
    },
    {
      "cell_type": "code",
      "metadata": {
        "id": "63zR840zb-b-",
        "colab_type": "code",
        "outputId": "5b430486-9ccf-4d09-da33-d8fb37b1b65b",
        "colab": {
          "base_uri": "https://localhost:8080/",
          "height": 419
        }
      },
      "source": [
        "\n",
        "df_new"
      ],
      "execution_count": 36,
      "outputs": [
        {
          "output_type": "execute_result",
          "data": {
            "text/html": [
              "<div>\n",
              "<style scoped>\n",
              "    .dataframe tbody tr th:only-of-type {\n",
              "        vertical-align: middle;\n",
              "    }\n",
              "\n",
              "    .dataframe tbody tr th {\n",
              "        vertical-align: top;\n",
              "    }\n",
              "\n",
              "    .dataframe thead th {\n",
              "        text-align: right;\n",
              "    }\n",
              "</style>\n",
              "<table border=\"1\" class=\"dataframe\">\n",
              "  <thead>\n",
              "    <tr style=\"text-align: right;\">\n",
              "      <th></th>\n",
              "      <th>0</th>\n",
              "      <th>1</th>\n",
              "      <th>2</th>\n",
              "      <th>3</th>\n",
              "      <th>4</th>\n",
              "      <th>5</th>\n",
              "      <th>6</th>\n",
              "      <th>7</th>\n",
              "      <th>8</th>\n",
              "      <th>9</th>\n",
              "      <th>10</th>\n",
              "      <th>y</th>\n",
              "    </tr>\n",
              "  </thead>\n",
              "  <tbody>\n",
              "    <tr>\n",
              "      <th>0</th>\n",
              "      <td>0.000000</td>\n",
              "      <td>0.00000</td>\n",
              "      <td>1.000000</td>\n",
              "      <td>0.455000</td>\n",
              "      <td>0.365000</td>\n",
              "      <td>0.095000</td>\n",
              "      <td>0.514000</td>\n",
              "      <td>0.224500</td>\n",
              "      <td>0.101000</td>\n",
              "      <td>0.150000</td>\n",
              "      <td>0.0</td>\n",
              "      <td>0</td>\n",
              "    </tr>\n",
              "    <tr>\n",
              "      <th>1</th>\n",
              "      <td>1.000000</td>\n",
              "      <td>0.00000</td>\n",
              "      <td>0.000000</td>\n",
              "      <td>0.530000</td>\n",
              "      <td>0.420000</td>\n",
              "      <td>0.135000</td>\n",
              "      <td>0.677000</td>\n",
              "      <td>0.256500</td>\n",
              "      <td>0.141500</td>\n",
              "      <td>0.210000</td>\n",
              "      <td>0.0</td>\n",
              "      <td>0</td>\n",
              "    </tr>\n",
              "    <tr>\n",
              "      <th>2</th>\n",
              "      <td>0.000000</td>\n",
              "      <td>0.00000</td>\n",
              "      <td>1.000000</td>\n",
              "      <td>0.440000</td>\n",
              "      <td>0.365000</td>\n",
              "      <td>0.125000</td>\n",
              "      <td>0.516000</td>\n",
              "      <td>0.215500</td>\n",
              "      <td>0.114000</td>\n",
              "      <td>0.155000</td>\n",
              "      <td>0.0</td>\n",
              "      <td>0</td>\n",
              "    </tr>\n",
              "    <tr>\n",
              "      <th>3</th>\n",
              "      <td>0.000000</td>\n",
              "      <td>1.00000</td>\n",
              "      <td>0.000000</td>\n",
              "      <td>0.425000</td>\n",
              "      <td>0.300000</td>\n",
              "      <td>0.095000</td>\n",
              "      <td>0.351500</td>\n",
              "      <td>0.141000</td>\n",
              "      <td>0.077500</td>\n",
              "      <td>0.120000</td>\n",
              "      <td>0.0</td>\n",
              "      <td>0</td>\n",
              "    </tr>\n",
              "    <tr>\n",
              "      <th>4</th>\n",
              "      <td>1.000000</td>\n",
              "      <td>0.00000</td>\n",
              "      <td>0.000000</td>\n",
              "      <td>0.530000</td>\n",
              "      <td>0.415000</td>\n",
              "      <td>0.150000</td>\n",
              "      <td>0.777500</td>\n",
              "      <td>0.237000</td>\n",
              "      <td>0.141500</td>\n",
              "      <td>0.330000</td>\n",
              "      <td>0.0</td>\n",
              "      <td>0</td>\n",
              "    </tr>\n",
              "    <tr>\n",
              "      <th>...</th>\n",
              "      <td>...</td>\n",
              "      <td>...</td>\n",
              "      <td>...</td>\n",
              "      <td>...</td>\n",
              "      <td>...</td>\n",
              "      <td>...</td>\n",
              "      <td>...</td>\n",
              "      <td>...</td>\n",
              "      <td>...</td>\n",
              "      <td>...</td>\n",
              "      <td>...</td>\n",
              "      <td>...</td>\n",
              "    </tr>\n",
              "    <tr>\n",
              "      <th>7567</th>\n",
              "      <td>0.838720</td>\n",
              "      <td>0.16128</td>\n",
              "      <td>0.000000</td>\n",
              "      <td>0.510646</td>\n",
              "      <td>0.380485</td>\n",
              "      <td>0.137742</td>\n",
              "      <td>0.692666</td>\n",
              "      <td>0.274454</td>\n",
              "      <td>0.152307</td>\n",
              "      <td>0.227582</td>\n",
              "      <td>1.0</td>\n",
              "      <td>1</td>\n",
              "    </tr>\n",
              "    <tr>\n",
              "      <th>7568</th>\n",
              "      <td>0.101071</td>\n",
              "      <td>0.00000</td>\n",
              "      <td>0.898929</td>\n",
              "      <td>0.352687</td>\n",
              "      <td>0.276118</td>\n",
              "      <td>0.105505</td>\n",
              "      <td>0.258234</td>\n",
              "      <td>0.113007</td>\n",
              "      <td>0.062266</td>\n",
              "      <td>0.082378</td>\n",
              "      <td>1.0</td>\n",
              "      <td>1</td>\n",
              "    </tr>\n",
              "    <tr>\n",
              "      <th>7569</th>\n",
              "      <td>0.000000</td>\n",
              "      <td>1.00000</td>\n",
              "      <td>0.000000</td>\n",
              "      <td>0.399563</td>\n",
              "      <td>0.310000</td>\n",
              "      <td>0.099563</td>\n",
              "      <td>0.143253</td>\n",
              "      <td>0.108185</td>\n",
              "      <td>0.071087</td>\n",
              "      <td>0.085699</td>\n",
              "      <td>1.0</td>\n",
              "      <td>1</td>\n",
              "    </tr>\n",
              "    <tr>\n",
              "      <th>7570</th>\n",
              "      <td>0.000000</td>\n",
              "      <td>1.00000</td>\n",
              "      <td>0.000000</td>\n",
              "      <td>0.437378</td>\n",
              "      <td>0.332752</td>\n",
              "      <td>0.106042</td>\n",
              "      <td>0.368528</td>\n",
              "      <td>0.173966</td>\n",
              "      <td>0.073831</td>\n",
              "      <td>0.095539</td>\n",
              "      <td>1.0</td>\n",
              "      <td>1</td>\n",
              "    </tr>\n",
              "    <tr>\n",
              "      <th>7571</th>\n",
              "      <td>0.030020</td>\n",
              "      <td>0.96998</td>\n",
              "      <td>0.000000</td>\n",
              "      <td>0.459250</td>\n",
              "      <td>0.350000</td>\n",
              "      <td>0.109850</td>\n",
              "      <td>0.400585</td>\n",
              "      <td>0.176540</td>\n",
              "      <td>0.083525</td>\n",
              "      <td>0.120785</td>\n",
              "      <td>1.0</td>\n",
              "      <td>1</td>\n",
              "    </tr>\n",
              "  </tbody>\n",
              "</table>\n",
              "<p>7572 rows × 12 columns</p>\n",
              "</div>"
            ],
            "text/plain": [
              "             0        1         2         3  ...         8         9   10  y\n",
              "0     0.000000  0.00000  1.000000  0.455000  ...  0.101000  0.150000  0.0  0\n",
              "1     1.000000  0.00000  0.000000  0.530000  ...  0.141500  0.210000  0.0  0\n",
              "2     0.000000  0.00000  1.000000  0.440000  ...  0.114000  0.155000  0.0  0\n",
              "3     0.000000  1.00000  0.000000  0.425000  ...  0.077500  0.120000  0.0  0\n",
              "4     1.000000  0.00000  0.000000  0.530000  ...  0.141500  0.330000  0.0  0\n",
              "...        ...      ...       ...       ...  ...       ...       ...  ... ..\n",
              "7567  0.838720  0.16128  0.000000  0.510646  ...  0.152307  0.227582  1.0  1\n",
              "7568  0.101071  0.00000  0.898929  0.352687  ...  0.062266  0.082378  1.0  1\n",
              "7569  0.000000  1.00000  0.000000  0.399563  ...  0.071087  0.085699  1.0  1\n",
              "7570  0.000000  1.00000  0.000000  0.437378  ...  0.073831  0.095539  1.0  1\n",
              "7571  0.030020  0.96998  0.000000  0.459250  ...  0.083525  0.120785  1.0  1\n",
              "\n",
              "[7572 rows x 12 columns]"
            ]
          },
          "metadata": {
            "tags": []
          },
          "execution_count": 36
        }
      ]
    },
    {
      "cell_type": "code",
      "metadata": {
        "id": "Dl5D344lerg_",
        "colab_type": "code",
        "colab": {
          "base_uri": "https://localhost:8080/",
          "height": 34
        },
        "outputId": "f123ddd3-4951-4fe0-ee4f-8016e909a9b3"
      },
      "source": [
        "X.shape"
      ],
      "execution_count": 38,
      "outputs": [
        {
          "output_type": "execute_result",
          "data": {
            "text/plain": [
              "(4177, 11)"
            ]
          },
          "metadata": {
            "tags": []
          },
          "execution_count": 38
        }
      ]
    },
    {
      "cell_type": "code",
      "metadata": {
        "id": "nVmyfsLHaQi6",
        "colab_type": "code",
        "colab": {}
      },
      "source": [
        ""
      ],
      "execution_count": 0,
      "outputs": []
    }
  ]
}
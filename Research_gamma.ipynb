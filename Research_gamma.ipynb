{
 "cells": [
  {
   "cell_type": "markdown",
   "metadata": {},
   "source": [
    "### 1.\n",
    "- One random point\n",
    "- 2D plane"
   ]
  },
  {
   "cell_type": "code",
   "execution_count": 12,
   "metadata": {},
   "outputs": [],
   "source": [
    "import math\n",
    "import numpy as np\n",
    "import matplotlib.pyplot as plt"
   ]
  },
  {
   "cell_type": "code",
   "execution_count": 13,
   "metadata": {},
   "outputs": [],
   "source": [
    "# Generates random point in rectangle [xy_min; xy_max]\n",
    "def generate_random_point(n=2, xy_min=[0, 0], xy_max=[10, 20]):\n",
    "    data = np.random.uniform(low=xy_min, high=xy_max, size=(n,2))\n",
    "    return data\n",
    "\n",
    "# Returns directional vector\n",
    "def get_vector_two_points(two_points):\n",
    "    return two_points[1] - two_points[0]"
   ]
  },
  {
   "cell_type": "code",
   "execution_count": 14,
   "metadata": {},
   "outputs": [
    {
     "name": "stdout",
     "output_type": "stream",
     "text": [
      "[[7.91057707 0.2201996 ]\n",
      " [9.22245731 9.82290626]]\n",
      "[1.31188024 9.60270665]\n"
     ]
    }
   ],
   "source": [
    "# Generate two Random point2:\n",
    "two_points = generate_random_point(n=2, xy_min=[0, 0], xy_max=[10, 20])\n",
    "print(two_points)\n",
    "# get vector for these two points\n",
    "v = get_vector_two_points(two_points)\n",
    "print(v)"
   ]
  },
  {
   "cell_type": "code",
   "execution_count": 15,
   "metadata": {},
   "outputs": [
    {
     "data": {
      "image/png": "[encoded data removed]",
      "text/plain": [
       "<Figure size 432x288 with 2 Axes>"
      ]
     },
     "metadata": {
      "needs_background": "light"
     },
     "output_type": "display_data"
    }
   ],
   "source": [
    "# JUST CHECKING how Gamma dist is look like\n",
    "\n",
    "N_points = 100000\n",
    "n_bins = 20\n",
    "\n",
    "shape, scale = 1., 3.  # mean=4, std=2*sqrt(2)\n",
    "s = np.random.gamma(shape, scale, 10000)\n",
    "\n",
    "\n",
    "fig, axs = plt.subplots(1, 2, sharey=True, tight_layout=True)\n",
    "\n",
    "# We can set the number of bins with the `bins` kwarg\n",
    "axs[0].hist(s, bins=n_bins)\n",
    "axs[1].hist(s, bins=2*n_bins)\n",
    "plt.show()"
   ]
  },
  {
   "cell_type": "code",
   "execution_count": 16,
   "metadata": {},
   "outputs": [],
   "source": [
    "# Generates normilized Gamma distributed value\n",
    "def generate_gamma():\n",
    "    shape, scale = 1., 3.\n",
    "    s = np.random.gamma(shape, scale, 1)[0]\n",
    "    if (s > 20): # заглушка пока что\n",
    "        s = 20\n",
    "    s = s / 20\n",
    "    return s"
   ]
  },
  {
   "cell_type": "code",
   "execution_count": 17,
   "metadata": {},
   "outputs": [],
   "source": [
    "gamma_coeff = generate_gamma()"
   ]
  },
  {
   "cell_type": "code",
   "execution_count": 18,
   "metadata": {},
   "outputs": [],
   "source": [
    "# Generates new point on line between two initial points\n",
    "def generate_new_point(start_point, v, gamma_coeff):\n",
    "    return two_points[0] + v * gamma_coeff"
   ]
  },
  {
   "cell_type": "code",
   "execution_count": 19,
   "metadata": {},
   "outputs": [],
   "source": [
    "generated_point = generate_new_point(two_points[0], v, gamma_coeff)"
   ]
  },
  {
   "cell_type": "code",
   "execution_count": 20,
   "metadata": {},
   "outputs": [
    {
     "data": {
      "text/plain": [
       "array([[7.91057707, 0.2201996 ],\n",
       "       [9.22245731, 9.82290626],\n",
       "       [7.9441778 , 0.46615034]])"
      ]
     },
     "execution_count": 20,
     "metadata": {},
     "output_type": "execute_result"
    }
   ],
   "source": [
    "initial_points_and_generated = np.concatenate((two_points, generated_point[np.newaxis, :]), axis=0)\n",
    "initial_points_and_generated"
   ]
  },
  {
   "cell_type": "code",
   "execution_count": 22,
   "metadata": {},
   "outputs": [
    {
     "data": {
      "image/png": "[encoded data removed]",
      "text/plain": [
       "<Figure size 432x288 with 1 Axes>"
      ]
     },
     "metadata": {},
     "output_type": "display_data"
    }
   ],
   "source": [
    "import matplotlib.pyplot as plt\n",
    "plt.style.use('seaborn-whitegrid')\n",
    "import numpy as np\n",
    "\n",
    "\n",
    "initial_x, initial_y = map(list, zip(*two_points))\n",
    "generated_x, generated_y = map(list, zip(*generated_point[np.newaxis, :]))\n",
    "\n",
    "plt.plot(initial_x, initial_y, 'o', color='blue');\n",
    "plt.plot(generated_x, generated_y, 'o', color='red');"
   ]
  },
  {
   "cell_type": "markdown",
   "metadata": {},
   "source": [
    "## 2.\n",
    "- Multiple Random points\n",
    "- 2D plane"
   ]
  },
  {
   "cell_type": "code",
   "execution_count": 23,
   "metadata": {},
   "outputs": [],
   "source": [
    "NUM_RAND_POINTS = 20"
   ]
  },
  {
   "cell_type": "code",
   "execution_count": 24,
   "metadata": {},
   "outputs": [
    {
     "name": "stdout",
     "output_type": "stream",
     "text": [
      "[[ 7.87115264  8.90168253]\n",
      " [ 0.10243592 12.73122054]]\n",
      "[-7.76871672  3.82953801]\n"
     ]
    }
   ],
   "source": [
    "# Generate two Random point2:\n",
    "two_points = generate_random_point(n=2, xy_min=[0, 0], xy_max=[10, 20])\n",
    "print(two_points)\n",
    "# get vector for these two points\n",
    "v = get_vector_two_points(two_points)\n",
    "print(v)"
   ]
  },
  {
   "cell_type": "code",
   "execution_count": 25,
   "metadata": {},
   "outputs": [],
   "source": [
    "gamma_coeff = generate_gamma()\n",
    "\n",
    "generated_points = generate_new_point(two_points[0], v, gamma_coeff)[np.newaxis, :]\n",
    "\n",
    "for i in range(NUM_RAND_POINTS - 1):\n",
    "    gamma_coeff = generate_gamma()\n",
    "    generated_points = np.concatenate((generate_new_point(two_points[0], v, gamma_coeff)[np.newaxis, :], generated_points),\n",
    "                                      axis=0)"
   ]
  },
  {
   "cell_type": "code",
   "execution_count": 26,
   "metadata": {},
   "outputs": [
    {
     "data": {
      "image/png": "[encoded data removed]",
      "text/plain": [
       "<Figure size 432x288 with 1 Axes>"
      ]
     },
     "metadata": {},
     "output_type": "display_data"
    }
   ],
   "source": [
    "import matplotlib.pyplot as plt\n",
    "plt.style.use('seaborn-whitegrid')\n",
    "import numpy as np\n",
    "\n",
    "\n",
    "initial_x, initial_y = map(list, zip(*two_points))\n",
    "generated_x, generated_y = map(list, zip(*generated_points))\n",
    "\n",
    "plt.plot(initial_x, initial_y, 'o', color='blue');\n",
    "plt.plot(generated_x, generated_y, 'o', color='red');\n",
    "plt.plot(initial_x, initial_y, '-');"
   ]
  },
  {
   "cell_type": "code",
   "execution_count": 27,
   "metadata": {},
   "outputs": [
    {
     "data": {
      "text/plain": [
       "array([[ 6.87577387,  9.39234798],\n",
       "       [ 7.7957861 ,  8.93883397],\n",
       "       [ 7.20485408,  9.23013004],\n",
       "       [ 6.59295853,  9.53175994],\n",
       "       [ 7.07825351,  9.29253696],\n",
       "       [ 7.72049836,  8.97594657],\n",
       "       [ 7.1426867 ,  9.26077505],\n",
       "       [ 6.58717356,  9.53461161],\n",
       "       [ 7.78023167,  8.94650143],\n",
       "       [ 4.49926287, 10.56383351],\n",
       "       [ 7.49029563,  9.0894235 ],\n",
       "       [ 7.28227382,  9.19196649],\n",
       "       [ 7.40322447,  9.13234466],\n",
       "       [ 7.32991045,  9.16848433],\n",
       "       [ 7.1141419 ,  9.27484602],\n",
       "       [ 7.42774676,  9.12025656],\n",
       "       [ 7.12594124,  9.26902961],\n",
       "       [ 7.28571584,  9.19026977],\n",
       "       [ 6.93715772,  9.36208921],\n",
       "       [ 7.75834373,  8.95729095]])"
      ]
     },
     "execution_count": 27,
     "metadata": {},
     "output_type": "execute_result"
    }
   ],
   "source": [
    "generated_points"
   ]
  },
  {
   "cell_type": "code",
   "execution_count": 28,
   "metadata": {},
   "outputs": [
    {
     "data": {
      "text/plain": [
       "array([[ 7.87115264,  8.90168253],\n",
       "       [ 0.10243592, 12.73122054]])"
      ]
     },
     "execution_count": 28,
     "metadata": {},
     "output_type": "execute_result"
    }
   ],
   "source": [
    "two_points"
   ]
  },
  {
   "cell_type": "code",
   "execution_count": null,
   "metadata": {},
   "outputs": [],
   "source": []
  }
 ],
 "metadata": {
  "kernelspec": {
   "display_name": ".venv",
   "language": "python",
   "name": ".venv"
  }
 },
 "nbformat": 4,
 "nbformat_minor": 2
}

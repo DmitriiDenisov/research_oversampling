{
  "nbformat": 4,
  "nbformat_minor": 0,
  "metadata": {
    "colab": {
      "name": "Research_gamma.ipynb",
      "provenance": [],
      "include_colab_link": true
    },
    "kernelspec": {
      "display_name": ".venv",
      "language": "python",
      "name": ".venv"
    },
    "language_info": {
      "codemirror_mode": {
        "name": "ipython",
        "version": 3
      },
      "file_extension": ".py",
      "mimetype": "text/x-python",
      "name": "python",
      "nbconvert_exporter": "python",
      "pygments_lexer": "ipython3",
      "version": "3.7.4"
    }
  },
  "cells": [
    {
      "cell_type": "markdown",
      "metadata": {
        "id": "view-in-github",
        "colab_type": "text"
      },
      "source": [
        "<a href=\"https://colab.research.google.com/github/DmitriiDenisov/research_oversampling/blob/master/Research_gamma.ipynb\" target=\"_parent\"><img src=\"https://colab.research.google.com/assets/colab-badge.svg\" alt=\"Open In Colab\"/></a>"
      ]
    },
    {
      "cell_type": "markdown",
      "metadata": {
        "colab_type": "text",
        "id": "ceoNp6jIwqF9"
      },
      "source": [
        "### 1.\n",
        "- One random point\n",
        "- 2D plane"
      ]
    },
    {
      "cell_type": "code",
      "metadata": {
        "colab_type": "code",
        "id": "cFtdgA2OwqGB",
        "colab": {}
      },
      "source": [
        "import math\n",
        "import numpy as np\n",
        "import matplotlib.pyplot as plt"
      ],
      "execution_count": 0,
      "outputs": []
    },
    {
      "cell_type": "code",
      "metadata": {
        "colab_type": "code",
        "id": "xj8E-lLawqGG",
        "colab": {}
      },
      "source": [
        "# Generates random point in rectangle [xy_min; xy_max]\n",
        "def generate_random_point(n=2, xy_min=[0, 0], xy_max=[10, 20]):\n",
        "    data = np.random.uniform(low=xy_min, high=xy_max, size=(n,2))\n",
        "    return data\n",
        "\n",
        "# Returns directional vector\n",
        "def get_vector_two_points(two_points):\n",
        "    return two_points[1] - two_points[0]"
      ],
      "execution_count": 0,
      "outputs": []
    },
    {
      "cell_type": "code",
      "metadata": {
        "colab_type": "code",
        "id": "M3UixHUFwqGJ",
        "outputId": "78f66333-7e22-4e2a-8687-6ab92379d466",
        "colab": {
          "base_uri": "https://localhost:8080/",
          "height": 68
        }
      },
      "source": [
        "# Generate two Random point2:\n",
        "two_points = generate_random_point(n=2, xy_min=[0, 0], xy_max=[10, 20])\n",
        "print(two_points)\n",
        "# get vector for these two points\n",
        "v = get_vector_two_points(two_points)\n",
        "print(v)"
      ],
      "execution_count": 23,
      "outputs": [
        {
          "output_type": "stream",
          "text": [
            "[[7.7103088  6.1999734 ]\n",
            " [3.01496108 0.16487609]]\n",
            "[-4.69534773 -6.03509731]\n"
          ],
          "name": "stdout"
        }
      ]
    },
    {
      "cell_type": "code",
      "metadata": {
        "colab_type": "code",
        "id": "q7PLtegIwqGO",
        "outputId": "b0898a38-9c5f-49bf-b6a4-88df47967ce1",
        "colab": {
          "base_uri": "https://localhost:8080/",
          "height": 297
        }
      },
      "source": [
        "# JUST CHECKING how Gamma dist is look like\n",
        "\n",
        "N_points = 100000\n",
        "n_bins = 20\n",
        "\n",
        "shape, scale = 1., 3.  # mean=4, std=2*sqrt(2)\n",
        "s = np.random.gamma(shape, scale, 10000)\n",
        "\n",
        "\n",
        "fig, axs = plt.subplots(1, 2, sharey=True, tight_layout=True)\n",
        "\n",
        "# We can set the number of bins with the `bins` kwarg\n",
        "axs[0].hist(s, bins=n_bins)\n",
        "axs[1].hist(s, bins=2*n_bins)\n",
        "plt.show()"
      ],
      "execution_count": 24,
      "outputs": [
        {
          "output_type": "display_data",
          "data": {
            "image/png": "[encoded data removed]",
            "text/plain": [
              "<Figure size 432x288 with 2 Axes>"
            ]
          },
          "metadata": {
            "tags": []
          }
        }
      ]
    },
    {
      "cell_type": "code",
      "metadata": {
        "colab_type": "code",
        "id": "xbE6rxDwwqGT",
        "colab": {}
      },
      "source": [
        "# Generates normilized Gamma distributed value\n",
        "def generate_gamma():\n",
        "    shape, scale = 1., 3.\n",
        "    s = np.random.gamma(shape, scale, 1)[0]\n",
        "    if (s > 20): # заглушка пока что\n",
        "        s = 20\n",
        "    s = s / 20\n",
        "    return s"
      ],
      "execution_count": 0,
      "outputs": []
    },
    {
      "cell_type": "code",
      "metadata": {
        "colab_type": "code",
        "id": "KKsixbezwqGW",
        "colab": {}
      },
      "source": [
        "gamma_coeff = generate_gamma()"
      ],
      "execution_count": 0,
      "outputs": []
    },
    {
      "cell_type": "code",
      "metadata": {
        "colab_type": "code",
        "id": "lCMR509_wqGY",
        "colab": {}
      },
      "source": [
        "# Generates new point on line between two initial points\n",
        "def generate_new_point(start_point, v, gamma_coeff):\n",
        "    return start_point + v * gamma_coeff"
      ],
      "execution_count": 0,
      "outputs": []
    },
    {
      "cell_type": "code",
      "metadata": {
        "colab_type": "code",
        "id": "AGFA0DRwwqGa",
        "colab": {}
      },
      "source": [
        "generated_point = generate_new_point(two_points[0], v, gamma_coeff)"
      ],
      "execution_count": 0,
      "outputs": []
    },
    {
      "cell_type": "code",
      "metadata": {
        "colab_type": "code",
        "id": "hV2LVHKPwqGc",
        "outputId": "1581aea1-1540-44df-85f9-90b1b5ed1eb2",
        "colab": {
          "base_uri": "https://localhost:8080/",
          "height": 68
        }
      },
      "source": [
        "# For visualazion:\n",
        "initial_points_and_generated = np.concatenate((two_points, generated_point[np.newaxis, :]), axis=0)\n",
        "initial_points_and_generated"
      ],
      "execution_count": 29,
      "outputs": [
        {
          "output_type": "execute_result",
          "data": {
            "text/plain": [
              "array([[7.7103088 , 6.1999734 ],\n",
              "       [3.01496108, 0.16487609],\n",
              "       [5.47911494, 3.33214062]])"
            ]
          },
          "metadata": {
            "tags": []
          },
          "execution_count": 29
        }
      ]
    },
    {
      "cell_type": "code",
      "metadata": {
        "colab_type": "code",
        "id": "JNkG2gHZwqGf",
        "outputId": "eaec75ec-1d93-4790-b67e-045f63474afb",
        "colab": {
          "base_uri": "https://localhost:8080/",
          "height": 262
        }
      },
      "source": [
        "import matplotlib.pyplot as plt\n",
        "plt.style.use('seaborn-whitegrid')\n",
        "import numpy as np\n",
        "\n",
        "\n",
        "initial_x, initial_y = map(list, zip(*two_points))\n",
        "generated_x, generated_y = map(list, zip(*generated_point[np.newaxis, :]))\n",
        "\n",
        "plt.plot(initial_x, initial_y, 'o', color='blue');\n",
        "plt.plot(generated_x, generated_y, 'o', color='red');"
      ],
      "execution_count": 30,
      "outputs": [
        {
          "output_type": "display_data",
          "data": {
            "image/png": "[encoded data removed]",
            "text/plain": [
              "<Figure size 432x288 with 1 Axes>"
            ]
          },
          "metadata": {
            "tags": []
          }
        }
      ]
    },
    {
      "cell_type": "markdown",
      "metadata": {
        "colab_type": "text",
        "id": "QbIYZaRswqGh"
      },
      "source": [
        "## 2.\n",
        "- Multiple Random points\n",
        "- 2D plane"
      ]
    },
    {
      "cell_type": "code",
      "metadata": {
        "colab_type": "code",
        "id": "Uxoi3AJFwqGi",
        "colab": {}
      },
      "source": [
        "NUM_RAND_POINTS = 20"
      ],
      "execution_count": 0,
      "outputs": []
    },
    {
      "cell_type": "code",
      "metadata": {
        "colab_type": "code",
        "id": "nlF6k1ZFwqGl",
        "outputId": "583939dc-8678-49e1-b093-86ad058918ae",
        "colab": {
          "base_uri": "https://localhost:8080/",
          "height": 68
        }
      },
      "source": [
        "# Generate two Random point2:\n",
        "two_points = generate_random_point(n=2, xy_min=[0, 0], xy_max=[10, 20])\n",
        "print(two_points)\n",
        "# get vector for these two points\n",
        "v = get_vector_two_points(two_points)\n",
        "print(v)"
      ],
      "execution_count": 32,
      "outputs": [
        {
          "output_type": "stream",
          "text": [
            "[[ 9.07909689 16.92525633]\n",
            " [ 6.70581849  6.71907998]]\n",
            "[ -2.3732784  -10.20617635]\n"
          ],
          "name": "stdout"
        }
      ]
    },
    {
      "cell_type": "code",
      "metadata": {
        "colab_type": "code",
        "id": "aCb58R_bwqGn",
        "colab": {}
      },
      "source": [
        "gamma_coeff = generate_gamma()\n",
        "\n",
        "generated_points = generate_new_point(two_points[0], v, gamma_coeff)[np.newaxis, :]\n",
        "\n",
        "for i in range(NUM_RAND_POINTS - 1):\n",
        "    gamma_coeff = generate_gamma()\n",
        "    generated_points = np.concatenate((generate_new_point(two_points[0], v, gamma_coeff)[np.newaxis, :], generated_points),\n",
        "                                      axis=0)"
      ],
      "execution_count": 0,
      "outputs": []
    },
    {
      "cell_type": "code",
      "metadata": {
        "colab_type": "code",
        "id": "GeM-TwMzwqGp",
        "outputId": "a144b077-f991-4bc2-fa03-57a4d448100a",
        "colab": {
          "base_uri": "https://localhost:8080/",
          "height": 262
        }
      },
      "source": [
        "import matplotlib.pyplot as plt\n",
        "plt.style.use('seaborn-whitegrid')\n",
        "import numpy as np\n",
        "\n",
        "\n",
        "initial_x, initial_y = map(list, zip(*two_points))\n",
        "generated_x, generated_y = map(list, zip(*generated_points))\n",
        "\n",
        "plt.plot(initial_x, initial_y, 'o', color='blue');\n",
        "plt.plot(generated_x, generated_y, 'o', color='red');\n",
        "plt.plot(initial_x, initial_y, '-');"
      ],
      "execution_count": 34,
      "outputs": [
        {
          "output_type": "display_data",
          "data": {
            "image/png": "[encoded data removed]",
            "text/plain": [
              "<Figure size 432x288 with 1 Axes>"
            ]
          },
          "metadata": {
            "tags": []
          }
        }
      ]
    },
    {
      "cell_type": "code",
      "metadata": {
        "colab_type": "code",
        "id": "rEgHAkUMwqGs",
        "outputId": "80951a77-efa1-4ebb-d9e9-f51874c14fbc",
        "colab": {
          "base_uri": "https://localhost:8080/",
          "height": 357
        }
      },
      "source": [
        "generated_points"
      ],
      "execution_count": 35,
      "outputs": [
        {
          "output_type": "execute_result",
          "data": {
            "text/plain": [
              "array([[ 8.45791386, 14.2538868 ],\n",
              "       [ 8.46264952, 14.27425232],\n",
              "       [ 8.73631322, 15.45113064],\n",
              "       [ 8.92290276, 16.25355052],\n",
              "       [ 8.18742356, 13.09065551],\n",
              "       [ 8.31283578, 13.6299851 ],\n",
              "       [ 9.02249173, 16.6818284 ],\n",
              "       [ 9.06536996, 16.86622427],\n",
              "       [ 8.70251425, 15.30577971],\n",
              "       [ 9.00532328, 16.60799624],\n",
              "       [ 8.84359255, 15.91248057],\n",
              "       [ 8.75802346, 15.54449454],\n",
              "       [ 8.88327119, 16.08311674],\n",
              "       [ 8.25769952, 13.39287409],\n",
              "       [ 8.75543201, 15.53335015],\n",
              "       [ 8.12771835, 12.83389595],\n",
              "       [ 8.7439709 , 15.48406217],\n",
              "       [ 8.99834466, 16.577985  ],\n",
              "       [ 9.03958422, 16.75533389],\n",
              "       [ 8.93245892, 16.29464638]])"
            ]
          },
          "metadata": {
            "tags": []
          },
          "execution_count": 35
        }
      ]
    },
    {
      "cell_type": "code",
      "metadata": {
        "colab_type": "code",
        "id": "SpZbCFw2wqGu",
        "outputId": "274403c7-c300-4490-a032-c9c6e6d49674",
        "colab": {
          "base_uri": "https://localhost:8080/",
          "height": 51
        }
      },
      "source": [
        "two_points"
      ],
      "execution_count": 36,
      "outputs": [
        {
          "output_type": "execute_result",
          "data": {
            "text/plain": [
              "array([[ 9.07909689, 16.92525633],\n",
              "       [ 6.70581849,  6.71907998]])"
            ]
          },
          "metadata": {
            "tags": []
          },
          "execution_count": 36
        }
      ]
    },
    {
      "cell_type": "markdown",
      "metadata": {
        "id": "kiHiauI-DGR-",
        "colab_type": "text"
      },
      "source": [
        "## 3.\n",
        "- One Random point\n",
        "- n dimentional space"
      ]
    },
    {
      "cell_type": "code",
      "metadata": {
        "id": "EotpYc2OC6AC",
        "colab_type": "code",
        "colab": {}
      },
      "source": [
        "# Generates n random points in hypercube [xy_min; xy_max]\n",
        "def generate_random_point_nd(num_points=2, n=10, min_=0, max_=10):\n",
        "    xy_min = [min_] * n\n",
        "    xy_max = [max_] * n\n",
        "    data = np.random.uniform(low=xy_min, high=xy_max, size=(num_points, n))\n",
        "    return data"
      ],
      "execution_count": 0,
      "outputs": []
    },
    {
      "cell_type": "code",
      "metadata": {
        "id": "m6AoFrI0C6AE",
        "colab_type": "code",
        "colab": {
          "base_uri": "https://localhost:8080/",
          "height": 119
        },
        "outputId": "f512198d-e39c-47fb-de42-0424cd16dd7e"
      },
      "source": [
        "two_points_nd = generate_random_point_nd(num_points=2, n=10)\n",
        "assert two_points_nd.shape[0] == 2\n",
        "assert two_points_nd.shape[1] == 10\n",
        "print(two_points_nd)\n",
        "# get vector for these two points\n",
        "v = get_vector_two_points(two_points_nd)\n",
        "print(v)"
      ],
      "execution_count": 39,
      "outputs": [
        {
          "output_type": "stream",
          "text": [
            "[[8.09544462 8.32252234 7.45958673 2.14449929 4.97762382 9.68754017\n",
            "  2.46276072 1.83199276 6.64224111 4.20166921]\n",
            " [7.79606844 3.93576844 4.87287582 3.30078627 1.52209141 0.06155324\n",
            "  6.58206942 2.64991636 6.61080676 1.63631653]]\n",
            "[-0.29937617 -4.3867539  -2.58671091  1.15628698 -3.45553241 -9.62598693\n",
            "  4.1193087   0.8179236  -0.03143434 -2.56535268]\n"
          ],
          "name": "stdout"
        }
      ]
    },
    {
      "cell_type": "code",
      "metadata": {
        "id": "V1VnnyPkC6AH",
        "colab_type": "code",
        "colab": {}
      },
      "source": [
        "gamma_coeff = generate_gamma()"
      ],
      "execution_count": 0,
      "outputs": []
    },
    {
      "cell_type": "code",
      "metadata": {
        "id": "rPKzf0DHC6AK",
        "colab_type": "code",
        "colab": {
          "base_uri": "https://localhost:8080/",
          "height": 51
        },
        "outputId": "55847e0a-1705-4860-bbda-c274b79c969f"
      },
      "source": [
        "generated_point = generate_new_point(two_points_nd[0], v, gamma_coeff)\n",
        "generated_point"
      ],
      "execution_count": 41,
      "outputs": [
        {
          "output_type": "execute_result",
          "data": {
            "text/plain": [
              "array([8.09469013, 8.31146681, 7.45306768, 2.14741337, 4.96891516,\n",
              "       9.66328068, 2.47314223, 1.8340541 , 6.64216188, 4.19520399])"
            ]
          },
          "metadata": {
            "tags": []
          },
          "execution_count": 41
        }
      ]
    },
    {
      "cell_type": "code",
      "metadata": {
        "id": "QDMg6JFiC6AN",
        "colab_type": "code",
        "colab": {}
      },
      "source": [
        "def test_points_on_line(p1, p2, list_p3, tol=0.0001):\n",
        "    # Consider that point in n-d is (vec)x = (vec)x_0 + (vec)k * (vec) t\n",
        "    # Suppose that (vec)x_0 is p1\n",
        "    if len(list_p3.shape) == 1:\n",
        "        list_p3 = list_p3[np.newaxis, :]\n",
        "    k_vec = p2 - p1\n",
        "    for p3 in list_p3:\n",
        "        vec_t = (p3 - p1) / k_vec \n",
        "        if  not all(abs(temp - vec_t[0]) < tol for temp in vec_t):\n",
        "            return False\n",
        "    return True"
      ],
      "execution_count": 0,
      "outputs": []
    },
    {
      "cell_type": "code",
      "metadata": {
        "id": "SNsVSAMrC6AP",
        "colab_type": "code",
        "colab": {}
      },
      "source": [
        "# Testing\n",
        "assert test_points_on_line(two_points_nd[0], two_points_nd[1], generated_point)"
      ],
      "execution_count": 0,
      "outputs": []
    },
    {
      "cell_type": "markdown",
      "metadata": {
        "id": "m21QYjwyC6AR",
        "colab_type": "text"
      },
      "source": [
        "## 4.\n",
        "- Multiple Random points\n",
        "- n dimentional space"
      ]
    },
    {
      "cell_type": "code",
      "metadata": {
        "id": "0C4GHi0qC6AS",
        "colab_type": "code",
        "colab": {}
      },
      "source": [
        "NUM_RAND_POINTS = 20\n",
        "N_FEATURES = 10"
      ],
      "execution_count": 0,
      "outputs": []
    },
    {
      "cell_type": "code",
      "metadata": {
        "id": "2lRnpsMfC6AX",
        "colab_type": "code",
        "colab": {
          "base_uri": "https://localhost:8080/",
          "height": 119
        },
        "outputId": "3f79bfb3-3215-4dcf-bdd6-db927c7564ac"
      },
      "source": [
        "two_points_nd = generate_random_point_nd(num_points=2, n=N_FEATURES)\n",
        "assert two_points_nd.shape[0] == 2\n",
        "assert two_points_nd.shape[1] == N_FEATURES\n",
        "print(two_points_nd)\n",
        "# get vector for these two points\n",
        "v = get_vector_two_points(two_points_nd)\n",
        "print(v)"
      ],
      "execution_count": 45,
      "outputs": [
        {
          "output_type": "stream",
          "text": [
            "[[1.98904519 4.2267795  2.04465943 4.35101966 9.2437722  6.80715592\n",
            "  8.15663401 4.37303943 3.62433726 8.21018941]\n",
            " [7.01769275 9.75146966 7.08441877 8.90843862 7.88717634 6.19005881\n",
            "  3.56134984 9.13645092 6.06902394 1.96247746]]\n",
            "[ 5.02864755  5.52469016  5.03975935  4.55741896 -1.35659586 -0.61709712\n",
            " -4.59528417  4.7634115   2.44468667 -6.24771196]\n"
          ],
          "name": "stdout"
        }
      ]
    },
    {
      "cell_type": "code",
      "metadata": {
        "id": "n81Z09lSC6AY",
        "colab_type": "code",
        "colab": {}
      },
      "source": [
        "gamma_coeff = generate_gamma()\n",
        "\n",
        "generated_points = generate_new_point(two_points_nd[0], v, gamma_coeff)[np.newaxis, :]\n",
        "\n",
        "for i in range(NUM_RAND_POINTS - 1):\n",
        "    gamma_coeff = generate_gamma()\n",
        "    generated_points = np.concatenate((generate_new_point(two_points_nd[0], v, gamma_coeff)[np.newaxis, :], generated_points),\n",
        "                                      axis=0)\n",
        "    \n",
        "assert generated_points.shape[0] == NUM_RAND_POINTS\n",
        "assert generated_points.shape[1] == N_FEATURES"
      ],
      "execution_count": 0,
      "outputs": []
    },
    {
      "cell_type": "code",
      "metadata": {
        "id": "utp47DF5C6Aa",
        "colab_type": "code",
        "colab": {}
      },
      "source": [
        "assert test_points_on_line(two_points_nd[0], two_points_nd[1], generated_points)"
      ],
      "execution_count": 0,
      "outputs": []
    },
    {
      "cell_type": "code",
      "metadata": {
        "id": "g0U16hbwC6Ac",
        "colab_type": "code",
        "colab": {}
      },
      "source": [
        ""
      ],
      "execution_count": 0,
      "outputs": []
    },
    {
      "cell_type": "code",
      "metadata": {
        "id": "MDcrbXCfC6Ad",
        "colab_type": "code",
        "colab": {}
      },
      "source": [
        ""
      ],
      "execution_count": 0,
      "outputs": []
    }
  ]
}
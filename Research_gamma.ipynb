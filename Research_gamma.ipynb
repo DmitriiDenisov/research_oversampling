{
  "nbformat": 4,
  "nbformat_minor": 0,
  "metadata": {
    "colab": {
      "name": "Research_gamma.ipynb",
      "provenance": [],
      "include_colab_link": true
    },
    "kernelspec": {
      "display_name": ".venv",
      "language": "python",
      "name": ".venv"
    },
    "language_info": {
      "codemirror_mode": {
        "name": "ipython",
        "version": 3
      },
      "file_extension": ".py",
      "mimetype": "text/x-python",
      "name": "python",
      "nbconvert_exporter": "python",
      "pygments_lexer": "ipython3",
      "version": "3.7.4"
    }
  },
  "cells": [
    {
      "cell_type": "markdown",
      "metadata": {
        "id": "view-in-github",
        "colab_type": "text"
      },
      "source": [
        "<a href=\"https://colab.research.google.com/github/DmitriiDenisov/research_oversampling/blob/master/Research_gamma.ipynb\" target=\"_parent\"><img src=\"https://colab.research.google.com/assets/colab-badge.svg\" alt=\"Open In Colab\"/></a>"
      ]
    },
    {
      "cell_type": "markdown",
      "metadata": {
        "colab_type": "text",
        "id": "ceoNp6jIwqF9"
      },
      "source": [
        "### 1.\n",
        "- One random point\n",
        "- 2D plane"
      ]
    },
    {
      "cell_type": "code",
      "metadata": {
        "colab_type": "code",
        "id": "cFtdgA2OwqGB",
        "colab": {}
      },
      "source": [
        "import math\n",
        "import itertools\n",
        "import numpy as np\n",
        "import matplotlib.pyplot as plt\n",
        "from collections import defaultdict"
      ],
      "execution_count": 0,
      "outputs": []
    },
    {
      "cell_type": "code",
      "metadata": {
        "colab_type": "code",
        "id": "xj8E-lLawqGG",
        "colab": {}
      },
      "source": [
        "# Generates random point in rectangle [xy_min; xy_max]\n",
        "def generate_random_point(n=2, xy_min=[0, 0], xy_max=[10, 20]):\n",
        "    data = np.random.uniform(low=xy_min, high=xy_max, size=(n,2))\n",
        "    return data\n",
        "\n",
        "# Returns directional vector\n",
        "def get_vector_two_points(two_points):\n",
        "    return two_points[1] - two_points[0]"
      ],
      "execution_count": 0,
      "outputs": []
    },
    {
      "cell_type": "code",
      "metadata": {
        "colab_type": "code",
        "id": "M3UixHUFwqGJ",
        "outputId": "b1005b41-bab2-4ed6-99fe-8e1709508ec6",
        "colab": {
          "base_uri": "https://localhost:8080/",
          "height": 68
        }
      },
      "source": [
        "# Generate two Random point2:\n",
        "two_points = generate_random_point(n=2, xy_min=[0, 0], xy_max=[10, 20])\n",
        "print(two_points)\n",
        "# get vector for these two points\n",
        "v = get_vector_two_points(two_points)\n",
        "print(v)"
      ],
      "execution_count": 3,
      "outputs": [
        {
          "output_type": "stream",
          "text": [
            "[[ 8.90002973 11.97649685]\n",
            " [ 7.51787964 11.37055498]]\n",
            "[-1.38215009 -0.60594187]\n"
          ],
          "name": "stdout"
        }
      ]
    },
    {
      "cell_type": "code",
      "metadata": {
        "colab_type": "code",
        "id": "q7PLtegIwqGO",
        "outputId": "369750d8-c110-441b-f942-28e61a2bf7d3",
        "colab": {
          "base_uri": "https://localhost:8080/",
          "height": 297
        }
      },
      "source": [
        "# JUST CHECKING how Gamma dist is look like\n",
        "\n",
        "N_points = 100000\n",
        "n_bins = 20\n",
        "\n",
        "shape, scale = 1., 3.  # mean=4, std=2*sqrt(2)\n",
        "s = np.random.gamma(shape, scale, 10000)\n",
        "\n",
        "\n",
        "fig, axs = plt.subplots(1, 2, sharey=True, tight_layout=True)\n",
        "\n",
        "# We can set the number of bins with the `bins` kwarg\n",
        "axs[0].hist(s, bins=n_bins)\n",
        "axs[1].hist(s, bins=2*n_bins)\n",
        "plt.show()"
      ],
      "execution_count": 4,
      "outputs": [
        {
          "output_type": "display_data",
          "data": {
            "image/png": "[encoded data removed]",
            "text/plain": [
              "<Figure size 432x288 with 2 Axes>"
            ]
          },
          "metadata": {
            "tags": []
          }
        }
      ]
    },
    {
      "cell_type": "code",
      "metadata": {
        "colab_type": "code",
        "id": "xbE6rxDwwqGT",
        "colab": {}
      },
      "source": [
        "# Generates normilized Gamma distributed value\n",
        "def generate_gamma():\n",
        "    shape, scale = 1., 3.\n",
        "    s = np.random.gamma(shape, scale, 1)[0]\n",
        "    if (s > 20): # заглушка пока что\n",
        "        s = 20\n",
        "    s = s / 20\n",
        "    return s"
      ],
      "execution_count": 0,
      "outputs": []
    },
    {
      "cell_type": "code",
      "metadata": {
        "colab_type": "code",
        "id": "KKsixbezwqGW",
        "colab": {}
      },
      "source": [
        "gamma_coeff = generate_gamma()"
      ],
      "execution_count": 0,
      "outputs": []
    },
    {
      "cell_type": "code",
      "metadata": {
        "colab_type": "code",
        "id": "lCMR509_wqGY",
        "colab": {}
      },
      "source": [
        "# Generates new point on line between two initial points\n",
        "def generate_point_on_line(start_point, v, gamma_coeff):\n",
        "    return start_point + v * gamma_coeff"
      ],
      "execution_count": 0,
      "outputs": []
    },
    {
      "cell_type": "code",
      "metadata": {
        "colab_type": "code",
        "id": "AGFA0DRwwqGa",
        "colab": {}
      },
      "source": [
        "generated_point = generate_point_on_line(two_points[0], v, gamma_coeff)"
      ],
      "execution_count": 0,
      "outputs": []
    },
    {
      "cell_type": "code",
      "metadata": {
        "colab_type": "code",
        "id": "hV2LVHKPwqGc",
        "outputId": "4c5486eb-99db-4748-b985-e62be901c6d6",
        "colab": {
          "base_uri": "https://localhost:8080/",
          "height": 68
        }
      },
      "source": [
        "# For visualazion:\n",
        "initial_points_and_generated = np.concatenate((two_points, generated_point[np.newaxis, :]), axis=0)\n",
        "initial_points_and_generated"
      ],
      "execution_count": 9,
      "outputs": [
        {
          "output_type": "execute_result",
          "data": {
            "text/plain": [
              "array([[ 8.90002973, 11.97649685],\n",
              "       [ 7.51787964, 11.37055498],\n",
              "       [ 8.42865315, 11.76984288]])"
            ]
          },
          "metadata": {
            "tags": []
          },
          "execution_count": 9
        }
      ]
    },
    {
      "cell_type": "code",
      "metadata": {
        "colab_type": "code",
        "id": "JNkG2gHZwqGf",
        "outputId": "24510eb8-1531-4fb8-c9aa-a2e50bc30781",
        "colab": {
          "base_uri": "https://localhost:8080/",
          "height": 264
        }
      },
      "source": [
        "import matplotlib.pyplot as plt\n",
        "plt.style.use('seaborn-whitegrid')\n",
        "import numpy as np\n",
        "\n",
        "\n",
        "initial_x, initial_y = map(list, zip(*two_points))\n",
        "generated_x, generated_y = map(list, zip(*generated_point[np.newaxis, :]))\n",
        "\n",
        "plt.plot(initial_x, initial_y, 'o', color='blue');\n",
        "plt.plot(generated_x, generated_y, 'o', color='red');"
      ],
      "execution_count": 10,
      "outputs": [
        {
          "output_type": "display_data",
          "data": {
            "image/png": "[encoded data removed]",
            "text/plain": [
              "<Figure size 432x288 with 1 Axes>"
            ]
          },
          "metadata": {
            "tags": []
          }
        }
      ]
    },
    {
      "cell_type": "markdown",
      "metadata": {
        "colab_type": "text",
        "id": "QbIYZaRswqGh"
      },
      "source": [
        "## 2.\n",
        "- Multiple Random points\n",
        "- 2D plane"
      ]
    },
    {
      "cell_type": "code",
      "metadata": {
        "colab_type": "code",
        "id": "Uxoi3AJFwqGi",
        "colab": {}
      },
      "source": [
        "NUM_RAND_POINTS = 20"
      ],
      "execution_count": 0,
      "outputs": []
    },
    {
      "cell_type": "code",
      "metadata": {
        "colab_type": "code",
        "id": "nlF6k1ZFwqGl",
        "outputId": "b0b3c523-9d39-41c1-9449-0df07aa4800c",
        "colab": {
          "base_uri": "https://localhost:8080/",
          "height": 68
        }
      },
      "source": [
        "# Generate two Random point2:\n",
        "two_points = generate_random_point(n=2, xy_min=[0, 0], xy_max=[10, 20])\n",
        "print(two_points)\n",
        "# get vector for these two points\n",
        "v = get_vector_two_points(two_points)\n",
        "print(v)"
      ],
      "execution_count": 12,
      "outputs": [
        {
          "output_type": "stream",
          "text": [
            "[[ 1.33287196  5.15325927]\n",
            " [ 8.46815662 15.4483668 ]]\n",
            "[ 7.13528466 10.29510753]\n"
          ],
          "name": "stdout"
        }
      ]
    },
    {
      "cell_type": "code",
      "metadata": {
        "colab_type": "code",
        "id": "aCb58R_bwqGn",
        "colab": {}
      },
      "source": [
        "gamma_coeff = generate_gamma()\n",
        "\n",
        "generated_points = generate_point_on_line(two_points[0], v, gamma_coeff)[np.newaxis, :]\n",
        "\n",
        "for i in range(NUM_RAND_POINTS - 1):\n",
        "    gamma_coeff = generate_gamma()\n",
        "    generated_points = np.concatenate((generate_point_on_line(two_points[0], v, gamma_coeff)[np.newaxis, :], generated_points),\n",
        "                                      axis=0)"
      ],
      "execution_count": 0,
      "outputs": []
    },
    {
      "cell_type": "code",
      "metadata": {
        "colab_type": "code",
        "id": "GeM-TwMzwqGp",
        "outputId": "87b2992e-20bb-4640-d5bf-738c1d1dfa2a",
        "colab": {
          "base_uri": "https://localhost:8080/",
          "height": 262
        }
      },
      "source": [
        "import matplotlib.pyplot as plt\n",
        "plt.style.use('seaborn-whitegrid')\n",
        "import numpy as np\n",
        "\n",
        "\n",
        "initial_x, initial_y = map(list, zip(*two_points))\n",
        "generated_x, generated_y = map(list, zip(*generated_points))\n",
        "\n",
        "plt.plot(initial_x, initial_y, 'o', color='blue');\n",
        "plt.plot(generated_x, generated_y, 'o', color='red');\n",
        "plt.plot(initial_x, initial_y, '-');"
      ],
      "execution_count": 14,
      "outputs": [
        {
          "output_type": "display_data",
          "data": {
            "image/png": "[encoded data removed]",
            "text/plain": [
              "<Figure size 432x288 with 1 Axes>"
            ]
          },
          "metadata": {
            "tags": []
          }
        }
      ]
    },
    {
      "cell_type": "code",
      "metadata": {
        "colab_type": "code",
        "id": "rEgHAkUMwqGs",
        "outputId": "cf79db24-05f7-4a1e-b325-8bda5e39e9b9",
        "colab": {
          "base_uri": "https://localhost:8080/",
          "height": 357
        }
      },
      "source": [
        "generated_points"
      ],
      "execution_count": 15,
      "outputs": [
        {
          "output_type": "execute_result",
          "data": {
            "text/plain": [
              "array([[2.27124767, 6.50718968],\n",
              "       [2.92215855, 7.44635298],\n",
              "       [3.09076375, 7.6896241 ],\n",
              "       [1.97326918, 6.07725301],\n",
              "       [3.40883144, 8.14854637],\n",
              "       [4.05049959, 9.07437385],\n",
              "       [1.64988329, 5.61065739],\n",
              "       [2.14559401, 6.32589096],\n",
              "       [1.68474487, 5.66095724],\n",
              "       [2.19801929, 6.4015325 ],\n",
              "       [1.71766217, 5.70845178],\n",
              "       [4.51736537, 9.74798866],\n",
              "       [3.45341754, 8.21287719],\n",
              "       [3.13793703, 7.75768782],\n",
              "       [2.31223223, 6.56632404],\n",
              "       [1.66804142, 5.63685674],\n",
              "       [1.93122081, 6.01658374],\n",
              "       [1.3758582 , 5.21528174],\n",
              "       [1.43875497, 5.30603202],\n",
              "       [1.36550081, 5.20033764]])"
            ]
          },
          "metadata": {
            "tags": []
          },
          "execution_count": 15
        }
      ]
    },
    {
      "cell_type": "code",
      "metadata": {
        "colab_type": "code",
        "id": "SpZbCFw2wqGu",
        "outputId": "ac2368c5-db30-4187-8754-dc1b60b3dbe4",
        "colab": {
          "base_uri": "https://localhost:8080/",
          "height": 51
        }
      },
      "source": [
        "two_points"
      ],
      "execution_count": 16,
      "outputs": [
        {
          "output_type": "execute_result",
          "data": {
            "text/plain": [
              "array([[ 1.33287196,  5.15325927],\n",
              "       [ 8.46815662, 15.4483668 ]])"
            ]
          },
          "metadata": {
            "tags": []
          },
          "execution_count": 16
        }
      ]
    },
    {
      "cell_type": "markdown",
      "metadata": {
        "id": "kiHiauI-DGR-",
        "colab_type": "text"
      },
      "source": [
        "## 3.\n",
        "- One Random point\n",
        "- n dimentional space"
      ]
    },
    {
      "cell_type": "code",
      "metadata": {
        "id": "EotpYc2OC6AC",
        "colab_type": "code",
        "colab": {}
      },
      "source": [
        "# Generates n random points in hypercube [xy_min; xy_max]\n",
        "def generate_random_point_nd(num_points=2, n=10, min_=0, max_=10):\n",
        "    xy_min = [min_] * n\n",
        "    xy_max = [max_] * n\n",
        "    data = np.random.uniform(low=xy_min, high=xy_max, size=(num_points, n))\n",
        "    return data"
      ],
      "execution_count": 0,
      "outputs": []
    },
    {
      "cell_type": "code",
      "metadata": {
        "id": "m6AoFrI0C6AE",
        "colab_type": "code",
        "outputId": "d6640668-480c-40bc-a3a6-56adfba1216a",
        "colab": {
          "base_uri": "https://localhost:8080/",
          "height": 119
        }
      },
      "source": [
        "two_points_nd = generate_random_point_nd(num_points=2, n=10)\n",
        "assert two_points_nd.shape[0] == 2\n",
        "assert two_points_nd.shape[1] == 10\n",
        "print(two_points_nd)\n",
        "# get vector for these two points\n",
        "v = get_vector_two_points(two_points_nd)\n",
        "print(v)"
      ],
      "execution_count": 18,
      "outputs": [
        {
          "output_type": "stream",
          "text": [
            "[[1.43287593 1.42287985 2.70128969 2.3885992  7.30266028 2.00548201\n",
            "  5.53421717 9.79696535 2.22718915 1.66839033]\n",
            " [5.16023034 6.97909553 2.32623234 1.01255511 0.12335941 4.06848149\n",
            "  5.44117817 8.12605399 6.00744648 9.97007753]]\n",
            "[ 3.72735441  5.55621568 -0.37505735 -1.37604409 -7.17930087  2.06299948\n",
            " -0.093039   -1.67091136  3.78025733  8.3016872 ]\n"
          ],
          "name": "stdout"
        }
      ]
    },
    {
      "cell_type": "code",
      "metadata": {
        "id": "V1VnnyPkC6AH",
        "colab_type": "code",
        "colab": {}
      },
      "source": [
        "gamma_coeff = generate_gamma()"
      ],
      "execution_count": 0,
      "outputs": []
    },
    {
      "cell_type": "code",
      "metadata": {
        "id": "rPKzf0DHC6AK",
        "colab_type": "code",
        "outputId": "b8271677-6d95-49f5-a758-093327b05b9c",
        "colab": {
          "base_uri": "https://localhost:8080/",
          "height": 51
        }
      },
      "source": [
        "generated_point = generate_point_on_line(two_points_nd[0], v, gamma_coeff)\n",
        "generated_point"
      ],
      "execution_count": 20,
      "outputs": [
        {
          "output_type": "execute_result",
          "data": {
            "text/plain": [
              "array([1.45472367, 1.45544738, 2.69909131, 2.38053357, 7.26057909,\n",
              "       2.0175742 , 5.53367182, 9.78717137, 2.24934698, 1.71705033])"
            ]
          },
          "metadata": {
            "tags": []
          },
          "execution_count": 20
        }
      ]
    },
    {
      "cell_type": "code",
      "metadata": {
        "id": "QDMg6JFiC6AN",
        "colab_type": "code",
        "colab": {}
      },
      "source": [
        "def test_points_on_line(p1, p2, list_p3, tol=10):\n",
        "    # Calculate two vectors and check if they are collinear\n",
        "    if len(list_p3.shape) == 1:\n",
        "        list_p3 = list_p3[np.newaxis, :]\n",
        "    vec_1 = p2 - p1\n",
        "    for p3 in list_p3:\n",
        "        vec_2 = (p3 - p1) / vec_1\n",
        "        # take unique values\n",
        "        unique_arr = np.unique(vec_2[~np.isnan(vec_2)].round(decimals=tol))\n",
        "        if len(unique_arr) > 1:\n",
        "          return False\n",
        "        # Check that if nan then there were two zeros\n",
        "        idx = np.where(~np.isfinite(vec_2))[0]\n",
        "        if idx.size:\n",
        "          if not (all((p3 - p1)[idx] == vec_1[idx]) and all(vec_1[idx] == 0)):\n",
        "            return False\n",
        "        return True\n",
        "    return True"
      ],
      "execution_count": 0,
      "outputs": []
    },
    {
      "cell_type": "code",
      "metadata": {
        "id": "SNsVSAMrC6AP",
        "colab_type": "code",
        "colab": {}
      },
      "source": [
        "# Testing\n",
        "assert test_points_on_line(two_points_nd[0], two_points_nd[1], generated_point)"
      ],
      "execution_count": 0,
      "outputs": []
    },
    {
      "cell_type": "markdown",
      "metadata": {
        "id": "m21QYjwyC6AR",
        "colab_type": "text"
      },
      "source": [
        "## 4.\n",
        "- Multiple Random points\n",
        "- n dimentional space"
      ]
    },
    {
      "cell_type": "code",
      "metadata": {
        "id": "0C4GHi0qC6AS",
        "colab_type": "code",
        "colab": {}
      },
      "source": [
        "NUM_RAND_POINTS = 20\n",
        "N_FEATURES = 10"
      ],
      "execution_count": 0,
      "outputs": []
    },
    {
      "cell_type": "code",
      "metadata": {
        "id": "2lRnpsMfC6AX",
        "colab_type": "code",
        "outputId": "ec68088e-e5ab-4468-904d-1fb3a35309ed",
        "colab": {
          "base_uri": "https://localhost:8080/",
          "height": 119
        }
      },
      "source": [
        "two_points_nd = generate_random_point_nd(num_points=2, n=N_FEATURES)\n",
        "assert two_points_nd.shape[0] == 2\n",
        "assert two_points_nd.shape[1] == N_FEATURES\n",
        "print(two_points_nd)\n",
        "# get vector for these two points\n",
        "v = get_vector_two_points(two_points_nd)\n",
        "print(v)"
      ],
      "execution_count": 24,
      "outputs": [
        {
          "output_type": "stream",
          "text": [
            "[[4.25826561 7.72238658 5.44896457 0.04144692 5.2080384  5.75125568\n",
            "  4.01652807 2.59312298 2.88724486 7.6530562 ]\n",
            " [8.57863332 2.19164086 1.84770264 5.87376988 5.481186   0.53064601\n",
            "  9.83290663 9.12561525 1.49606362 1.86893705]]\n",
            "[ 4.32036771 -5.53074572 -3.60126193  5.83232296  0.2731476  -5.22060966\n",
            "  5.81637856  6.53249227 -1.39118123 -5.78411914]\n"
          ],
          "name": "stdout"
        }
      ]
    },
    {
      "cell_type": "code",
      "metadata": {
        "id": "n81Z09lSC6AY",
        "colab_type": "code",
        "colab": {}
      },
      "source": [
        "gamma_coeff = generate_gamma()\n",
        "\n",
        "generated_points = generate_point_on_line(two_points_nd[0], v, gamma_coeff)[np.newaxis, :]\n",
        "\n",
        "for i in range(NUM_RAND_POINTS - 1):\n",
        "    gamma_coeff = generate_gamma()\n",
        "    generated_points = np.concatenate((generate_point_on_line(two_points_nd[0], v, gamma_coeff)[np.newaxis, :], generated_points),\n",
        "                                      axis=0)\n",
        "    \n",
        "assert generated_points.shape[0] == NUM_RAND_POINTS\n",
        "assert generated_points.shape[1] == N_FEATURES"
      ],
      "execution_count": 0,
      "outputs": []
    },
    {
      "cell_type": "code",
      "metadata": {
        "id": "utp47DF5C6Aa",
        "colab_type": "code",
        "colab": {}
      },
      "source": [
        "assert test_points_on_line(two_points_nd[0], two_points_nd[1], generated_points)"
      ],
      "execution_count": 0,
      "outputs": []
    },
    {
      "cell_type": "markdown",
      "metadata": {
        "id": "tPIGqFa0Vau1",
        "colab_type": "text"
      },
      "source": [
        "## 5.\n",
        "- Generalization of the approach for n minority points for n dimentional space"
      ]
    },
    {
      "cell_type": "code",
      "metadata": {
        "id": "MDcrbXCfC6Ad",
        "colab_type": "code",
        "colab": {}
      },
      "source": [
        "NUM_RAND_POINTS = 20\n",
        "NUM_MINORITY_POINTS = 5\n",
        "N_FEATURES = 10\n",
        "NUM_TO_ADD = 15"
      ],
      "execution_count": 0,
      "outputs": []
    },
    {
      "cell_type": "code",
      "metadata": {
        "id": "EExNjG9DVkwG",
        "colab_type": "code",
        "colab": {}
      },
      "source": [
        "minority_points_nd = generate_random_point_nd(num_points=NUM_MINORITY_POINTS, n=N_FEATURES)\n",
        "assert minority_points_nd.shape[0] == NUM_MINORITY_POINTS\n",
        "assert minority_points_nd.shape[1] == N_FEATURES\n",
        "# print(two_points_nd)\n",
        "# get vector for these two points\n",
        "# v = get_vector_two_points(N_points_nd)\n",
        "# print(v)"
      ],
      "execution_count": 0,
      "outputs": []
    },
    {
      "cell_type": "code",
      "metadata": {
        "id": "dfysGk0TNnzp",
        "colab_type": "code",
        "colab": {}
      },
      "source": [
        "def generate_points_for_n_minority(minority_points, num_to_add):\n",
        "  n_features = minority_points.shape[1]\n",
        "  dict_ans = defaultdict(lambda: np.array([]).reshape(0, n_features))\n",
        "  # Choose random pairs with repetition:\n",
        "  all_comb = np.array(list(itertools.combinations(range(len(minority_points)), r=2)))\n",
        "  rand_idx = np.random.choice(range(len(all_comb)), num_to_add, replace=True)\n",
        "  assert rand_idx.shape == (num_to_add, )\n",
        "  # print(rand_idx)\n",
        "  # print(all_comb)\n",
        "  all_comb = all_comb[rand_idx]\n",
        "  # assert random_choice_minority.shape[0] == num_to_add and random_choice_minority.shape[1] == 2\n",
        "  for i, (idx1, idx2) in enumerate(all_comb):\n",
        "    v = get_vector_two_points([minority_points[idx1], minority_points[idx2]])\n",
        "    gamma_coeff = generate_gamma()\n",
        "    generated_point = generate_point_on_line(minority_points[idx1], v, gamma_coeff)\n",
        "    minority_points = np.concatenate((minority_points, generated_point[np.newaxis, :]), axis=0)\n",
        "    dict_ans[tuple(all_comb[i])] = np.vstack([dict_ans[tuple(all_comb[i])], generated_point])\n",
        "    \n",
        "  return minority_points, dict_ans # return concatenated initial+generated points and dict for testing\n"
      ],
      "execution_count": 0,
      "outputs": []
    },
    {
      "cell_type": "code",
      "metadata": {
        "id": "WYvEtCeSWeSQ",
        "colab_type": "code",
        "colab": {}
      },
      "source": [
        "minority_points, dict_ans = generate_points_for_n_minority(minority_points_nd, num_to_add=NUM_TO_ADD)"
      ],
      "execution_count": 0,
      "outputs": []
    },
    {
      "cell_type": "code",
      "metadata": {
        "id": "NVQY5-ApMX82",
        "colab_type": "code",
        "outputId": "40974c0b-2847-4bcd-a836-1d114fbad97b",
        "colab": {
          "base_uri": "https://localhost:8080/",
          "height": 187
        }
      },
      "source": [
        "minority_points_nd"
      ],
      "execution_count": 31,
      "outputs": [
        {
          "output_type": "execute_result",
          "data": {
            "text/plain": [
              "array([[8.21272553, 8.7954291 , 4.01445098, 4.30023468, 9.2450305 ,\n",
              "        3.63574891, 3.24097874, 4.76955787, 3.61936473, 4.74818475],\n",
              "       [3.78427579, 7.41175345, 8.31213665, 9.106186  , 9.52470116,\n",
              "        9.95292382, 8.72459883, 4.5638328 , 3.58858012, 8.75697123],\n",
              "       [9.23698142, 4.21517012, 3.03407723, 7.05936613, 0.22114541,\n",
              "        4.87796755, 9.9105929 , 2.62745136, 7.45150344, 6.16882592],\n",
              "       [1.90684175, 3.09003266, 9.43535455, 3.72477063, 3.00993102,\n",
              "        7.22444113, 9.16597785, 4.19686572, 3.92134011, 5.60356613],\n",
              "       [3.3303605 , 9.49305905, 5.37289249, 7.37275909, 3.92453142,\n",
              "        8.98120986, 4.66472651, 2.78915299, 0.06703109, 8.27524451]])"
            ]
          },
          "metadata": {
            "tags": []
          },
          "execution_count": 31
        }
      ]
    },
    {
      "cell_type": "code",
      "metadata": {
        "id": "S8RcLIBLMZid",
        "colab_type": "code",
        "outputId": "eb9729aa-63cf-4008-c900-58c974d62342",
        "colab": {
          "base_uri": "https://localhost:8080/",
          "height": 697
        }
      },
      "source": [
        "minority_points"
      ],
      "execution_count": 32,
      "outputs": [
        {
          "output_type": "execute_result",
          "data": {
            "text/plain": [
              "array([[8.21272553, 8.7954291 , 4.01445098, 4.30023468, 9.2450305 ,\n",
              "        3.63574891, 3.24097874, 4.76955787, 3.61936473, 4.74818475],\n",
              "       [3.78427579, 7.41175345, 8.31213665, 9.106186  , 9.52470116,\n",
              "        9.95292382, 8.72459883, 4.5638328 , 3.58858012, 8.75697123],\n",
              "       [9.23698142, 4.21517012, 3.03407723, 7.05936613, 0.22114541,\n",
              "        4.87796755, 9.9105929 , 2.62745136, 7.45150344, 6.16882592],\n",
              "       [1.90684175, 3.09003266, 9.43535455, 3.72477063, 3.00993102,\n",
              "        7.22444113, 9.16597785, 4.19686572, 3.92134011, 5.60356613],\n",
              "       [3.3303605 , 9.49305905, 5.37289249, 7.37275909, 3.92453142,\n",
              "        8.98120986, 4.66472651, 2.78915299, 0.06703109, 8.27524451],\n",
              "       [1.94945026, 3.28168691, 9.31375766, 3.83396157, 3.03730668,\n",
              "        7.27702442, 9.03124719, 4.15473031, 3.80597362, 5.68353433],\n",
              "       [3.62909364, 7.05453508, 8.40497792, 8.66137698, 8.98621299,\n",
              "        9.72739696, 8.76108168, 4.53350059, 3.6160849 , 8.49632176],\n",
              "       [8.94420576, 4.47678119, 3.15000615, 7.07490019, 0.40471251,\n",
              "        5.08135448, 9.6505691 , 2.63546649, 7.08547457, 6.27323555],\n",
              "       [4.19754886, 7.16947706, 7.91210042, 8.95105283, 8.81956332,\n",
              "        9.56828124, 8.81448804, 4.41707001, 3.88135994, 8.56080976],\n",
              "       [3.70903944, 7.23856468, 8.35714852, 8.890531  , 9.26362806,\n",
              "        9.84358252, 8.74228667, 4.54912695, 3.60191516, 8.63060157],\n",
              "       [3.77540168, 7.45244327, 8.25467401, 9.07229726, 9.41521705,\n",
              "        9.93392667, 8.64522775, 4.52913756, 3.51973334, 8.7475534 ],\n",
              "       [8.03750758, 8.74068199, 4.18449507, 4.49038902, 9.25609607,\n",
              "        3.88569698, 3.45794602, 4.76141806, 3.61814669, 4.90679813],\n",
              "       [9.05128356, 4.18666648, 3.19624378, 6.97488926, 0.29179502,\n",
              "        4.93741187, 9.89172922, 2.66721007, 7.36207216, 6.15450593],\n",
              "       [3.48966703, 6.73358484, 8.48839309, 8.2617291 , 8.50239713,\n",
              "        9.52476767, 8.79386045, 4.50624797, 3.64079714, 8.26213585],\n",
              "       [8.88732156, 4.52761033, 3.1725303 , 7.07791835, 0.44037827,\n",
              "        5.12087109, 9.60004836, 2.63702377, 7.0143578 , 6.29352158],\n",
              "       [2.01540705, 3.57836238, 9.12552904, 4.00298613, 3.07968343,\n",
              "        7.35842189, 8.82268787, 4.08950587, 3.62738949, 5.8073229 ],\n",
              "       [8.17715223, 8.80051209, 4.0243487 , 4.32262134, 9.20626491,\n",
              "        3.67469637, 3.25135228, 4.75512848, 3.59348214, 4.77388319],\n",
              "       [8.30941036, 8.36307469, 3.92190842, 4.56068341, 8.39321916,\n",
              "        3.75300838, 3.87055823, 4.56735332, 3.98110019, 4.88228644],\n",
              "       [8.21306081, 8.79392981, 4.01413007, 4.30113785, 9.24207664,\n",
              "        3.63615554, 3.24316195, 4.76885667, 3.62061913, 4.74864978],\n",
              "       [2.3034236 , 4.87386872, 8.3035825 , 4.74107339, 3.26473196,\n",
              "        7.71386397, 7.91196233, 3.8046873 , 2.84755797, 6.34787608]])"
            ]
          },
          "metadata": {
            "tags": []
          },
          "execution_count": 32
        }
      ]
    },
    {
      "cell_type": "code",
      "metadata": {
        "id": "Y3orJL1Obqpq",
        "colab_type": "code",
        "colab": {}
      },
      "source": [
        "# testing:\n",
        "n_points = 0\n",
        "for key, points in dict_ans.items():\n",
        "  for point in points:\n",
        "    n_points+=1\n",
        "    assert test_points_on_line(minority_points_nd[key[1]], minority_points_nd[key[0]], point)\n",
        "assert n_points == NUM_TO_ADD"
      ],
      "execution_count": 0,
      "outputs": []
    },
    {
      "cell_type": "markdown",
      "metadata": {
        "id": "F2prKsNU3E6O",
        "colab_type": "text"
      },
      "source": [
        "## 6.\n",
        "- Gamma distribution with negative values"
      ]
    },
    {
      "cell_type": "code",
      "metadata": {
        "id": "zSDn1PXx3PFV",
        "colab_type": "code",
        "colab": {}
      },
      "source": [
        "NUM_POINTS = 50"
      ],
      "execution_count": 0,
      "outputs": []
    },
    {
      "cell_type": "code",
      "metadata": {
        "id": "UZcmopzC3Q15",
        "colab_type": "code",
        "outputId": "e4f89c90-8015-43ba-b2ea-c7db5ec4d673",
        "colab": {
          "base_uri": "https://localhost:8080/",
          "height": 68
        }
      },
      "source": [
        "# Generate two Random point2:\n",
        "two_points = generate_random_point(n=2, xy_min=[0, 0], xy_max=[10, 20])\n",
        "print(two_points)\n",
        "# get vector for these two points\n",
        "v = get_vector_two_points(two_points)\n",
        "print(v)"
      ],
      "execution_count": 35,
      "outputs": [
        {
          "output_type": "stream",
          "text": [
            "[[ 3.8192731  13.15627656]\n",
            " [ 1.48776769 17.98575905]]\n",
            "[-2.33150542  4.82948249]\n"
          ],
          "name": "stdout"
        }
      ]
    },
    {
      "cell_type": "code",
      "metadata": {
        "id": "3BLx8Eag3W5s",
        "colab_type": "code",
        "colab": {}
      },
      "source": [
        "def max_pdf_gamma(k, theta):\n",
        "  return (k-1) * theta\n",
        "\n",
        "def generate_gamma_negative():\n",
        "    k, theta = 3, 2.1\n",
        "    s = np.random.gamma(k, theta, 1)[0]\n",
        "    s = s - max_pdf_gamma(k, theta) # shift by X axis\n",
        "    if (s > 20): # заглушка пока что\n",
        "        s = 20\n",
        "    s = s / 20\n",
        "    return s"
      ],
      "execution_count": 0,
      "outputs": []
    },
    {
      "cell_type": "code",
      "metadata": {
        "id": "zB7BPYZQ1_J4",
        "colab_type": "code",
        "colab": {}
      },
      "source": [
        "gamma_coeff = generate_gamma_negative()\n",
        "\n",
        "generated_points = generate_point_on_line(two_points[0], v, gamma_coeff)[np.newaxis, :]\n",
        "\n",
        "for i in range(NUM_POINTS - 1):\n",
        "    gamma_coeff = generate_gamma_negative()\n",
        "    generated_points = np.concatenate((generate_point_on_line(two_points[0], v, gamma_coeff)[np.newaxis, :], generated_points),\n",
        "                                      axis=0)"
      ],
      "execution_count": 0,
      "outputs": []
    },
    {
      "cell_type": "code",
      "metadata": {
        "id": "VdwdBtmV2AQA",
        "colab_type": "code",
        "outputId": "76686ef2-91d5-4b58-b477-f7ea6151963d",
        "colab": {
          "base_uri": "https://localhost:8080/",
          "height": 262
        }
      },
      "source": [
        "import matplotlib.pyplot as plt\n",
        "plt.style.use('seaborn-whitegrid')\n",
        "import numpy as np\n",
        "\n",
        "\n",
        "initial_x, initial_y = map(list, zip(*two_points))\n",
        "generated_x, generated_y = map(list, zip(*generated_points))\n",
        "\n",
        "plt.plot(initial_x, initial_y, 'o', color='blue');\n",
        "plt.plot(generated_x, generated_y, '.', color='red');\n",
        "plt.plot(initial_x, initial_y, '-');"
      ],
      "execution_count": 38,
      "outputs": [
        {
          "output_type": "display_data",
          "data": {
            "image/png": "[encoded data removed]",
            "text/plain": [
              "<Figure size 432x288 with 1 Axes>"
            ]
          },
          "metadata": {
            "tags": []
          }
        }
      ]
    },
    {
      "cell_type": "markdown",
      "metadata": {
        "id": "ga7oRg5jPawx",
        "colab_type": "text"
      },
      "source": [
        "## 7. Apply to real datasets"
      ]
    },
    {
      "cell_type": "code",
      "metadata": {
        "id": "bxJ_c1cvDDA6",
        "colab_type": "code",
        "outputId": "edf34c18-c543-46f0-eb96-29b1f0208ca1",
        "colab": {
          "base_uri": "https://localhost:8080/",
          "height": 102
        }
      },
      "source": [
        "!pip install imbalanced-learn==0.5"
      ],
      "execution_count": 39,
      "outputs": [
        {
          "output_type": "stream",
          "text": [
            "Requirement already satisfied: imbalanced-learn==0.5 in /usr/local/lib/python3.6/dist-packages (0.5.0)\n",
            "Requirement already satisfied: scikit-learn>=0.21 in /usr/local/lib/python3.6/dist-packages (from imbalanced-learn==0.5) (0.21.3)\n",
            "Requirement already satisfied: joblib>=0.11 in /usr/local/lib/python3.6/dist-packages (from imbalanced-learn==0.5) (0.14.1)\n",
            "Requirement already satisfied: numpy>=1.11 in /usr/local/lib/python3.6/dist-packages (from imbalanced-learn==0.5) (1.17.4)\n",
            "Requirement already satisfied: scipy>=0.17 in /usr/local/lib/python3.6/dist-packages (from imbalanced-learn==0.5) (1.3.3)\n"
          ],
          "name": "stdout"
        }
      ]
    },
    {
      "cell_type": "code",
      "metadata": {
        "id": "cwhOJ9K4Pwce",
        "colab_type": "code",
        "outputId": "b81cb338-a318-42ae-9c0a-7325881a8af5",
        "colab": {
          "base_uri": "https://localhost:8080/",
          "height": 97
        }
      },
      "source": [
        "import imblearn\n",
        "imblearn.__version__"
      ],
      "execution_count": 40,
      "outputs": [
        {
          "output_type": "stream",
          "text": [
            "Using TensorFlow backend.\n"
          ],
          "name": "stderr"
        },
        {
          "output_type": "display_data",
          "data": {
            "text/html": [
              "<p style=\"color: red;\">\n",
              "The default version of TensorFlow in Colab will soon switch to TensorFlow 2.x.<br>\n",
              "We recommend you <a href=\"https://www.tensorflow.org/guide/migrate\" target=\"_blank\">upgrade</a> now \n",
              "or ensure your notebook will continue to use TensorFlow 1.x via the <code>%tensorflow_version 1.x</code> magic:\n",
              "<a href=\"https://colab.research.google.com/notebooks/tensorflow_version.ipynb\" target=\"_blank\">more info</a>.</p>\n"
            ],
            "text/plain": [
              "<IPython.core.display.HTML object>"
            ]
          },
          "metadata": {
            "tags": []
          }
        },
        {
          "output_type": "execute_result",
          "data": {
            "text/plain": [
              "'0.5.0'"
            ]
          },
          "metadata": {
            "tags": []
          },
          "execution_count": 40
        }
      ]
    },
    {
      "cell_type": "code",
      "metadata": {
        "id": "61_OJBkAQQ1-",
        "colab_type": "code",
        "colab": {}
      },
      "source": [
        "from imblearn.datasets import make_imbalance\n",
        "from sklearn.preprocessing import StandardScaler\n",
        "from imblearn.datasets import fetch_datasets\n",
        "from sklearn.model_selection import train_test_split\n",
        "from sklearn.metrics import accuracy_score, confusion_matrix, recall_score, f1_score\n",
        "import pandas as pd"
      ],
      "execution_count": 0,
      "outputs": []
    },
    {
      "cell_type": "code",
      "metadata": {
        "id": "4FgLOe_xPjKR",
        "colab_type": "code",
        "colab": {}
      },
      "source": [
        "def get_dataset_pd(name):\n",
        "  X = pd.DataFrame(fetch_datasets()[name]['data'])\n",
        "  target = pd.DataFrame(fetch_datasets()[name]['target']).replace(-1, 0)\n",
        "  assert target.shape[0] == X.shape[0]\n",
        "  return X, target"
      ],
      "execution_count": 0,
      "outputs": []
    },
    {
      "cell_type": "code",
      "metadata": {
        "id": "5-goWD6JedC5",
        "colab_type": "code",
        "colab": {}
      },
      "source": [
        "def aug_train(X_temp):\n",
        "  # Подавать внутрь датафрейм X_temp с колонкой y\n",
        "  num_zeros = X_temp[X_temp['y'] == 0].to_numpy().shape[0]\n",
        "  num_ones = X_temp[X_temp['y'] == 1].to_numpy().shape[0]\n",
        "\n",
        "  num_add = num_zeros - num_ones\n",
        "  minority_points = X_temp[X_temp['y'] == 1].drop('y', 1).to_numpy()\n",
        "\n",
        "  minority_points, dict_ans = generate_points_for_n_minority(minority_points, num_add)\n",
        "  assert minority_points.shape[0] == X_temp[X_temp['y'] == 1].to_numpy().shape[0] + num_add \n",
        "  assert num_zeros == minority_points.shape[0]\n",
        "\n",
        "  # testing:\n",
        "  initial_rows = X_temp[X_temp['y'] == 1].to_numpy().shape[0]\n",
        "  n_points = 0\n",
        "  for key, points in dict_ans.items():\n",
        "    for point in points:\n",
        "      n_points+=1\n",
        "      assert key[1] <= initial_rows and key[0] <= initial_rows\n",
        "      assert test_points_on_line(minority_points[key[1]], minority_points[key[0]], point)\n",
        "  assert n_points == num_add\n",
        "  assert np.all(np.equal(minority_points[:initial_rows], X_temp[X_temp['y'] == 1].drop('y', 1).to_numpy()))\n",
        "\n",
        "  X_aug = np.concatenate((X_temp[X_temp['y'] == 0].drop('y', 1).to_numpy(), minority_points), axis=0)\n",
        "  y_aug = np.array([0] * num_zeros + [1] * num_zeros)\n",
        "  assert X_aug.shape[0] == 2 * num_zeros\n",
        "  assert y_aug.shape[0] == X_aug.shape[0]\n",
        "\n",
        "  df_new = pd.DataFrame(X_aug)\n",
        "  df_new['y'] = y_aug\n",
        "\n",
        "  return df_new"
      ],
      "execution_count": 0,
      "outputs": []
    },
    {
      "cell_type": "code",
      "metadata": {
        "id": "_NMe0CqLhNi_",
        "colab_type": "code",
        "colab": {}
      },
      "source": [
        "from sklearn.svm import SVC\n",
        "from sklearn.ensemble import RandomForestClassifier\n",
        "from sklearn.metrics import accuracy_score, f1_score, precision_score, recall_score, classification_report, confusion_matrix"
      ],
      "execution_count": 0,
      "outputs": []
    },
    {
      "cell_type": "code",
      "metadata": {
        "id": "2FbEogSSkjjl",
        "colab_type": "code",
        "colab": {
          "base_uri": "https://localhost:8080/",
          "height": 156
        },
        "outputId": "07551a14-bb66-42b3-8934-8165844434ae"
      },
      "source": [
        "# 1. Get dataset:\n",
        "X, y = get_dataset_pd('abalone')\n",
        "\n",
        "# 2. Split on test and train\n",
        "X_train, X_test, y_train, y_test = train_test_split(X, y, test_size=0.2) # random_state=42\n",
        "\n",
        "# 3. Fit:\n",
        "clf = RandomForestClassifier()\n",
        "clf.fit(X_train, y_train)\n",
        "\n",
        "# 4. Predict and metrics:\n",
        "y_pred = clf.predict(X_test)\n",
        "print(f1_score(y_test.to_numpy().flatten(), y_pred))\n",
        "print(precision_score(y_test.to_numpy().flatten(), y_pred))\n",
        "print(recall_score(y_test.to_numpy().flatten(), y_pred)) "
      ],
      "execution_count": 81,
      "outputs": [
        {
          "output_type": "stream",
          "text": [
            "0.13043478260869565\n",
            "0.2857142857142857\n",
            "0.08450704225352113\n"
          ],
          "name": "stdout"
        },
        {
          "output_type": "stream",
          "text": [
            "/usr/local/lib/python3.6/dist-packages/sklearn/ensemble/forest.py:245: FutureWarning: The default value of n_estimators will change from 10 in version 0.20 to 100 in 0.22.\n",
            "  \"10 in version 0.20 to 100 in 0.22.\", FutureWarning)\n",
            "/usr/local/lib/python3.6/dist-packages/ipykernel_launcher.py:8: DataConversionWarning: A column-vector y was passed when a 1d array was expected. Please change the shape of y to (n_samples,), for example using ravel().\n",
            "  \n"
          ],
          "name": "stderr"
        }
      ]
    },
    {
      "cell_type": "code",
      "metadata": {
        "id": "S-VzjvD3nj_u",
        "colab_type": "code",
        "colab": {}
      },
      "source": [
        ""
      ],
      "execution_count": 0,
      "outputs": []
    },
    {
      "cell_type": "code",
      "metadata": {
        "id": "L7kthKzkl-6e",
        "colab_type": "code",
        "colab": {
          "base_uri": "https://localhost:8080/",
          "height": 34
        },
        "outputId": "022b3b40-a2e3-4964-c090-57d4a523abca"
      },
      "source": [
        "y_pred.sum()"
      ],
      "execution_count": 82,
      "outputs": [
        {
          "output_type": "execute_result",
          "data": {
            "text/plain": [
              "21"
            ]
          },
          "metadata": {
            "tags": []
          },
          "execution_count": 82
        }
      ]
    },
    {
      "cell_type": "code",
      "metadata": {
        "id": "2npXqjjxlHNi",
        "colab_type": "code",
        "colab": {}
      },
      "source": [
        ""
      ],
      "execution_count": 0,
      "outputs": []
    },
    {
      "cell_type": "code",
      "metadata": {
        "id": "-q1Z1nlPTWA_",
        "colab_type": "code",
        "colab": {
          "base_uri": "https://localhost:8080/",
          "height": 258
        },
        "outputId": "7d14c610-9a84-443a-c3c1-91e7895691c2"
      },
      "source": [
        "# 1. Get dataset:\n",
        "X, y = get_dataset_pd('abalone')\n",
        "\n",
        "# 2. Split on test and train\n",
        "X_train, X_test, y_train, y_test = train_test_split(X, y, test_size=0.2) # random_state=42\n",
        "\n",
        "# 3. Augment train part by generating new minority points\n",
        "X_train['y'] = y_train\n",
        "X_train_aug = aug_train(X_train)\n",
        "\n",
        "# 4. Shuffle\n",
        "X_train_aug = X_train_aug.sample(frac=1) # shuffle\n",
        "\n",
        "# 5. Drop target from train\n",
        "y_train_aug = X_train_aug['y']\n",
        "X_train_aug = X_train_aug.drop('y', 1)\n",
        "\n",
        "# 6. Fit:\n",
        "clf = RandomForestClassifier()\n",
        "clf.fit(X_train_aug, y_train_aug)\n",
        "\n",
        "# 7. Predict and metrics:\n",
        "y_pred = clf.predict(X_test)\n",
        "print(f1_score(y_test, y_pred))\n",
        "print(precision_score(y_test, y_pred))\n",
        "print(recall_score(y_test, y_pred)) \n"
      ],
      "execution_count": 83,
      "outputs": [
        {
          "output_type": "stream",
          "text": [
            "/usr/local/lib/python3.6/dist-packages/ipykernel_launcher.py:7: SettingWithCopyWarning: \n",
            "A value is trying to be set on a copy of a slice from a DataFrame.\n",
            "Try using .loc[row_indexer,col_indexer] = value instead\n",
            "\n",
            "See the caveats in the documentation: http://pandas.pydata.org/pandas-docs/stable/user_guide/indexing.html#returning-a-view-versus-a-copy\n",
            "  import sys\n",
            "/usr/local/lib/python3.6/dist-packages/ipykernel_launcher.py:7: RuntimeWarning: invalid value encountered in true_divide\n",
            "  import sys\n"
          ],
          "name": "stderr"
        },
        {
          "output_type": "stream",
          "text": [
            "0.34682080924855485\n",
            "0.32967032967032966\n",
            "0.36585365853658536\n"
          ],
          "name": "stdout"
        },
        {
          "output_type": "stream",
          "text": [
            "/usr/local/lib/python3.6/dist-packages/sklearn/ensemble/forest.py:245: FutureWarning: The default value of n_estimators will change from 10 in version 0.20 to 100 in 0.22.\n",
            "  \"10 in version 0.20 to 100 in 0.22.\", FutureWarning)\n"
          ],
          "name": "stderr"
        }
      ]
    },
    {
      "cell_type": "code",
      "metadata": {
        "id": "9FxrB1z2n1aV",
        "colab_type": "code",
        "colab": {
          "base_uri": "https://localhost:8080/",
          "height": 419
        },
        "outputId": "b25512e7-7b70-4ab7-e333-d35804be4e32"
      },
      "source": [
        "X_train"
      ],
      "execution_count": 69,
      "outputs": [
        {
          "output_type": "execute_result",
          "data": {
            "text/html": [
              "<div>\n",
              "<style scoped>\n",
              "    .dataframe tbody tr th:only-of-type {\n",
              "        vertical-align: middle;\n",
              "    }\n",
              "\n",
              "    .dataframe tbody tr th {\n",
              "        vertical-align: top;\n",
              "    }\n",
              "\n",
              "    .dataframe thead th {\n",
              "        text-align: right;\n",
              "    }\n",
              "</style>\n",
              "<table border=\"1\" class=\"dataframe\">\n",
              "  <thead>\n",
              "    <tr style=\"text-align: right;\">\n",
              "      <th></th>\n",
              "      <th>0</th>\n",
              "      <th>1</th>\n",
              "      <th>2</th>\n",
              "      <th>3</th>\n",
              "      <th>4</th>\n",
              "      <th>5</th>\n",
              "      <th>6</th>\n",
              "      <th>7</th>\n",
              "      <th>8</th>\n",
              "      <th>9</th>\n",
              "      <th>y</th>\n",
              "    </tr>\n",
              "  </thead>\n",
              "  <tbody>\n",
              "    <tr>\n",
              "      <th>1265</th>\n",
              "      <td>0.0</td>\n",
              "      <td>1.0</td>\n",
              "      <td>0.0</td>\n",
              "      <td>0.460</td>\n",
              "      <td>0.360</td>\n",
              "      <td>0.105</td>\n",
              "      <td>0.4660</td>\n",
              "      <td>0.2225</td>\n",
              "      <td>0.0990</td>\n",
              "      <td>0.1100</td>\n",
              "      <td>1</td>\n",
              "    </tr>\n",
              "    <tr>\n",
              "      <th>2001</th>\n",
              "      <td>0.0</td>\n",
              "      <td>1.0</td>\n",
              "      <td>0.0</td>\n",
              "      <td>0.360</td>\n",
              "      <td>0.270</td>\n",
              "      <td>0.085</td>\n",
              "      <td>0.2185</td>\n",
              "      <td>0.1065</td>\n",
              "      <td>0.0380</td>\n",
              "      <td>0.0620</td>\n",
              "      <td>0</td>\n",
              "    </tr>\n",
              "    <tr>\n",
              "      <th>600</th>\n",
              "      <td>0.0</td>\n",
              "      <td>1.0</td>\n",
              "      <td>0.0</td>\n",
              "      <td>0.535</td>\n",
              "      <td>0.420</td>\n",
              "      <td>0.145</td>\n",
              "      <td>0.9260</td>\n",
              "      <td>0.3980</td>\n",
              "      <td>0.1965</td>\n",
              "      <td>0.2500</td>\n",
              "      <td>0</td>\n",
              "    </tr>\n",
              "    <tr>\n",
              "      <th>1674</th>\n",
              "      <td>0.0</td>\n",
              "      <td>0.0</td>\n",
              "      <td>1.0</td>\n",
              "      <td>0.610</td>\n",
              "      <td>0.470</td>\n",
              "      <td>0.170</td>\n",
              "      <td>1.1185</td>\n",
              "      <td>0.5225</td>\n",
              "      <td>0.2405</td>\n",
              "      <td>0.3100</td>\n",
              "      <td>0</td>\n",
              "    </tr>\n",
              "    <tr>\n",
              "      <th>3966</th>\n",
              "      <td>0.0</td>\n",
              "      <td>1.0</td>\n",
              "      <td>0.0</td>\n",
              "      <td>0.295</td>\n",
              "      <td>0.220</td>\n",
              "      <td>0.065</td>\n",
              "      <td>0.1295</td>\n",
              "      <td>0.0520</td>\n",
              "      <td>0.0280</td>\n",
              "      <td>0.0350</td>\n",
              "      <td>0</td>\n",
              "    </tr>\n",
              "    <tr>\n",
              "      <th>...</th>\n",
              "      <td>...</td>\n",
              "      <td>...</td>\n",
              "      <td>...</td>\n",
              "      <td>...</td>\n",
              "      <td>...</td>\n",
              "      <td>...</td>\n",
              "      <td>...</td>\n",
              "      <td>...</td>\n",
              "      <td>...</td>\n",
              "      <td>...</td>\n",
              "      <td>...</td>\n",
              "    </tr>\n",
              "    <tr>\n",
              "      <th>2977</th>\n",
              "      <td>0.0</td>\n",
              "      <td>1.0</td>\n",
              "      <td>0.0</td>\n",
              "      <td>0.430</td>\n",
              "      <td>0.330</td>\n",
              "      <td>0.100</td>\n",
              "      <td>0.4490</td>\n",
              "      <td>0.2540</td>\n",
              "      <td>0.0825</td>\n",
              "      <td>0.0970</td>\n",
              "      <td>0</td>\n",
              "    </tr>\n",
              "    <tr>\n",
              "      <th>700</th>\n",
              "      <td>0.0</td>\n",
              "      <td>0.0</td>\n",
              "      <td>1.0</td>\n",
              "      <td>0.385</td>\n",
              "      <td>0.285</td>\n",
              "      <td>0.105</td>\n",
              "      <td>0.2905</td>\n",
              "      <td>0.1215</td>\n",
              "      <td>0.0685</td>\n",
              "      <td>0.0875</td>\n",
              "      <td>0</td>\n",
              "    </tr>\n",
              "    <tr>\n",
              "      <th>2343</th>\n",
              "      <td>0.0</td>\n",
              "      <td>1.0</td>\n",
              "      <td>0.0</td>\n",
              "      <td>0.170</td>\n",
              "      <td>0.125</td>\n",
              "      <td>0.055</td>\n",
              "      <td>0.0235</td>\n",
              "      <td>0.0090</td>\n",
              "      <td>0.0055</td>\n",
              "      <td>0.0080</td>\n",
              "      <td>0</td>\n",
              "    </tr>\n",
              "    <tr>\n",
              "      <th>1960</th>\n",
              "      <td>1.0</td>\n",
              "      <td>0.0</td>\n",
              "      <td>0.0</td>\n",
              "      <td>0.650</td>\n",
              "      <td>0.510</td>\n",
              "      <td>0.185</td>\n",
              "      <td>1.3750</td>\n",
              "      <td>0.5310</td>\n",
              "      <td>0.3840</td>\n",
              "      <td>0.3985</td>\n",
              "      <td>0</td>\n",
              "    </tr>\n",
              "    <tr>\n",
              "      <th>2957</th>\n",
              "      <td>1.0</td>\n",
              "      <td>0.0</td>\n",
              "      <td>0.0</td>\n",
              "      <td>0.655</td>\n",
              "      <td>0.500</td>\n",
              "      <td>0.205</td>\n",
              "      <td>1.5280</td>\n",
              "      <td>0.6215</td>\n",
              "      <td>0.3725</td>\n",
              "      <td>0.4535</td>\n",
              "      <td>0</td>\n",
              "    </tr>\n",
              "  </tbody>\n",
              "</table>\n",
              "<p>3341 rows × 11 columns</p>\n",
              "</div>"
            ],
            "text/plain": [
              "        0    1    2      3      4      5       6       7       8       9  y\n",
              "1265  0.0  1.0  0.0  0.460  0.360  0.105  0.4660  0.2225  0.0990  0.1100  1\n",
              "2001  0.0  1.0  0.0  0.360  0.270  0.085  0.2185  0.1065  0.0380  0.0620  0\n",
              "600   0.0  1.0  0.0  0.535  0.420  0.145  0.9260  0.3980  0.1965  0.2500  0\n",
              "1674  0.0  0.0  1.0  0.610  0.470  0.170  1.1185  0.5225  0.2405  0.3100  0\n",
              "3966  0.0  1.0  0.0  0.295  0.220  0.065  0.1295  0.0520  0.0280  0.0350  0\n",
              "...   ...  ...  ...    ...    ...    ...     ...     ...     ...     ... ..\n",
              "2977  0.0  1.0  0.0  0.430  0.330  0.100  0.4490  0.2540  0.0825  0.0970  0\n",
              "700   0.0  0.0  1.0  0.385  0.285  0.105  0.2905  0.1215  0.0685  0.0875  0\n",
              "2343  0.0  1.0  0.0  0.170  0.125  0.055  0.0235  0.0090  0.0055  0.0080  0\n",
              "1960  1.0  0.0  0.0  0.650  0.510  0.185  1.3750  0.5310  0.3840  0.3985  0\n",
              "2957  1.0  0.0  0.0  0.655  0.500  0.205  1.5280  0.6215  0.3725  0.4535  0\n",
              "\n",
              "[3341 rows x 11 columns]"
            ]
          },
          "metadata": {
            "tags": []
          },
          "execution_count": 69
        }
      ]
    },
    {
      "cell_type": "code",
      "metadata": {
        "id": "d58yDzpTnKfJ",
        "colab_type": "code",
        "colab": {
          "base_uri": "https://localhost:8080/",
          "height": 419
        },
        "outputId": "a9877080-c6af-4778-f940-edd012419f1c"
      },
      "source": [
        "X_test"
      ],
      "execution_count": 68,
      "outputs": [
        {
          "output_type": "execute_result",
          "data": {
            "text/html": [
              "<div>\n",
              "<style scoped>\n",
              "    .dataframe tbody tr th:only-of-type {\n",
              "        vertical-align: middle;\n",
              "    }\n",
              "\n",
              "    .dataframe tbody tr th {\n",
              "        vertical-align: top;\n",
              "    }\n",
              "\n",
              "    .dataframe thead th {\n",
              "        text-align: right;\n",
              "    }\n",
              "</style>\n",
              "<table border=\"1\" class=\"dataframe\">\n",
              "  <thead>\n",
              "    <tr style=\"text-align: right;\">\n",
              "      <th></th>\n",
              "      <th>0</th>\n",
              "      <th>1</th>\n",
              "      <th>2</th>\n",
              "      <th>3</th>\n",
              "      <th>4</th>\n",
              "      <th>5</th>\n",
              "      <th>6</th>\n",
              "      <th>7</th>\n",
              "      <th>8</th>\n",
              "      <th>9</th>\n",
              "    </tr>\n",
              "  </thead>\n",
              "  <tbody>\n",
              "    <tr>\n",
              "      <th>331</th>\n",
              "      <td>1.0</td>\n",
              "      <td>0.0</td>\n",
              "      <td>0.0</td>\n",
              "      <td>0.400</td>\n",
              "      <td>0.325</td>\n",
              "      <td>0.120</td>\n",
              "      <td>0.3185</td>\n",
              "      <td>0.1340</td>\n",
              "      <td>0.0565</td>\n",
              "      <td>0.0950</td>\n",
              "    </tr>\n",
              "    <tr>\n",
              "      <th>4138</th>\n",
              "      <td>0.0</td>\n",
              "      <td>0.0</td>\n",
              "      <td>1.0</td>\n",
              "      <td>0.630</td>\n",
              "      <td>0.490</td>\n",
              "      <td>0.155</td>\n",
              "      <td>1.2290</td>\n",
              "      <td>0.5350</td>\n",
              "      <td>0.2900</td>\n",
              "      <td>0.3350</td>\n",
              "    </tr>\n",
              "    <tr>\n",
              "      <th>641</th>\n",
              "      <td>0.0</td>\n",
              "      <td>1.0</td>\n",
              "      <td>0.0</td>\n",
              "      <td>0.620</td>\n",
              "      <td>0.485</td>\n",
              "      <td>0.180</td>\n",
              "      <td>1.1785</td>\n",
              "      <td>0.4675</td>\n",
              "      <td>0.2655</td>\n",
              "      <td>0.3900</td>\n",
              "    </tr>\n",
              "    <tr>\n",
              "      <th>3473</th>\n",
              "      <td>0.0</td>\n",
              "      <td>1.0</td>\n",
              "      <td>0.0</td>\n",
              "      <td>0.210</td>\n",
              "      <td>0.150</td>\n",
              "      <td>0.055</td>\n",
              "      <td>0.0455</td>\n",
              "      <td>0.0200</td>\n",
              "      <td>0.0065</td>\n",
              "      <td>0.0130</td>\n",
              "    </tr>\n",
              "    <tr>\n",
              "      <th>1368</th>\n",
              "      <td>0.0</td>\n",
              "      <td>0.0</td>\n",
              "      <td>1.0</td>\n",
              "      <td>0.610</td>\n",
              "      <td>0.460</td>\n",
              "      <td>0.160</td>\n",
              "      <td>1.0000</td>\n",
              "      <td>0.4940</td>\n",
              "      <td>0.1970</td>\n",
              "      <td>0.2750</td>\n",
              "    </tr>\n",
              "    <tr>\n",
              "      <th>...</th>\n",
              "      <td>...</td>\n",
              "      <td>...</td>\n",
              "      <td>...</td>\n",
              "      <td>...</td>\n",
              "      <td>...</td>\n",
              "      <td>...</td>\n",
              "      <td>...</td>\n",
              "      <td>...</td>\n",
              "      <td>...</td>\n",
              "      <td>...</td>\n",
              "    </tr>\n",
              "    <tr>\n",
              "      <th>3632</th>\n",
              "      <td>0.0</td>\n",
              "      <td>1.0</td>\n",
              "      <td>0.0</td>\n",
              "      <td>0.300</td>\n",
              "      <td>0.225</td>\n",
              "      <td>0.075</td>\n",
              "      <td>0.1345</td>\n",
              "      <td>0.0570</td>\n",
              "      <td>0.0280</td>\n",
              "      <td>0.0440</td>\n",
              "    </tr>\n",
              "    <tr>\n",
              "      <th>2394</th>\n",
              "      <td>0.0</td>\n",
              "      <td>1.0</td>\n",
              "      <td>0.0</td>\n",
              "      <td>0.625</td>\n",
              "      <td>0.460</td>\n",
              "      <td>0.160</td>\n",
              "      <td>1.2395</td>\n",
              "      <td>0.5500</td>\n",
              "      <td>0.2730</td>\n",
              "      <td>0.3800</td>\n",
              "    </tr>\n",
              "    <tr>\n",
              "      <th>3981</th>\n",
              "      <td>0.0</td>\n",
              "      <td>0.0</td>\n",
              "      <td>1.0</td>\n",
              "      <td>0.565</td>\n",
              "      <td>0.455</td>\n",
              "      <td>0.150</td>\n",
              "      <td>0.9795</td>\n",
              "      <td>0.4440</td>\n",
              "      <td>0.2050</td>\n",
              "      <td>0.2750</td>\n",
              "    </tr>\n",
              "    <tr>\n",
              "      <th>821</th>\n",
              "      <td>0.0</td>\n",
              "      <td>1.0</td>\n",
              "      <td>0.0</td>\n",
              "      <td>0.370</td>\n",
              "      <td>0.275</td>\n",
              "      <td>0.140</td>\n",
              "      <td>0.2215</td>\n",
              "      <td>0.0970</td>\n",
              "      <td>0.0455</td>\n",
              "      <td>0.0615</td>\n",
              "    </tr>\n",
              "    <tr>\n",
              "      <th>939</th>\n",
              "      <td>0.0</td>\n",
              "      <td>1.0</td>\n",
              "      <td>0.0</td>\n",
              "      <td>0.460</td>\n",
              "      <td>0.360</td>\n",
              "      <td>0.100</td>\n",
              "      <td>0.4635</td>\n",
              "      <td>0.2325</td>\n",
              "      <td>0.0930</td>\n",
              "      <td>0.1150</td>\n",
              "    </tr>\n",
              "  </tbody>\n",
              "</table>\n",
              "<p>836 rows × 10 columns</p>\n",
              "</div>"
            ],
            "text/plain": [
              "        0    1    2      3      4      5       6       7       8       9\n",
              "331   1.0  0.0  0.0  0.400  0.325  0.120  0.3185  0.1340  0.0565  0.0950\n",
              "4138  0.0  0.0  1.0  0.630  0.490  0.155  1.2290  0.5350  0.2900  0.3350\n",
              "641   0.0  1.0  0.0  0.620  0.485  0.180  1.1785  0.4675  0.2655  0.3900\n",
              "3473  0.0  1.0  0.0  0.210  0.150  0.055  0.0455  0.0200  0.0065  0.0130\n",
              "1368  0.0  0.0  1.0  0.610  0.460  0.160  1.0000  0.4940  0.1970  0.2750\n",
              "...   ...  ...  ...    ...    ...    ...     ...     ...     ...     ...\n",
              "3632  0.0  1.0  0.0  0.300  0.225  0.075  0.1345  0.0570  0.0280  0.0440\n",
              "2394  0.0  1.0  0.0  0.625  0.460  0.160  1.2395  0.5500  0.2730  0.3800\n",
              "3981  0.0  0.0  1.0  0.565  0.455  0.150  0.9795  0.4440  0.2050  0.2750\n",
              "821   0.0  1.0  0.0  0.370  0.275  0.140  0.2215  0.0970  0.0455  0.0615\n",
              "939   0.0  1.0  0.0  0.460  0.360  0.100  0.4635  0.2325  0.0930  0.1150\n",
              "\n",
              "[836 rows x 10 columns]"
            ]
          },
          "metadata": {
            "tags": []
          },
          "execution_count": 68
        }
      ]
    },
    {
      "cell_type": "code",
      "metadata": {
        "id": "RLrkWxX3nNyq",
        "colab_type": "code",
        "colab": {
          "base_uri": "https://localhost:8080/",
          "height": 419
        },
        "outputId": "285de282-5aff-49d8-ffa8-87eb9eee565b"
      },
      "source": [
        "X"
      ],
      "execution_count": 57,
      "outputs": [
        {
          "output_type": "execute_result",
          "data": {
            "text/html": [
              "<div>\n",
              "<style scoped>\n",
              "    .dataframe tbody tr th:only-of-type {\n",
              "        vertical-align: middle;\n",
              "    }\n",
              "\n",
              "    .dataframe tbody tr th {\n",
              "        vertical-align: top;\n",
              "    }\n",
              "\n",
              "    .dataframe thead th {\n",
              "        text-align: right;\n",
              "    }\n",
              "</style>\n",
              "<table border=\"1\" class=\"dataframe\">\n",
              "  <thead>\n",
              "    <tr style=\"text-align: right;\">\n",
              "      <th></th>\n",
              "      <th>0</th>\n",
              "      <th>1</th>\n",
              "      <th>2</th>\n",
              "      <th>3</th>\n",
              "      <th>4</th>\n",
              "      <th>5</th>\n",
              "      <th>6</th>\n",
              "      <th>7</th>\n",
              "      <th>8</th>\n",
              "      <th>9</th>\n",
              "      <th>y</th>\n",
              "    </tr>\n",
              "  </thead>\n",
              "  <tbody>\n",
              "    <tr>\n",
              "      <th>0</th>\n",
              "      <td>0.0</td>\n",
              "      <td>0.0</td>\n",
              "      <td>1.0</td>\n",
              "      <td>0.455</td>\n",
              "      <td>0.365</td>\n",
              "      <td>0.095</td>\n",
              "      <td>0.5140</td>\n",
              "      <td>0.2245</td>\n",
              "      <td>0.1010</td>\n",
              "      <td>0.1500</td>\n",
              "      <td>0</td>\n",
              "    </tr>\n",
              "    <tr>\n",
              "      <th>1</th>\n",
              "      <td>0.0</td>\n",
              "      <td>0.0</td>\n",
              "      <td>1.0</td>\n",
              "      <td>0.350</td>\n",
              "      <td>0.265</td>\n",
              "      <td>0.090</td>\n",
              "      <td>0.2255</td>\n",
              "      <td>0.0995</td>\n",
              "      <td>0.0485</td>\n",
              "      <td>0.0700</td>\n",
              "      <td>1</td>\n",
              "    </tr>\n",
              "    <tr>\n",
              "      <th>2</th>\n",
              "      <td>1.0</td>\n",
              "      <td>0.0</td>\n",
              "      <td>0.0</td>\n",
              "      <td>0.530</td>\n",
              "      <td>0.420</td>\n",
              "      <td>0.135</td>\n",
              "      <td>0.6770</td>\n",
              "      <td>0.2565</td>\n",
              "      <td>0.1415</td>\n",
              "      <td>0.2100</td>\n",
              "      <td>0</td>\n",
              "    </tr>\n",
              "    <tr>\n",
              "      <th>3</th>\n",
              "      <td>0.0</td>\n",
              "      <td>0.0</td>\n",
              "      <td>1.0</td>\n",
              "      <td>0.440</td>\n",
              "      <td>0.365</td>\n",
              "      <td>0.125</td>\n",
              "      <td>0.5160</td>\n",
              "      <td>0.2155</td>\n",
              "      <td>0.1140</td>\n",
              "      <td>0.1550</td>\n",
              "      <td>0</td>\n",
              "    </tr>\n",
              "    <tr>\n",
              "      <th>4</th>\n",
              "      <td>0.0</td>\n",
              "      <td>1.0</td>\n",
              "      <td>0.0</td>\n",
              "      <td>0.330</td>\n",
              "      <td>0.255</td>\n",
              "      <td>0.080</td>\n",
              "      <td>0.2050</td>\n",
              "      <td>0.0895</td>\n",
              "      <td>0.0395</td>\n",
              "      <td>0.0550</td>\n",
              "      <td>1</td>\n",
              "    </tr>\n",
              "    <tr>\n",
              "      <th>...</th>\n",
              "      <td>...</td>\n",
              "      <td>...</td>\n",
              "      <td>...</td>\n",
              "      <td>...</td>\n",
              "      <td>...</td>\n",
              "      <td>...</td>\n",
              "      <td>...</td>\n",
              "      <td>...</td>\n",
              "      <td>...</td>\n",
              "      <td>...</td>\n",
              "      <td>...</td>\n",
              "    </tr>\n",
              "    <tr>\n",
              "      <th>4172</th>\n",
              "      <td>1.0</td>\n",
              "      <td>0.0</td>\n",
              "      <td>0.0</td>\n",
              "      <td>0.565</td>\n",
              "      <td>0.450</td>\n",
              "      <td>0.165</td>\n",
              "      <td>0.8870</td>\n",
              "      <td>0.3700</td>\n",
              "      <td>0.2390</td>\n",
              "      <td>0.2490</td>\n",
              "      <td>0</td>\n",
              "    </tr>\n",
              "    <tr>\n",
              "      <th>4173</th>\n",
              "      <td>0.0</td>\n",
              "      <td>0.0</td>\n",
              "      <td>1.0</td>\n",
              "      <td>0.590</td>\n",
              "      <td>0.440</td>\n",
              "      <td>0.135</td>\n",
              "      <td>0.9660</td>\n",
              "      <td>0.4390</td>\n",
              "      <td>0.2145</td>\n",
              "      <td>0.2605</td>\n",
              "      <td>0</td>\n",
              "    </tr>\n",
              "    <tr>\n",
              "      <th>4174</th>\n",
              "      <td>0.0</td>\n",
              "      <td>0.0</td>\n",
              "      <td>1.0</td>\n",
              "      <td>0.600</td>\n",
              "      <td>0.475</td>\n",
              "      <td>0.205</td>\n",
              "      <td>1.1760</td>\n",
              "      <td>0.5255</td>\n",
              "      <td>0.2875</td>\n",
              "      <td>0.3080</td>\n",
              "      <td>0</td>\n",
              "    </tr>\n",
              "    <tr>\n",
              "      <th>4175</th>\n",
              "      <td>1.0</td>\n",
              "      <td>0.0</td>\n",
              "      <td>0.0</td>\n",
              "      <td>0.625</td>\n",
              "      <td>0.485</td>\n",
              "      <td>0.150</td>\n",
              "      <td>1.0945</td>\n",
              "      <td>0.5310</td>\n",
              "      <td>0.2610</td>\n",
              "      <td>0.2960</td>\n",
              "      <td>0</td>\n",
              "    </tr>\n",
              "    <tr>\n",
              "      <th>4176</th>\n",
              "      <td>0.0</td>\n",
              "      <td>0.0</td>\n",
              "      <td>1.0</td>\n",
              "      <td>0.710</td>\n",
              "      <td>0.555</td>\n",
              "      <td>0.195</td>\n",
              "      <td>1.9485</td>\n",
              "      <td>0.9455</td>\n",
              "      <td>0.3765</td>\n",
              "      <td>0.4950</td>\n",
              "      <td>0</td>\n",
              "    </tr>\n",
              "  </tbody>\n",
              "</table>\n",
              "<p>4177 rows × 11 columns</p>\n",
              "</div>"
            ],
            "text/plain": [
              "        0    1    2      3      4      5       6       7       8       9  y\n",
              "0     0.0  0.0  1.0  0.455  0.365  0.095  0.5140  0.2245  0.1010  0.1500  0\n",
              "1     0.0  0.0  1.0  0.350  0.265  0.090  0.2255  0.0995  0.0485  0.0700  1\n",
              "2     1.0  0.0  0.0  0.530  0.420  0.135  0.6770  0.2565  0.1415  0.2100  0\n",
              "3     0.0  0.0  1.0  0.440  0.365  0.125  0.5160  0.2155  0.1140  0.1550  0\n",
              "4     0.0  1.0  0.0  0.330  0.255  0.080  0.2050  0.0895  0.0395  0.0550  1\n",
              "...   ...  ...  ...    ...    ...    ...     ...     ...     ...     ... ..\n",
              "4172  1.0  0.0  0.0  0.565  0.450  0.165  0.8870  0.3700  0.2390  0.2490  0\n",
              "4173  0.0  0.0  1.0  0.590  0.440  0.135  0.9660  0.4390  0.2145  0.2605  0\n",
              "4174  0.0  0.0  1.0  0.600  0.475  0.205  1.1760  0.5255  0.2875  0.3080  0\n",
              "4175  1.0  0.0  0.0  0.625  0.485  0.150  1.0945  0.5310  0.2610  0.2960  0\n",
              "4176  0.0  0.0  1.0  0.710  0.555  0.195  1.9485  0.9455  0.3765  0.4950  0\n",
              "\n",
              "[4177 rows x 11 columns]"
            ]
          },
          "metadata": {
            "tags": []
          },
          "execution_count": 57
        }
      ]
    },
    {
      "cell_type": "code",
      "metadata": {
        "id": "J2U3qK6NipuQ",
        "colab_type": "code",
        "colab": {}
      },
      "source": [
        ""
      ],
      "execution_count": 0,
      "outputs": []
    },
    {
      "cell_type": "code",
      "metadata": {
        "id": "vOe4m47VK_U0",
        "colab_type": "code",
        "colab": {
          "base_uri": "https://localhost:8080/",
          "height": 663
        },
        "outputId": "08c1587a-f317-4e56-97fc-676d63a6baae"
      },
      "source": [
        "y_test.to_numpy().flatten() - y_pred"
      ],
      "execution_count": 48,
      "outputs": [
        {
          "output_type": "execute_result",
          "data": {
            "text/plain": [
              "array([0, 0, 0, 0, 0, 0, 0, 0, 0, 0, 0, 0, 0, 0, 0, 0, 0, 0, 0, 0, 0, 0,\n",
              "       0, 0, 0, 0, 0, 0, 0, 0, 0, 0, 0, 0, 0, 0, 0, 0, 0, 0, 0, 0, 0, 0,\n",
              "       0, 0, 0, 0, 0, 0, 0, 0, 0, 0, 0, 0, 0, 0, 0, 0, 0, 0, 0, 0, 0, 0,\n",
              "       0, 0, 0, 0, 0, 0, 0, 0, 0, 0, 0, 0, 0, 0, 0, 0, 0, 0, 0, 0, 0, 0,\n",
              "       0, 0, 0, 0, 0, 0, 0, 0, 0, 0, 0, 0, 0, 0, 0, 0, 0, 0, 0, 0, 0, 0,\n",
              "       0, 0, 0, 0, 0, 0, 0, 0, 0, 0, 0, 0, 0, 0, 0, 0, 0, 0, 0, 0, 0, 0,\n",
              "       0, 0, 0, 0, 0, 0, 0, 0, 0, 0, 0, 0, 0, 0, 0, 0, 0, 0, 0, 0, 0, 0,\n",
              "       0, 0, 0, 0, 0, 0, 0, 0, 0, 0, 0, 0, 0, 0, 0, 0, 0, 0, 0, 0, 0, 0,\n",
              "       0, 0, 0, 0, 0, 0, 0, 0, 0, 0, 0, 0, 0, 0, 0, 0, 0, 0, 0, 0, 0, 0,\n",
              "       0, 0, 0, 0, 0, 0, 0, 0, 0, 0, 0, 0, 0, 0, 0, 0, 0, 0, 0, 0, 0, 0,\n",
              "       0, 0, 0, 0, 0, 0, 0, 0, 0, 0, 0, 0, 0, 0, 0, 0, 0, 0, 0, 0, 0, 0,\n",
              "       0, 0, 0, 0, 0, 0, 0, 0, 0, 0, 0, 0, 0, 0, 0, 0, 0, 0, 0, 0, 0, 0,\n",
              "       0, 0, 0, 0, 0, 0, 0, 0, 0, 0, 0, 0, 0, 0, 0, 0, 0, 0, 0, 0, 0, 0,\n",
              "       0, 0, 0, 0, 0, 0, 0, 0, 0, 0, 0, 0, 0, 0, 0, 0, 0, 0, 0, 0, 0, 0,\n",
              "       0, 0, 0, 0, 0, 0, 0, 0, 0, 0, 0, 0, 0, 0, 0, 0, 0, 0, 0, 0, 0, 0,\n",
              "       0, 0, 0, 0, 0, 0, 0, 0, 0, 0, 0, 0, 0, 0, 0, 0, 0, 0, 0, 0, 0, 0,\n",
              "       0, 0, 0, 0, 0, 0, 0, 0, 0, 0, 0, 0, 0, 0, 0, 0, 0, 0, 0, 0, 0, 0,\n",
              "       0, 0, 0, 0, 0, 0, 0, 0, 0, 0, 0, 0, 0, 0, 0, 0, 0, 0, 0, 0, 0, 0,\n",
              "       0, 0, 0, 0, 0, 0, 0, 0, 0, 0, 0, 0, 0, 0, 0, 0, 0, 0, 0, 0, 0, 0,\n",
              "       0, 0, 0, 0, 0, 0, 0, 0, 0, 0, 0, 0, 0, 0, 0, 0, 0, 0, 0, 0, 0, 0,\n",
              "       0, 0, 0, 0, 0, 0, 0, 0, 0, 0, 0, 0, 0, 0, 0, 0, 0, 0, 0, 0, 0, 0,\n",
              "       0, 0, 0, 0, 0, 0, 0, 0, 0, 0, 0, 0, 0, 0, 0, 0, 0, 0, 0, 0, 0, 0,\n",
              "       0, 0, 0, 0, 0, 0, 0, 0, 0, 0, 0, 0, 0, 0, 0, 0, 0, 0, 0, 0, 0, 0,\n",
              "       0, 0, 0, 0, 0, 0, 0, 0, 0, 0, 0, 0, 0, 0, 0, 0, 0, 0, 0, 0, 0, 0,\n",
              "       0, 0, 0, 0, 0, 0, 0, 0, 0, 0, 0, 0, 0, 0, 0, 0, 0, 0, 0, 0, 0, 0,\n",
              "       0, 0, 0, 0, 0, 0, 0, 0, 0, 0, 0, 0, 0, 0, 0, 0, 0, 0, 0, 0, 0, 0,\n",
              "       0, 0, 0, 0, 0, 0, 0, 0, 0, 0, 0, 0, 0, 0, 0, 0, 0, 0, 0, 0, 0, 0,\n",
              "       0, 0, 0, 0, 0, 0, 0, 0, 0, 0, 0, 0, 0, 0, 0, 0, 0, 0, 0, 0, 0, 0,\n",
              "       0, 0, 0, 0, 0, 0, 0, 0, 0, 0, 0, 0, 0, 0, 0, 0, 0, 0, 0, 0, 0, 0,\n",
              "       0, 0, 0, 0, 0, 0, 0, 0, 0, 0, 0, 0, 0, 0, 0, 0, 0, 0, 0, 0, 0, 0,\n",
              "       0, 0, 0, 0, 0, 0, 0, 0, 0, 0, 0, 0, 0, 0, 0, 0, 0, 0, 0, 0, 0, 0,\n",
              "       0, 0, 0, 0, 0, 0, 0, 0, 0, 0, 0, 0, 0, 0, 0, 0, 0, 0, 0, 0, 0, 0,\n",
              "       0, 0, 0, 0, 0, 0, 0, 0, 0, 0, 0, 0, 0, 0, 0, 0, 0, 0, 0, 0, 0, 0,\n",
              "       0, 0, 0, 0, 0, 0, 0, 0, 0, 0, 0, 0, 0, 0, 0, 0, 0, 0, 0, 0, 0, 0,\n",
              "       0, 0, 0, 0, 0, 0, 0, 0, 0, 0, 0, 0, 0, 0, 0, 0, 0, 0, 0, 0, 0, 0,\n",
              "       0, 0, 0, 0, 0, 0, 0, 0, 0, 0, 0, 0, 0, 0, 0, 0, 0, 0, 0, 0, 0, 0,\n",
              "       0, 0, 0, 0, 0, 0, 0, 0, 0, 0, 0, 0, 0, 0, 0, 0, 0, 0, 0, 0, 0, 0,\n",
              "       0, 0, 0, 0, 0, 0, 0, 0, 0, 0, 0, 0, 0, 0, 0, 0, 0, 0, 0, 0, 0, 0])"
            ]
          },
          "metadata": {
            "tags": []
          },
          "execution_count": 48
        }
      ]
    },
    {
      "cell_type": "code",
      "metadata": {
        "id": "zb3FYYp9MvBN",
        "colab_type": "code",
        "colab": {}
      },
      "source": [
        ""
      ],
      "execution_count": 0,
      "outputs": []
    },
    {
      "cell_type": "code",
      "metadata": {
        "id": "KCCEVOHQaqLA",
        "colab_type": "code",
        "colab": {}
      },
      "source": [
        ""
      ],
      "execution_count": 0,
      "outputs": []
    },
    {
      "cell_type": "code",
      "metadata": {
        "id": "63zR840zb-b-",
        "colab_type": "code",
        "outputId": "80b228c0-4189-4acc-a594-c22b2832a911",
        "colab": {
          "base_uri": "https://localhost:8080/",
          "height": 181
        }
      },
      "source": [
        "\n",
        "df_new"
      ],
      "execution_count": 49,
      "outputs": [
        {
          "output_type": "error",
          "ename": "NameError",
          "evalue": "ignored",
          "traceback": [
            "\u001b[0;31m---------------------------------------------------------------------------\u001b[0m",
            "\u001b[0;31mNameError\u001b[0m                                 Traceback (most recent call last)",
            "\u001b[0;32m<ipython-input-49-d1011b747d79>\u001b[0m in \u001b[0;36m<module>\u001b[0;34m()\u001b[0m\n\u001b[1;32m      1\u001b[0m \u001b[0;34m\u001b[0m\u001b[0m\n\u001b[0;32m----> 2\u001b[0;31m \u001b[0mdf_new\u001b[0m\u001b[0;34m\u001b[0m\u001b[0;34m\u001b[0m\u001b[0m\n\u001b[0m",
            "\u001b[0;31mNameError\u001b[0m: name 'df_new' is not defined"
          ]
        }
      ]
    },
    {
      "cell_type": "code",
      "metadata": {
        "id": "Dl5D344lerg_",
        "colab_type": "code",
        "colab": {}
      },
      "source": [
        "X.shape"
      ],
      "execution_count": 0,
      "outputs": []
    },
    {
      "cell_type": "code",
      "metadata": {
        "id": "nVmyfsLHaQi6",
        "colab_type": "code",
        "colab": {}
      },
      "source": [
        ""
      ],
      "execution_count": 0,
      "outputs": []
    }
  ]
}
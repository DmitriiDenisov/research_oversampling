{
 "cells": [
  {
   "cell_type": "markdown",
   "metadata": {
    "colab_type": "text",
    "id": "ceoNp6jIwqF9"
   },
   "source": [
    "### 1.\n",
    "- One random point\n",
    "- 2D plane"
   ]
  },
  {
   "cell_type": "code",
   "execution_count": 1,
   "metadata": {
    "colab": {},
    "colab_type": "code",
    "id": "cFtdgA2OwqGB"
   },
   "outputs": [],
   "source": [
    "import math\n",
    "import numpy as np\n",
    "import matplotlib.pyplot as plt"
   ]
  },
  {
   "cell_type": "code",
   "execution_count": 2,
   "metadata": {
    "colab": {},
    "colab_type": "code",
    "id": "xj8E-lLawqGG"
   },
   "outputs": [],
   "source": [
    "# Generates random point in rectangle [xy_min; xy_max]\n",
    "def generate_random_point(n=2, xy_min=[0, 0], xy_max=[10, 20]):\n",
    "    data = np.random.uniform(low=xy_min, high=xy_max, size=(n,2))\n",
    "    return data\n",
    "\n",
    "# Returns directional vector\n",
    "def get_vector_two_points(two_points):\n",
    "    return two_points[1] - two_points[0]"
   ]
  },
  {
   "cell_type": "code",
   "execution_count": 3,
   "metadata": {
    "colab": {
     "base_uri": "https://localhost:8080/",
     "height": 68
    },
    "colab_type": "code",
    "id": "M3UixHUFwqGJ",
    "outputId": "d369a557-be66-44d5-9421-f48c6be77b6c"
   },
   "outputs": [
    {
     "name": "stdout",
     "output_type": "stream",
     "text": [
      "[[ 1.81684637 17.04038272]\n",
      " [ 1.57823276 10.93054149]]\n",
      "[-0.2386136  -6.10984123]\n"
     ]
    }
   ],
   "source": [
    "# Generate two Random point2:\n",
    "two_points = generate_random_point(n=2, xy_min=[0, 0], xy_max=[10, 20])\n",
    "print(two_points)\n",
    "# get vector for these two points\n",
    "v = get_vector_two_points(two_points)\n",
    "print(v)"
   ]
  },
  {
   "cell_type": "code",
   "execution_count": 4,
   "metadata": {
    "colab": {
     "base_uri": "https://localhost:8080/",
     "height": 297
    },
    "colab_type": "code",
    "id": "q7PLtegIwqGO",
    "outputId": "d32e6013-3266-47d9-df7a-9990976e5a7d"
   },
   "outputs": [
    {
     "data": {
      "image/png": "[encoded data removed]",
      "text/plain": [
       "<Figure size 432x288 with 2 Axes>"
      ]
     },
     "metadata": {
      "needs_background": "light"
     },
     "output_type": "display_data"
    }
   ],
   "source": [
    "# JUST CHECKING how Gamma dist is look like\n",
    "\n",
    "N_points = 100000\n",
    "n_bins = 20\n",
    "\n",
    "shape, scale = 1., 3.  # mean=4, std=2*sqrt(2)\n",
    "s = np.random.gamma(shape, scale, 10000)\n",
    "\n",
    "\n",
    "fig, axs = plt.subplots(1, 2, sharey=True, tight_layout=True)\n",
    "\n",
    "# We can set the number of bins with the `bins` kwarg\n",
    "axs[0].hist(s, bins=n_bins)\n",
    "axs[1].hist(s, bins=2*n_bins)\n",
    "plt.show()"
   ]
  },
  {
   "cell_type": "code",
   "execution_count": 5,
   "metadata": {
    "colab": {},
    "colab_type": "code",
    "id": "xbE6rxDwwqGT"
   },
   "outputs": [],
   "source": [
    "# Generates normilized Gamma distributed value\n",
    "def generate_gamma():\n",
    "    shape, scale = 1., 3.\n",
    "    s = np.random.gamma(shape, scale, 1)[0]\n",
    "    if (s > 20): # заглушка пока что\n",
    "        s = 20\n",
    "    s = s / 20\n",
    "    return s"
   ]
  },
  {
   "cell_type": "code",
   "execution_count": 6,
   "metadata": {
    "colab": {},
    "colab_type": "code",
    "id": "KKsixbezwqGW"
   },
   "outputs": [],
   "source": [
    "gamma_coeff = generate_gamma()"
   ]
  },
  {
   "cell_type": "code",
   "execution_count": 7,
   "metadata": {
    "colab": {},
    "colab_type": "code",
    "id": "lCMR509_wqGY"
   },
   "outputs": [],
   "source": [
    "# Generates new point on line between two initial points\n",
    "def generate_new_point(start_point, v, gamma_coeff):\n",
    "    return start_point + v * gamma_coeff"
   ]
  },
  {
   "cell_type": "code",
   "execution_count": 8,
   "metadata": {
    "colab": {},
    "colab_type": "code",
    "id": "AGFA0DRwwqGa"
   },
   "outputs": [],
   "source": [
    "generated_point = generate_new_point(two_points[0], v, gamma_coeff)"
   ]
  },
  {
   "cell_type": "code",
   "execution_count": 9,
   "metadata": {
    "colab": {
     "base_uri": "https://localhost:8080/",
     "height": 68
    },
    "colab_type": "code",
    "id": "hV2LVHKPwqGc",
    "outputId": "8d04d24f-3c96-432d-a108-e9c8d58d300f"
   },
   "outputs": [
    {
     "data": {
      "text/plain": [
       "array([[ 1.81684637, 17.04038272],\n",
       "       [ 1.57823276, 10.93054149],\n",
       "       [ 1.79224818, 16.4105316 ]])"
      ]
     },
     "execution_count": 9,
     "metadata": {},
     "output_type": "execute_result"
    }
   ],
   "source": [
    "# For visualazion:\n",
    "initial_points_and_generated = np.concatenate((two_points, generated_point[np.newaxis, :]), axis=0)\n",
    "initial_points_and_generated"
   ]
  },
  {
   "cell_type": "code",
   "execution_count": 10,
   "metadata": {
    "colab": {
     "base_uri": "https://localhost:8080/",
     "height": 262
    },
    "colab_type": "code",
    "id": "JNkG2gHZwqGf",
    "outputId": "92aa037e-f357-4d6a-9e2a-b62686626d88"
   },
   "outputs": [
    {
     "data": {
      "image/png": "[encoded data removed]",
      "text/plain": [
       "<Figure size 432x288 with 1 Axes>"
      ]
     },
     "metadata": {},
     "output_type": "display_data"
    }
   ],
   "source": [
    "import matplotlib.pyplot as plt\n",
    "plt.style.use('seaborn-whitegrid')\n",
    "import numpy as np\n",
    "\n",
    "\n",
    "initial_x, initial_y = map(list, zip(*two_points))\n",
    "generated_x, generated_y = map(list, zip(*generated_point[np.newaxis, :]))\n",
    "\n",
    "plt.plot(initial_x, initial_y, 'o', color='blue');\n",
    "plt.plot(generated_x, generated_y, 'o', color='red');"
   ]
  },
  {
   "cell_type": "markdown",
   "metadata": {
    "colab_type": "text",
    "id": "QbIYZaRswqGh"
   },
   "source": [
    "## 2.\n",
    "- Multiple Random points\n",
    "- 2D plane"
   ]
  },
  {
   "cell_type": "code",
   "execution_count": 11,
   "metadata": {
    "colab": {},
    "colab_type": "code",
    "id": "Uxoi3AJFwqGi"
   },
   "outputs": [],
   "source": [
    "NUM_RAND_POINTS = 20"
   ]
  },
  {
   "cell_type": "code",
   "execution_count": 12,
   "metadata": {
    "colab": {
     "base_uri": "https://localhost:8080/",
     "height": 68
    },
    "colab_type": "code",
    "id": "nlF6k1ZFwqGl",
    "outputId": "b49c82f9-e078-4458-86b1-751fb9946cdb"
   },
   "outputs": [
    {
     "name": "stdout",
     "output_type": "stream",
     "text": [
      "[[ 4.94394473 12.38166747]\n",
      " [ 7.1355999  17.06432951]]\n",
      "[2.19165517 4.68266204]\n"
     ]
    }
   ],
   "source": [
    "# Generate two Random point2:\n",
    "two_points = generate_random_point(n=2, xy_min=[0, 0], xy_max=[10, 20])\n",
    "print(two_points)\n",
    "# get vector for these two points\n",
    "v = get_vector_two_points(two_points)\n",
    "print(v)"
   ]
  },
  {
   "cell_type": "code",
   "execution_count": 13,
   "metadata": {
    "colab": {},
    "colab_type": "code",
    "id": "aCb58R_bwqGn"
   },
   "outputs": [],
   "source": [
    "gamma_coeff = generate_gamma()\n",
    "\n",
    "generated_points = generate_new_point(two_points[0], v, gamma_coeff)[np.newaxis, :]\n",
    "\n",
    "for i in range(NUM_RAND_POINTS - 1):\n",
    "    gamma_coeff = generate_gamma()\n",
    "    generated_points = np.concatenate((generate_new_point(two_points[0], v, gamma_coeff)[np.newaxis, :], generated_points),\n",
    "                                      axis=0)"
   ]
  },
  {
   "cell_type": "code",
   "execution_count": 14,
   "metadata": {
    "colab": {
     "base_uri": "https://localhost:8080/",
     "height": 266
    },
    "colab_type": "code",
    "id": "GeM-TwMzwqGp",
    "outputId": "01bf8d92-8772-43a5-ad37-15e04cfc0648"
   },
   "outputs": [
    {
     "data": {
      "image/png": "[encoded data removed]",
      "text/plain": [
       "<Figure size 432x288 with 1 Axes>"
      ]
     },
     "metadata": {},
     "output_type": "display_data"
    }
   ],
   "source": [
    "import matplotlib.pyplot as plt\n",
    "plt.style.use('seaborn-whitegrid')\n",
    "import numpy as np\n",
    "\n",
    "\n",
    "initial_x, initial_y = map(list, zip(*two_points))\n",
    "generated_x, generated_y = map(list, zip(*generated_points))\n",
    "\n",
    "plt.plot(initial_x, initial_y, 'o', color='blue');\n",
    "plt.plot(generated_x, generated_y, 'o', color='red');\n",
    "plt.plot(initial_x, initial_y, '-');"
   ]
  },
  {
   "cell_type": "code",
   "execution_count": 15,
   "metadata": {
    "colab": {
     "base_uri": "https://localhost:8080/",
     "height": 357
    },
    "colab_type": "code",
    "id": "rEgHAkUMwqGs",
    "outputId": "0962ace7-3bfb-4f38-fad8-637f9738a07c"
   },
   "outputs": [
    {
     "data": {
      "text/plain": [
       "array([[ 5.1009095 , 12.71703638],\n",
       "       [ 4.95924507, 12.41435798],\n",
       "       [ 5.02068702, 12.54563406],\n",
       "       [ 5.00855161, 12.5197057 ],\n",
       "       [ 5.43002828, 13.42022728],\n",
       "       [ 4.99339324, 12.48731853],\n",
       "       [ 5.67335853, 13.94012356],\n",
       "       [ 5.03995482, 12.58680139],\n",
       "       [ 5.79623119, 14.20265169],\n",
       "       [ 5.01484061, 12.5331427 ],\n",
       "       [ 5.14764351, 12.81688764],\n",
       "       [ 5.14437944, 12.80991368],\n",
       "       [ 5.2947047 , 13.13109668],\n",
       "       [ 5.13186154, 12.78316809],\n",
       "       [ 5.02097623, 12.54625198],\n",
       "       [ 5.01393879, 12.53121589],\n",
       "       [ 5.02236287, 12.54921467],\n",
       "       [ 5.04621079, 12.60016782],\n",
       "       [ 5.36710901, 13.28579479],\n",
       "       [ 4.98577302, 12.47103726]])"
      ]
     },
     "execution_count": 15,
     "metadata": {},
     "output_type": "execute_result"
    }
   ],
   "source": [
    "generated_points"
   ]
  },
  {
   "cell_type": "code",
   "execution_count": 16,
   "metadata": {
    "colab": {
     "base_uri": "https://localhost:8080/",
     "height": 51
    },
    "colab_type": "code",
    "id": "SpZbCFw2wqGu",
    "outputId": "03ffcc51-8a72-414d-878b-d64b676b8c02"
   },
   "outputs": [
    {
     "data": {
      "text/plain": [
       "array([[ 4.94394473, 12.38166747],\n",
       "       [ 7.1355999 , 17.06432951]])"
      ]
     },
     "execution_count": 16,
     "metadata": {},
     "output_type": "execute_result"
    }
   ],
   "source": [
    "two_points"
   ]
  },
  {
   "cell_type": "markdown",
   "metadata": {
    "colab": {},
    "colab_type": "code",
    "id": "m7Ed6CQwwqGw"
   },
   "source": [
    "## 3.\n",
    "- One Random point\n",
    "- n dimentional space"
   ]
  },
  {
   "cell_type": "code",
   "execution_count": 17,
   "metadata": {},
   "outputs": [],
   "source": [
    "# Generates n random points in hypercube [xy_min; xy_max]\n",
    "def generate_random_point_nd(num_points=2, n=10, min_=0, max_=10):\n",
    "    xy_min = [min_] * n\n",
    "    xy_max = [max_] * n\n",
    "    data = np.random.uniform(low=xy_min, high=xy_max, size=(num_points, n))\n",
    "    return data"
   ]
  },
  {
   "cell_type": "code",
   "execution_count": 18,
   "metadata": {},
   "outputs": [
    {
     "name": "stdout",
     "output_type": "stream",
     "text": [
      "[[3.28842977 6.7957486  7.18071651 3.02107188 9.6410012  1.73366321\n",
      "  3.57813937 3.57323862 3.21474455 8.11833033]\n",
      " [0.96278214 1.36600065 1.85503354 7.9871521  1.43594474 2.42971634\n",
      "  4.56052065 8.14436253 1.62388631 9.39383718]]\n",
      "[-2.32564764 -5.42974795 -5.32568297  4.96608022 -8.20505647  0.69605313\n",
      "  0.98238128  4.57112391 -1.59085824  1.27550685]\n"
     ]
    }
   ],
   "source": [
    "two_points_nd = generate_random_point_nd(num_points=2, n=10)\n",
    "assert two_points_nd.shape[0] == 2\n",
    "assert two_points_nd.shape[1] == 10\n",
    "print(two_points_nd)\n",
    "# get vector for these two points\n",
    "v = get_vector_two_points(two_points_nd)\n",
    "print(v)"
   ]
  },
  {
   "cell_type": "code",
   "execution_count": 19,
   "metadata": {},
   "outputs": [],
   "source": [
    "gamma_coeff = generate_gamma()"
   ]
  },
  {
   "cell_type": "code",
   "execution_count": 20,
   "metadata": {},
   "outputs": [
    {
     "data": {
      "text/plain": [
       "array([2.84683213, 5.76473948, 6.16946742, 3.96403904, 8.08301212,\n",
       "       1.86583088, 3.76467548, 4.44121085, 2.91266988, 8.36052558])"
      ]
     },
     "execution_count": 20,
     "metadata": {},
     "output_type": "execute_result"
    }
   ],
   "source": [
    "generated_point = generate_new_point(two_points_nd[0], v, gamma_coeff)\n",
    "generated_point"
   ]
  },
  {
   "cell_type": "code",
   "execution_count": 21,
   "metadata": {},
   "outputs": [],
   "source": [
    "def test_points_on_line(p1, p2, list_p3, tol=0.0001):\n",
    "    # Consider that point in n-d is (vec)x = (vec)x_0 + (vec)k * (vec) t\n",
    "    # Suppose that (vec)x_0 is p1\n",
    "    if len(list_p3.shape) == 1:\n",
    "        list_p3 = list_p3[np.newaxis, :]\n",
    "    k_vec = p2 - p1\n",
    "    for p3 in list_p3:\n",
    "        vec_t = (p3 - p1) / k_vec \n",
    "        if  not all(abs(temp - vec_t[0]) < tol for temp in vec_t):\n",
    "            return False\n",
    "    return True"
   ]
  },
  {
   "cell_type": "code",
   "execution_count": 22,
   "metadata": {},
   "outputs": [],
   "source": [
    "# Testing\n",
    "assert test_points_on_line(two_points_nd[0], two_points_nd[1], generated_point)"
   ]
  },
  {
   "cell_type": "markdown",
   "metadata": {},
   "source": [
    "## 3.\n",
    "- Multiple Random points\n",
    "- n dimentional space"
   ]
  },
  {
   "cell_type": "code",
   "execution_count": 23,
   "metadata": {},
   "outputs": [],
   "source": [
    "NUM_RAND_POINTS = 20\n",
    "N_FEATURES = 10"
   ]
  },
  {
   "cell_type": "code",
   "execution_count": 24,
   "metadata": {},
   "outputs": [
    {
     "name": "stdout",
     "output_type": "stream",
     "text": [
      "[[3.76235224 9.00406499 7.46580237 5.3973775  1.18969044 9.01297557\n",
      "  3.11321105 3.00177715 2.33548216 8.53108245]\n",
      " [0.33415112 3.54849501 8.17916256 7.87835627 0.44658338 6.51136393\n",
      "  7.43541968 1.37173413 6.31018115 9.58883635]]\n",
      "[-3.42820111 -5.45556998  0.71336019  2.48097877 -0.74310706 -2.50161164\n",
      "  4.32220863 -1.63004302  3.97469899  1.05775389]\n"
     ]
    }
   ],
   "source": [
    "two_points_nd = generate_random_point_nd(num_points=2, n=N_FEATURES)\n",
    "assert two_points_nd.shape[0] == 2\n",
    "assert two_points_nd.shape[1] == N_FEATURES\n",
    "print(two_points_nd)\n",
    "# get vector for these two points\n",
    "v = get_vector_two_points(two_points_nd)\n",
    "print(v)"
   ]
  },
  {
   "cell_type": "code",
   "execution_count": 25,
   "metadata": {},
   "outputs": [],
   "source": [
    "gamma_coeff = generate_gamma()\n",
    "\n",
    "generated_points = generate_new_point(two_points_nd[0], v, gamma_coeff)[np.newaxis, :]\n",
    "\n",
    "for i in range(NUM_RAND_POINTS - 1):\n",
    "    gamma_coeff = generate_gamma()\n",
    "    generated_points = np.concatenate((generate_new_point(two_points_nd[0], v, gamma_coeff)[np.newaxis, :], generated_points),\n",
    "                                      axis=0)\n",
    "    \n",
    "assert generated_points.shape[0] == NUM_RAND_POINTS\n",
    "assert generated_points.shape[1] == N_FEATURES"
   ]
  },
  {
   "cell_type": "code",
   "execution_count": 26,
   "metadata": {},
   "outputs": [],
   "source": [
    "assert test_points_on_line(two_points_nd[0], two_points_nd[1], generated_points)"
   ]
  },
  {
   "cell_type": "code",
   "execution_count": null,
   "metadata": {},
   "outputs": [],
   "source": []
  },
  {
   "cell_type": "code",
   "execution_count": null,
   "metadata": {},
   "outputs": [],
   "source": []
  }
 ],
 "metadata": {
  "colab": {
   "name": "Research_gamma.ipynb",
   "provenance": []
  },
  "kernelspec": {
   "display_name": ".venv",
   "language": "python",
   "name": ".venv"
  },
  "language_info": {
   "codemirror_mode": {
    "name": "ipython",
    "version": 3
   },
   "file_extension": ".py",
   "mimetype": "text/x-python",
   "name": "python",
   "nbconvert_exporter": "python",
   "pygments_lexer": "ipython3",
   "version": "3.7.4"
  }
 },
 "nbformat": 4,
 "nbformat_minor": 1
}
